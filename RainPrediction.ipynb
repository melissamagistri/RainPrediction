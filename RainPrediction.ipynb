{
 "cells": [
  {
   "cell_type": "code",
   "execution_count": 1,
   "id": "18cc6bc3",
   "metadata": {},
   "outputs": [],
   "source": [
    "# scommentare in caso non si abbia installata la libreria imblearn\n",
    "# pip install imblearn"
   ]
  },
  {
   "cell_type": "code",
   "execution_count": 2,
   "id": "3b443f3a",
   "metadata": {},
   "outputs": [],
   "source": [
    "import numpy as np\n",
    "import pandas as pd\n",
    "import matplotlib.pyplot as plt\n",
    "import seaborn as sns\n",
    "from imblearn.over_sampling import SMOTE"
   ]
  },
  {
   "cell_type": "markdown",
   "id": "dca021e1",
   "metadata": {},
   "source": [
    "# DESCRIZIONE del PROBLEMA \n",
    "Il dataset in analisi contiene informazioni riguardanti le statiche per giorno, dall'anno 2008 fino al 2018, e per locazione, cioè nello stato australiano. \n",
    "L'obbiettivo del dataset è predirre se il giorno successivo pioverà.\n",
    "Questo viene fatto nella colonna 'RainTomorrow'."
   ]
  },
  {
   "cell_type": "code",
   "execution_count": 3,
   "id": "1187690f",
   "metadata": {},
   "outputs": [],
   "source": [
    "dataset = pd.read_csv('weatherAUS.csv')"
   ]
  },
  {
   "cell_type": "code",
   "execution_count": 4,
   "id": "b026f43b",
   "metadata": {},
   "outputs": [],
   "source": [
    "pd.options.display.max_columns = 24"
   ]
  },
  {
   "cell_type": "code",
   "execution_count": 5,
   "id": "9a98f430",
   "metadata": {},
   "outputs": [
    {
     "data": {
      "text/html": [
       "<div>\n",
       "<style scoped>\n",
       "    .dataframe tbody tr th:only-of-type {\n",
       "        vertical-align: middle;\n",
       "    }\n",
       "\n",
       "    .dataframe tbody tr th {\n",
       "        vertical-align: top;\n",
       "    }\n",
       "\n",
       "    .dataframe thead th {\n",
       "        text-align: right;\n",
       "    }\n",
       "</style>\n",
       "<table border=\"1\" class=\"dataframe\">\n",
       "  <thead>\n",
       "    <tr style=\"text-align: right;\">\n",
       "      <th></th>\n",
       "      <th>Date</th>\n",
       "      <th>Location</th>\n",
       "      <th>MinTemp</th>\n",
       "      <th>MaxTemp</th>\n",
       "      <th>Rainfall</th>\n",
       "      <th>Evaporation</th>\n",
       "      <th>Sunshine</th>\n",
       "      <th>WindGustDir</th>\n",
       "      <th>WindGustSpeed</th>\n",
       "      <th>WindDir9am</th>\n",
       "      <th>WindDir3pm</th>\n",
       "      <th>WindSpeed9am</th>\n",
       "      <th>WindSpeed3pm</th>\n",
       "      <th>Humidity9am</th>\n",
       "      <th>Humidity3pm</th>\n",
       "      <th>Pressure9am</th>\n",
       "      <th>Pressure3pm</th>\n",
       "      <th>Cloud9am</th>\n",
       "      <th>Cloud3pm</th>\n",
       "      <th>Temp9am</th>\n",
       "      <th>Temp3pm</th>\n",
       "      <th>RainToday</th>\n",
       "      <th>RainTomorrow</th>\n",
       "    </tr>\n",
       "  </thead>\n",
       "  <tbody>\n",
       "    <tr>\n",
       "      <th>0</th>\n",
       "      <td>2008-12-01</td>\n",
       "      <td>Albury</td>\n",
       "      <td>13.4</td>\n",
       "      <td>22.9</td>\n",
       "      <td>0.6</td>\n",
       "      <td>NaN</td>\n",
       "      <td>NaN</td>\n",
       "      <td>W</td>\n",
       "      <td>44.0</td>\n",
       "      <td>W</td>\n",
       "      <td>WNW</td>\n",
       "      <td>20.0</td>\n",
       "      <td>24.0</td>\n",
       "      <td>71.0</td>\n",
       "      <td>22.0</td>\n",
       "      <td>1007.7</td>\n",
       "      <td>1007.1</td>\n",
       "      <td>8.0</td>\n",
       "      <td>NaN</td>\n",
       "      <td>16.9</td>\n",
       "      <td>21.8</td>\n",
       "      <td>No</td>\n",
       "      <td>No</td>\n",
       "    </tr>\n",
       "    <tr>\n",
       "      <th>1</th>\n",
       "      <td>2008-12-02</td>\n",
       "      <td>Albury</td>\n",
       "      <td>7.4</td>\n",
       "      <td>25.1</td>\n",
       "      <td>0.0</td>\n",
       "      <td>NaN</td>\n",
       "      <td>NaN</td>\n",
       "      <td>WNW</td>\n",
       "      <td>44.0</td>\n",
       "      <td>NNW</td>\n",
       "      <td>WSW</td>\n",
       "      <td>4.0</td>\n",
       "      <td>22.0</td>\n",
       "      <td>44.0</td>\n",
       "      <td>25.0</td>\n",
       "      <td>1010.6</td>\n",
       "      <td>1007.8</td>\n",
       "      <td>NaN</td>\n",
       "      <td>NaN</td>\n",
       "      <td>17.2</td>\n",
       "      <td>24.3</td>\n",
       "      <td>No</td>\n",
       "      <td>No</td>\n",
       "    </tr>\n",
       "    <tr>\n",
       "      <th>2</th>\n",
       "      <td>2008-12-03</td>\n",
       "      <td>Albury</td>\n",
       "      <td>12.9</td>\n",
       "      <td>25.7</td>\n",
       "      <td>0.0</td>\n",
       "      <td>NaN</td>\n",
       "      <td>NaN</td>\n",
       "      <td>WSW</td>\n",
       "      <td>46.0</td>\n",
       "      <td>W</td>\n",
       "      <td>WSW</td>\n",
       "      <td>19.0</td>\n",
       "      <td>26.0</td>\n",
       "      <td>38.0</td>\n",
       "      <td>30.0</td>\n",
       "      <td>1007.6</td>\n",
       "      <td>1008.7</td>\n",
       "      <td>NaN</td>\n",
       "      <td>2.0</td>\n",
       "      <td>21.0</td>\n",
       "      <td>23.2</td>\n",
       "      <td>No</td>\n",
       "      <td>No</td>\n",
       "    </tr>\n",
       "    <tr>\n",
       "      <th>3</th>\n",
       "      <td>2008-12-04</td>\n",
       "      <td>Albury</td>\n",
       "      <td>9.2</td>\n",
       "      <td>28.0</td>\n",
       "      <td>0.0</td>\n",
       "      <td>NaN</td>\n",
       "      <td>NaN</td>\n",
       "      <td>NE</td>\n",
       "      <td>24.0</td>\n",
       "      <td>SE</td>\n",
       "      <td>E</td>\n",
       "      <td>11.0</td>\n",
       "      <td>9.0</td>\n",
       "      <td>45.0</td>\n",
       "      <td>16.0</td>\n",
       "      <td>1017.6</td>\n",
       "      <td>1012.8</td>\n",
       "      <td>NaN</td>\n",
       "      <td>NaN</td>\n",
       "      <td>18.1</td>\n",
       "      <td>26.5</td>\n",
       "      <td>No</td>\n",
       "      <td>No</td>\n",
       "    </tr>\n",
       "    <tr>\n",
       "      <th>4</th>\n",
       "      <td>2008-12-05</td>\n",
       "      <td>Albury</td>\n",
       "      <td>17.5</td>\n",
       "      <td>32.3</td>\n",
       "      <td>1.0</td>\n",
       "      <td>NaN</td>\n",
       "      <td>NaN</td>\n",
       "      <td>W</td>\n",
       "      <td>41.0</td>\n",
       "      <td>ENE</td>\n",
       "      <td>NW</td>\n",
       "      <td>7.0</td>\n",
       "      <td>20.0</td>\n",
       "      <td>82.0</td>\n",
       "      <td>33.0</td>\n",
       "      <td>1010.8</td>\n",
       "      <td>1006.0</td>\n",
       "      <td>7.0</td>\n",
       "      <td>8.0</td>\n",
       "      <td>17.8</td>\n",
       "      <td>29.7</td>\n",
       "      <td>No</td>\n",
       "      <td>No</td>\n",
       "    </tr>\n",
       "  </tbody>\n",
       "</table>\n",
       "</div>"
      ],
      "text/plain": [
       "         Date Location  MinTemp  MaxTemp  Rainfall  Evaporation  Sunshine  \\\n",
       "0  2008-12-01   Albury     13.4     22.9       0.6          NaN       NaN   \n",
       "1  2008-12-02   Albury      7.4     25.1       0.0          NaN       NaN   \n",
       "2  2008-12-03   Albury     12.9     25.7       0.0          NaN       NaN   \n",
       "3  2008-12-04   Albury      9.2     28.0       0.0          NaN       NaN   \n",
       "4  2008-12-05   Albury     17.5     32.3       1.0          NaN       NaN   \n",
       "\n",
       "  WindGustDir  WindGustSpeed WindDir9am WindDir3pm  WindSpeed9am  \\\n",
       "0           W           44.0          W        WNW          20.0   \n",
       "1         WNW           44.0        NNW        WSW           4.0   \n",
       "2         WSW           46.0          W        WSW          19.0   \n",
       "3          NE           24.0         SE          E          11.0   \n",
       "4           W           41.0        ENE         NW           7.0   \n",
       "\n",
       "   WindSpeed3pm  Humidity9am  Humidity3pm  Pressure9am  Pressure3pm  Cloud9am  \\\n",
       "0          24.0         71.0         22.0       1007.7       1007.1       8.0   \n",
       "1          22.0         44.0         25.0       1010.6       1007.8       NaN   \n",
       "2          26.0         38.0         30.0       1007.6       1008.7       NaN   \n",
       "3           9.0         45.0         16.0       1017.6       1012.8       NaN   \n",
       "4          20.0         82.0         33.0       1010.8       1006.0       7.0   \n",
       "\n",
       "   Cloud3pm  Temp9am  Temp3pm RainToday RainTomorrow  \n",
       "0       NaN     16.9     21.8        No           No  \n",
       "1       NaN     17.2     24.3        No           No  \n",
       "2       2.0     21.0     23.2        No           No  \n",
       "3       NaN     18.1     26.5        No           No  \n",
       "4       8.0     17.8     29.7        No           No  "
      ]
     },
     "execution_count": 5,
     "metadata": {},
     "output_type": "execute_result"
    }
   ],
   "source": [
    "dataset.head()"
   ]
  },
  {
   "cell_type": "code",
   "execution_count": 5,
   "id": "51fc2904",
   "metadata": {},
   "outputs": [],
   "source": [
    "dataset['Date']= pd.to_datetime(dataset[\"Date\"])\n",
    "#Creazione della colonna year \n",
    "dataset['year'] = dataset.Date.dt.year"
   ]
  },
  {
   "cell_type": "markdown",
   "id": "66a298d8",
   "metadata": {},
   "source": [
    "Le Features del dataset sono le seguenti, visibili nella tabella del dataset:\n",
    "1. `Date`: il giorno del mese della predizione.\n",
    "2. `Location`: la città di analisi. \n",
    "3. `MinTemp`: temperatura più bassa per giornata in gradi.\n",
    "4. `MaxTemp`: temperatura più alta per giornata in gradi.\n",
    "5. `RainFall`: la quantità di precipitazioni registrate per la giornata in mm.\n",
    "6. `Evaporation`: la cosiddetta evaporazione in padella di Classe A (mm) nelle 24 ore alle 9 del mattino.\n",
    "7. `Sunshine`: il numero di ore di sole nel corso della giornata.\n",
    "8. `WindGustDir`: la direzione della raffica di vento più forte nelle 24 ore fino a mezzanotte.\n",
    "9. `WindGustSpeed`: la velocità (km/h) della raffica di vento più forte nelle 24 ore fino a mezzanotte.\n",
    "10. `WindDir9am`: direzione del vento alle 9am. \n",
    "11. `WindDir3pm`: direzione del vento alle 3pm. \n",
    "12. `WindSpeed9am`: velocità media del vento in 10 minuti 9am.\n",
    "13. `WindSpeed3pm`: velocità media del vento in 10 minuti 3pm.\n",
    "14. `Humidity9am`: umidità (percentuale) alle 9am.\n",
    "15. `Humidity3pm`: umidità (percentuale) alle 3pm.\n",
    "16. `Pressure9am`: pressione atmosferica (hpa) a livello del mare alle 9am.\n",
    "17. `Pressure3pm`: pressione atmosferica (hpa) a livello del mare alle 3pm.\n",
    "18. `Cloud9am`: porzione di cielo nuvoloso alle 9am (in \"oktas\": eighths).\n",
    "19. `Cloud3pm`: porzione di cielo nuvoloso alle 3pm (in \"oktas\": eighths).\n",
    "20. `Temp9am`: Temperatura (gradi C) alle 9am.\n",
    "21. `Temp3pm`: Temperatura (gradi C) alle 3pm.\n",
    "22. `RainToday`: variabile categorica che indica se ha piovuto il giorno stesso.\n",
    "23. `RainTomorrow`: variabile categorica che indica se pioverà il giorno successivo."
   ]
  },
  {
   "cell_type": "markdown",
   "id": "7c8ddeee",
   "metadata": {},
   "source": [
    "La variabile da predirre è `RainTomorrow`; tutte le altre variabili le utilizzeremo com features"
   ]
  },
  {
   "cell_type": "markdown",
   "id": "3dc62094",
   "metadata": {},
   "source": [
    "`id` identifica univocamente i record del dataset, ma non avendo alcuna importanza ai fini della predizione, si procede a sostituire l'indice del dataframe pandas con  la colonna `Date`."
   ]
  },
  {
   "cell_type": "code",
   "execution_count": 6,
   "id": "a937efce",
   "metadata": {},
   "outputs": [
    {
     "data": {
      "text/html": [
       "<div>\n",
       "<style scoped>\n",
       "    .dataframe tbody tr th:only-of-type {\n",
       "        vertical-align: middle;\n",
       "    }\n",
       "\n",
       "    .dataframe tbody tr th {\n",
       "        vertical-align: top;\n",
       "    }\n",
       "\n",
       "    .dataframe thead th {\n",
       "        text-align: right;\n",
       "    }\n",
       "</style>\n",
       "<table border=\"1\" class=\"dataframe\">\n",
       "  <thead>\n",
       "    <tr style=\"text-align: right;\">\n",
       "      <th></th>\n",
       "      <th>Location</th>\n",
       "      <th>MinTemp</th>\n",
       "      <th>MaxTemp</th>\n",
       "      <th>Rainfall</th>\n",
       "      <th>Evaporation</th>\n",
       "      <th>Sunshine</th>\n",
       "      <th>WindGustDir</th>\n",
       "      <th>WindGustSpeed</th>\n",
       "      <th>WindDir9am</th>\n",
       "      <th>WindDir3pm</th>\n",
       "      <th>WindSpeed9am</th>\n",
       "      <th>WindSpeed3pm</th>\n",
       "      <th>Humidity9am</th>\n",
       "      <th>Humidity3pm</th>\n",
       "      <th>Pressure9am</th>\n",
       "      <th>Pressure3pm</th>\n",
       "      <th>Cloud9am</th>\n",
       "      <th>Cloud3pm</th>\n",
       "      <th>Temp9am</th>\n",
       "      <th>Temp3pm</th>\n",
       "      <th>RainToday</th>\n",
       "      <th>RainTomorrow</th>\n",
       "      <th>year</th>\n",
       "    </tr>\n",
       "    <tr>\n",
       "      <th>Date</th>\n",
       "      <th></th>\n",
       "      <th></th>\n",
       "      <th></th>\n",
       "      <th></th>\n",
       "      <th></th>\n",
       "      <th></th>\n",
       "      <th></th>\n",
       "      <th></th>\n",
       "      <th></th>\n",
       "      <th></th>\n",
       "      <th></th>\n",
       "      <th></th>\n",
       "      <th></th>\n",
       "      <th></th>\n",
       "      <th></th>\n",
       "      <th></th>\n",
       "      <th></th>\n",
       "      <th></th>\n",
       "      <th></th>\n",
       "      <th></th>\n",
       "      <th></th>\n",
       "      <th></th>\n",
       "      <th></th>\n",
       "    </tr>\n",
       "  </thead>\n",
       "  <tbody>\n",
       "    <tr>\n",
       "      <th>2008-12-01</th>\n",
       "      <td>Albury</td>\n",
       "      <td>13.4</td>\n",
       "      <td>22.9</td>\n",
       "      <td>0.6</td>\n",
       "      <td>NaN</td>\n",
       "      <td>NaN</td>\n",
       "      <td>W</td>\n",
       "      <td>44.0</td>\n",
       "      <td>W</td>\n",
       "      <td>WNW</td>\n",
       "      <td>20.0</td>\n",
       "      <td>24.0</td>\n",
       "      <td>71.0</td>\n",
       "      <td>22.0</td>\n",
       "      <td>1007.7</td>\n",
       "      <td>1007.1</td>\n",
       "      <td>8.0</td>\n",
       "      <td>NaN</td>\n",
       "      <td>16.9</td>\n",
       "      <td>21.8</td>\n",
       "      <td>No</td>\n",
       "      <td>No</td>\n",
       "      <td>2008</td>\n",
       "    </tr>\n",
       "    <tr>\n",
       "      <th>2008-12-02</th>\n",
       "      <td>Albury</td>\n",
       "      <td>7.4</td>\n",
       "      <td>25.1</td>\n",
       "      <td>0.0</td>\n",
       "      <td>NaN</td>\n",
       "      <td>NaN</td>\n",
       "      <td>WNW</td>\n",
       "      <td>44.0</td>\n",
       "      <td>NNW</td>\n",
       "      <td>WSW</td>\n",
       "      <td>4.0</td>\n",
       "      <td>22.0</td>\n",
       "      <td>44.0</td>\n",
       "      <td>25.0</td>\n",
       "      <td>1010.6</td>\n",
       "      <td>1007.8</td>\n",
       "      <td>NaN</td>\n",
       "      <td>NaN</td>\n",
       "      <td>17.2</td>\n",
       "      <td>24.3</td>\n",
       "      <td>No</td>\n",
       "      <td>No</td>\n",
       "      <td>2008</td>\n",
       "    </tr>\n",
       "    <tr>\n",
       "      <th>2008-12-03</th>\n",
       "      <td>Albury</td>\n",
       "      <td>12.9</td>\n",
       "      <td>25.7</td>\n",
       "      <td>0.0</td>\n",
       "      <td>NaN</td>\n",
       "      <td>NaN</td>\n",
       "      <td>WSW</td>\n",
       "      <td>46.0</td>\n",
       "      <td>W</td>\n",
       "      <td>WSW</td>\n",
       "      <td>19.0</td>\n",
       "      <td>26.0</td>\n",
       "      <td>38.0</td>\n",
       "      <td>30.0</td>\n",
       "      <td>1007.6</td>\n",
       "      <td>1008.7</td>\n",
       "      <td>NaN</td>\n",
       "      <td>2.0</td>\n",
       "      <td>21.0</td>\n",
       "      <td>23.2</td>\n",
       "      <td>No</td>\n",
       "      <td>No</td>\n",
       "      <td>2008</td>\n",
       "    </tr>\n",
       "    <tr>\n",
       "      <th>2008-12-04</th>\n",
       "      <td>Albury</td>\n",
       "      <td>9.2</td>\n",
       "      <td>28.0</td>\n",
       "      <td>0.0</td>\n",
       "      <td>NaN</td>\n",
       "      <td>NaN</td>\n",
       "      <td>NE</td>\n",
       "      <td>24.0</td>\n",
       "      <td>SE</td>\n",
       "      <td>E</td>\n",
       "      <td>11.0</td>\n",
       "      <td>9.0</td>\n",
       "      <td>45.0</td>\n",
       "      <td>16.0</td>\n",
       "      <td>1017.6</td>\n",
       "      <td>1012.8</td>\n",
       "      <td>NaN</td>\n",
       "      <td>NaN</td>\n",
       "      <td>18.1</td>\n",
       "      <td>26.5</td>\n",
       "      <td>No</td>\n",
       "      <td>No</td>\n",
       "      <td>2008</td>\n",
       "    </tr>\n",
       "    <tr>\n",
       "      <th>2008-12-05</th>\n",
       "      <td>Albury</td>\n",
       "      <td>17.5</td>\n",
       "      <td>32.3</td>\n",
       "      <td>1.0</td>\n",
       "      <td>NaN</td>\n",
       "      <td>NaN</td>\n",
       "      <td>W</td>\n",
       "      <td>41.0</td>\n",
       "      <td>ENE</td>\n",
       "      <td>NW</td>\n",
       "      <td>7.0</td>\n",
       "      <td>20.0</td>\n",
       "      <td>82.0</td>\n",
       "      <td>33.0</td>\n",
       "      <td>1010.8</td>\n",
       "      <td>1006.0</td>\n",
       "      <td>7.0</td>\n",
       "      <td>8.0</td>\n",
       "      <td>17.8</td>\n",
       "      <td>29.7</td>\n",
       "      <td>No</td>\n",
       "      <td>No</td>\n",
       "      <td>2008</td>\n",
       "    </tr>\n",
       "  </tbody>\n",
       "</table>\n",
       "</div>"
      ],
      "text/plain": [
       "           Location  MinTemp  MaxTemp  Rainfall  Evaporation  Sunshine  \\\n",
       "Date                                                                     \n",
       "2008-12-01   Albury     13.4     22.9       0.6          NaN       NaN   \n",
       "2008-12-02   Albury      7.4     25.1       0.0          NaN       NaN   \n",
       "2008-12-03   Albury     12.9     25.7       0.0          NaN       NaN   \n",
       "2008-12-04   Albury      9.2     28.0       0.0          NaN       NaN   \n",
       "2008-12-05   Albury     17.5     32.3       1.0          NaN       NaN   \n",
       "\n",
       "           WindGustDir  WindGustSpeed WindDir9am WindDir3pm  WindSpeed9am  \\\n",
       "Date                                                                        \n",
       "2008-12-01           W           44.0          W        WNW          20.0   \n",
       "2008-12-02         WNW           44.0        NNW        WSW           4.0   \n",
       "2008-12-03         WSW           46.0          W        WSW          19.0   \n",
       "2008-12-04          NE           24.0         SE          E          11.0   \n",
       "2008-12-05           W           41.0        ENE         NW           7.0   \n",
       "\n",
       "            WindSpeed3pm  Humidity9am  Humidity3pm  Pressure9am  Pressure3pm  \\\n",
       "Date                                                                           \n",
       "2008-12-01          24.0         71.0         22.0       1007.7       1007.1   \n",
       "2008-12-02          22.0         44.0         25.0       1010.6       1007.8   \n",
       "2008-12-03          26.0         38.0         30.0       1007.6       1008.7   \n",
       "2008-12-04           9.0         45.0         16.0       1017.6       1012.8   \n",
       "2008-12-05          20.0         82.0         33.0       1010.8       1006.0   \n",
       "\n",
       "            Cloud9am  Cloud3pm  Temp9am  Temp3pm RainToday RainTomorrow  year  \n",
       "Date                                                                           \n",
       "2008-12-01       8.0       NaN     16.9     21.8        No           No  2008  \n",
       "2008-12-02       NaN       NaN     17.2     24.3        No           No  2008  \n",
       "2008-12-03       NaN       2.0     21.0     23.2        No           No  2008  \n",
       "2008-12-04       NaN       NaN     18.1     26.5        No           No  2008  \n",
       "2008-12-05       7.0       8.0     17.8     29.7        No           No  2008  "
      ]
     },
     "execution_count": 6,
     "metadata": {},
     "output_type": "execute_result"
    }
   ],
   "source": [
    "dataset.set_index('Date',inplace=True)\n",
    "dataset.head()"
   ]
  },
  {
   "cell_type": "markdown",
   "id": "ad8e10d0",
   "metadata": {},
   "source": [
    "Ora analiziamo le statistiche per ogni feature."
   ]
  },
  {
   "cell_type": "code",
   "execution_count": 8,
   "id": "65b95e59",
   "metadata": {},
   "outputs": [
    {
     "data": {
      "text/html": [
       "<div>\n",
       "<style scoped>\n",
       "    .dataframe tbody tr th:only-of-type {\n",
       "        vertical-align: middle;\n",
       "    }\n",
       "\n",
       "    .dataframe tbody tr th {\n",
       "        vertical-align: top;\n",
       "    }\n",
       "\n",
       "    .dataframe thead th {\n",
       "        text-align: right;\n",
       "    }\n",
       "</style>\n",
       "<table border=\"1\" class=\"dataframe\">\n",
       "  <thead>\n",
       "    <tr style=\"text-align: right;\">\n",
       "      <th></th>\n",
       "      <th>MinTemp</th>\n",
       "      <th>MaxTemp</th>\n",
       "      <th>Rainfall</th>\n",
       "      <th>Evaporation</th>\n",
       "      <th>Sunshine</th>\n",
       "      <th>WindGustSpeed</th>\n",
       "      <th>WindSpeed9am</th>\n",
       "      <th>WindSpeed3pm</th>\n",
       "      <th>Humidity9am</th>\n",
       "      <th>Humidity3pm</th>\n",
       "      <th>Pressure9am</th>\n",
       "      <th>Pressure3pm</th>\n",
       "      <th>Cloud9am</th>\n",
       "      <th>Cloud3pm</th>\n",
       "      <th>Temp9am</th>\n",
       "      <th>Temp3pm</th>\n",
       "      <th>year</th>\n",
       "    </tr>\n",
       "  </thead>\n",
       "  <tbody>\n",
       "    <tr>\n",
       "      <th>count</th>\n",
       "      <td>143975.000000</td>\n",
       "      <td>144199.000000</td>\n",
       "      <td>142199.000000</td>\n",
       "      <td>82670.000000</td>\n",
       "      <td>75625.000000</td>\n",
       "      <td>135197.000000</td>\n",
       "      <td>143693.000000</td>\n",
       "      <td>142398.000000</td>\n",
       "      <td>142806.000000</td>\n",
       "      <td>140953.000000</td>\n",
       "      <td>130395.00000</td>\n",
       "      <td>130432.000000</td>\n",
       "      <td>89572.000000</td>\n",
       "      <td>86102.000000</td>\n",
       "      <td>143693.000000</td>\n",
       "      <td>141851.00000</td>\n",
       "      <td>145460.000000</td>\n",
       "    </tr>\n",
       "    <tr>\n",
       "      <th>mean</th>\n",
       "      <td>12.194034</td>\n",
       "      <td>23.221348</td>\n",
       "      <td>2.360918</td>\n",
       "      <td>5.468232</td>\n",
       "      <td>7.611178</td>\n",
       "      <td>40.035230</td>\n",
       "      <td>14.043426</td>\n",
       "      <td>18.662657</td>\n",
       "      <td>68.880831</td>\n",
       "      <td>51.539116</td>\n",
       "      <td>1017.64994</td>\n",
       "      <td>1015.255889</td>\n",
       "      <td>4.447461</td>\n",
       "      <td>4.509930</td>\n",
       "      <td>16.990631</td>\n",
       "      <td>21.68339</td>\n",
       "      <td>2012.769751</td>\n",
       "    </tr>\n",
       "    <tr>\n",
       "      <th>std</th>\n",
       "      <td>6.398495</td>\n",
       "      <td>7.119049</td>\n",
       "      <td>8.478060</td>\n",
       "      <td>4.193704</td>\n",
       "      <td>3.785483</td>\n",
       "      <td>13.607062</td>\n",
       "      <td>8.915375</td>\n",
       "      <td>8.809800</td>\n",
       "      <td>19.029164</td>\n",
       "      <td>20.795902</td>\n",
       "      <td>7.10653</td>\n",
       "      <td>7.037414</td>\n",
       "      <td>2.887159</td>\n",
       "      <td>2.720357</td>\n",
       "      <td>6.488753</td>\n",
       "      <td>6.93665</td>\n",
       "      <td>2.537684</td>\n",
       "    </tr>\n",
       "    <tr>\n",
       "      <th>min</th>\n",
       "      <td>-8.500000</td>\n",
       "      <td>-4.800000</td>\n",
       "      <td>0.000000</td>\n",
       "      <td>0.000000</td>\n",
       "      <td>0.000000</td>\n",
       "      <td>6.000000</td>\n",
       "      <td>0.000000</td>\n",
       "      <td>0.000000</td>\n",
       "      <td>0.000000</td>\n",
       "      <td>0.000000</td>\n",
       "      <td>980.50000</td>\n",
       "      <td>977.100000</td>\n",
       "      <td>0.000000</td>\n",
       "      <td>0.000000</td>\n",
       "      <td>-7.200000</td>\n",
       "      <td>-5.40000</td>\n",
       "      <td>2007.000000</td>\n",
       "    </tr>\n",
       "    <tr>\n",
       "      <th>25%</th>\n",
       "      <td>7.600000</td>\n",
       "      <td>17.900000</td>\n",
       "      <td>0.000000</td>\n",
       "      <td>2.600000</td>\n",
       "      <td>4.800000</td>\n",
       "      <td>31.000000</td>\n",
       "      <td>7.000000</td>\n",
       "      <td>13.000000</td>\n",
       "      <td>57.000000</td>\n",
       "      <td>37.000000</td>\n",
       "      <td>1012.90000</td>\n",
       "      <td>1010.400000</td>\n",
       "      <td>1.000000</td>\n",
       "      <td>2.000000</td>\n",
       "      <td>12.300000</td>\n",
       "      <td>16.60000</td>\n",
       "      <td>2011.000000</td>\n",
       "    </tr>\n",
       "    <tr>\n",
       "      <th>50%</th>\n",
       "      <td>12.000000</td>\n",
       "      <td>22.600000</td>\n",
       "      <td>0.000000</td>\n",
       "      <td>4.800000</td>\n",
       "      <td>8.400000</td>\n",
       "      <td>39.000000</td>\n",
       "      <td>13.000000</td>\n",
       "      <td>19.000000</td>\n",
       "      <td>70.000000</td>\n",
       "      <td>52.000000</td>\n",
       "      <td>1017.60000</td>\n",
       "      <td>1015.200000</td>\n",
       "      <td>5.000000</td>\n",
       "      <td>5.000000</td>\n",
       "      <td>16.700000</td>\n",
       "      <td>21.10000</td>\n",
       "      <td>2013.000000</td>\n",
       "    </tr>\n",
       "    <tr>\n",
       "      <th>75%</th>\n",
       "      <td>16.900000</td>\n",
       "      <td>28.200000</td>\n",
       "      <td>0.800000</td>\n",
       "      <td>7.400000</td>\n",
       "      <td>10.600000</td>\n",
       "      <td>48.000000</td>\n",
       "      <td>19.000000</td>\n",
       "      <td>24.000000</td>\n",
       "      <td>83.000000</td>\n",
       "      <td>66.000000</td>\n",
       "      <td>1022.40000</td>\n",
       "      <td>1020.000000</td>\n",
       "      <td>7.000000</td>\n",
       "      <td>7.000000</td>\n",
       "      <td>21.600000</td>\n",
       "      <td>26.40000</td>\n",
       "      <td>2015.000000</td>\n",
       "    </tr>\n",
       "    <tr>\n",
       "      <th>max</th>\n",
       "      <td>33.900000</td>\n",
       "      <td>48.100000</td>\n",
       "      <td>371.000000</td>\n",
       "      <td>145.000000</td>\n",
       "      <td>14.500000</td>\n",
       "      <td>135.000000</td>\n",
       "      <td>130.000000</td>\n",
       "      <td>87.000000</td>\n",
       "      <td>100.000000</td>\n",
       "      <td>100.000000</td>\n",
       "      <td>1041.00000</td>\n",
       "      <td>1039.600000</td>\n",
       "      <td>9.000000</td>\n",
       "      <td>9.000000</td>\n",
       "      <td>40.200000</td>\n",
       "      <td>46.70000</td>\n",
       "      <td>2017.000000</td>\n",
       "    </tr>\n",
       "  </tbody>\n",
       "</table>\n",
       "</div>"
      ],
      "text/plain": [
       "             MinTemp        MaxTemp       Rainfall   Evaporation  \\\n",
       "count  143975.000000  144199.000000  142199.000000  82670.000000   \n",
       "mean       12.194034      23.221348       2.360918      5.468232   \n",
       "std         6.398495       7.119049       8.478060      4.193704   \n",
       "min        -8.500000      -4.800000       0.000000      0.000000   \n",
       "25%         7.600000      17.900000       0.000000      2.600000   \n",
       "50%        12.000000      22.600000       0.000000      4.800000   \n",
       "75%        16.900000      28.200000       0.800000      7.400000   \n",
       "max        33.900000      48.100000     371.000000    145.000000   \n",
       "\n",
       "           Sunshine  WindGustSpeed   WindSpeed9am   WindSpeed3pm  \\\n",
       "count  75625.000000  135197.000000  143693.000000  142398.000000   \n",
       "mean       7.611178      40.035230      14.043426      18.662657   \n",
       "std        3.785483      13.607062       8.915375       8.809800   \n",
       "min        0.000000       6.000000       0.000000       0.000000   \n",
       "25%        4.800000      31.000000       7.000000      13.000000   \n",
       "50%        8.400000      39.000000      13.000000      19.000000   \n",
       "75%       10.600000      48.000000      19.000000      24.000000   \n",
       "max       14.500000     135.000000     130.000000      87.000000   \n",
       "\n",
       "         Humidity9am    Humidity3pm   Pressure9am    Pressure3pm  \\\n",
       "count  142806.000000  140953.000000  130395.00000  130432.000000   \n",
       "mean       68.880831      51.539116    1017.64994    1015.255889   \n",
       "std        19.029164      20.795902       7.10653       7.037414   \n",
       "min         0.000000       0.000000     980.50000     977.100000   \n",
       "25%        57.000000      37.000000    1012.90000    1010.400000   \n",
       "50%        70.000000      52.000000    1017.60000    1015.200000   \n",
       "75%        83.000000      66.000000    1022.40000    1020.000000   \n",
       "max       100.000000     100.000000    1041.00000    1039.600000   \n",
       "\n",
       "           Cloud9am      Cloud3pm        Temp9am       Temp3pm           year  \n",
       "count  89572.000000  86102.000000  143693.000000  141851.00000  145460.000000  \n",
       "mean       4.447461      4.509930      16.990631      21.68339    2012.769751  \n",
       "std        2.887159      2.720357       6.488753       6.93665       2.537684  \n",
       "min        0.000000      0.000000      -7.200000      -5.40000    2007.000000  \n",
       "25%        1.000000      2.000000      12.300000      16.60000    2011.000000  \n",
       "50%        5.000000      5.000000      16.700000      21.10000    2013.000000  \n",
       "75%        7.000000      7.000000      21.600000      26.40000    2015.000000  \n",
       "max        9.000000      9.000000      40.200000      46.70000    2017.000000  "
      ]
     },
     "execution_count": 8,
     "metadata": {},
     "output_type": "execute_result"
    }
   ],
   "source": [
    "dataset.describe()"
   ]
  },
  {
   "cell_type": "markdown",
   "id": "14fc0a73",
   "metadata": {},
   "source": [
    "Dalla tabella soprastante possiamo notare la presenza di valori nulli, sopratutto in corrispondenza della colonna Sunshine, Evaporation, Could9am e Could3pm. "
   ]
  },
  {
   "cell_type": "markdown",
   "id": "9b517f39",
   "metadata": {},
   "source": [
    "# Data Preprocessing\n",
    "\n",
    "Osserviamo la tipologia delle varibili del nostro dataset:"
   ]
  },
  {
   "cell_type": "code",
   "execution_count": 7,
   "id": "c5da3eb0",
   "metadata": {},
   "outputs": [
    {
     "name": "stdout",
     "output_type": "stream",
     "text": [
      "Variabili Numeriche:\n",
      "['MinTemp', 'MaxTemp', 'Rainfall', 'Evaporation', 'Sunshine', 'WindGustSpeed', 'WindSpeed9am', 'WindSpeed3pm', 'Humidity9am', 'Humidity3pm', 'Pressure9am', 'Pressure3pm', 'Cloud9am', 'Cloud3pm', 'Temp9am', 'Temp3pm']\n"
     ]
    }
   ],
   "source": [
    "num = (dataset.dtypes == \"float64\")\n",
    "num_cols = list(num[num].index)\n",
    "\n",
    "print(\"Variabili Numeriche:\")\n",
    "print(num_cols)"
   ]
  },
  {
   "cell_type": "code",
   "execution_count": 8,
   "id": "36bb326f",
   "metadata": {},
   "outputs": [
    {
     "name": "stdout",
     "output_type": "stream",
     "text": [
      "Variabili Categoriche:\n",
      "['Location', 'WindGustDir', 'WindDir9am', 'WindDir3pm', 'RainToday', 'RainTomorrow']\n"
     ]
    }
   ],
   "source": [
    "cat = (dataset.dtypes == \"object\")\n",
    "object_cols = list(cat[cat].index)\n",
    "\n",
    "print(\"Variabili Categoriche:\")\n",
    "print(object_cols)"
   ]
  },
  {
   "cell_type": "markdown",
   "id": "d75e9245",
   "metadata": {},
   "source": [
    "Ricerchiamo i valori Nan e li sostituiamo con '0' nelle variabili numeriche, mentre in quelle categoriche mettiamo la media, così da non avere problemi con essi nello studio dei dati."
   ]
  },
  {
   "cell_type": "code",
   "execution_count": 9,
   "id": "4efc0b9f",
   "metadata": {},
   "outputs": [],
   "source": [
    "for i in object_cols:\n",
    "    dataset[i].fillna(dataset[i].mode()[0], inplace=True)\n",
    "\n",
    "for i in num_cols:\n",
    "    dataset[i].fillna(0, inplace=True)"
   ]
  },
  {
   "cell_type": "markdown",
   "id": "a3dd249a",
   "metadata": {},
   "source": [
    "Utilizziamo LabelEncoder che ci permette di enumerare le label delle varibili categoriche: "
   ]
  },
  {
   "cell_type": "code",
   "execution_count": 10,
   "id": "63320677",
   "metadata": {},
   "outputs": [],
   "source": [
    "from sklearn.preprocessing import LabelEncoder\n",
    "label_encoder = LabelEncoder()\n",
    "for i in object_cols:\n",
    "    dataset[i] = label_encoder.fit_transform(dataset[i])"
   ]
  },
  {
   "cell_type": "code",
   "execution_count": 10,
   "id": "57f28f05",
   "metadata": {},
   "outputs": [
    {
     "name": "stdout",
     "output_type": "stream",
     "text": [
      "<class 'pandas.core.frame.DataFrame'>\n",
      "Index: 145460 entries, 2008-12-01 to 2017-06-25\n",
      "Data columns (total 22 columns):\n",
      " #   Column         Non-Null Count   Dtype  \n",
      "---  ------         --------------   -----  \n",
      " 0   Location       145460 non-null  int64  \n",
      " 1   MinTemp        145460 non-null  float64\n",
      " 2   MaxTemp        145460 non-null  float64\n",
      " 3   Rainfall       145460 non-null  float64\n",
      " 4   Evaporation    145460 non-null  float64\n",
      " 5   Sunshine       145460 non-null  float64\n",
      " 6   WindGustDir    145460 non-null  int64  \n",
      " 7   WindGustSpeed  145460 non-null  float64\n",
      " 8   WindDir9am     145460 non-null  int64  \n",
      " 9   WindDir3pm     145460 non-null  int64  \n",
      " 10  WindSpeed9am   145460 non-null  float64\n",
      " 11  WindSpeed3pm   145460 non-null  float64\n",
      " 12  Humidity9am    145460 non-null  float64\n",
      " 13  Humidity3pm    145460 non-null  float64\n",
      " 14  Pressure9am    145460 non-null  float64\n",
      " 15  Pressure3pm    145460 non-null  float64\n",
      " 16  Cloud9am       145460 non-null  float64\n",
      " 17  Cloud3pm       145460 non-null  float64\n",
      " 18  Temp9am        145460 non-null  float64\n",
      " 19  Temp3pm        145460 non-null  float64\n",
      " 20  RainToday      145460 non-null  int64  \n",
      " 21  RainTomorrow   145460 non-null  int64  \n",
      "dtypes: float64(16), int64(6)\n",
      "memory usage: 25.5+ MB\n"
     ]
    }
   ],
   "source": [
    "dataset.info()"
   ]
  },
  {
   "cell_type": "code",
   "execution_count": 14,
   "id": "24bdac0f",
   "metadata": {},
   "outputs": [
    {
     "data": {
      "text/html": [
       "<div>\n",
       "<style scoped>\n",
       "    .dataframe tbody tr th:only-of-type {\n",
       "        vertical-align: middle;\n",
       "    }\n",
       "\n",
       "    .dataframe tbody tr th {\n",
       "        vertical-align: top;\n",
       "    }\n",
       "\n",
       "    .dataframe thead th {\n",
       "        text-align: right;\n",
       "    }\n",
       "</style>\n",
       "<table border=\"1\" class=\"dataframe\">\n",
       "  <thead>\n",
       "    <tr style=\"text-align: right;\">\n",
       "      <th></th>\n",
       "      <th>Location</th>\n",
       "      <th>MinTemp</th>\n",
       "      <th>MaxTemp</th>\n",
       "      <th>Rainfall</th>\n",
       "      <th>Evaporation</th>\n",
       "      <th>Sunshine</th>\n",
       "      <th>WindGustDir</th>\n",
       "      <th>WindGustSpeed</th>\n",
       "      <th>WindDir9am</th>\n",
       "      <th>WindDir3pm</th>\n",
       "      <th>WindSpeed9am</th>\n",
       "      <th>WindSpeed3pm</th>\n",
       "      <th>Humidity9am</th>\n",
       "      <th>Humidity3pm</th>\n",
       "      <th>Pressure9am</th>\n",
       "      <th>Pressure3pm</th>\n",
       "      <th>Cloud9am</th>\n",
       "      <th>Cloud3pm</th>\n",
       "      <th>Temp9am</th>\n",
       "      <th>Temp3pm</th>\n",
       "      <th>RainToday</th>\n",
       "      <th>RainTomorrow</th>\n",
       "      <th>year</th>\n",
       "    </tr>\n",
       "    <tr>\n",
       "      <th>Date</th>\n",
       "      <th></th>\n",
       "      <th></th>\n",
       "      <th></th>\n",
       "      <th></th>\n",
       "      <th></th>\n",
       "      <th></th>\n",
       "      <th></th>\n",
       "      <th></th>\n",
       "      <th></th>\n",
       "      <th></th>\n",
       "      <th></th>\n",
       "      <th></th>\n",
       "      <th></th>\n",
       "      <th></th>\n",
       "      <th></th>\n",
       "      <th></th>\n",
       "      <th></th>\n",
       "      <th></th>\n",
       "      <th></th>\n",
       "      <th></th>\n",
       "      <th></th>\n",
       "      <th></th>\n",
       "      <th></th>\n",
       "    </tr>\n",
       "  </thead>\n",
       "  <tbody>\n",
       "    <tr>\n",
       "      <th>2008-12-01</th>\n",
       "      <td>2</td>\n",
       "      <td>13.4</td>\n",
       "      <td>22.9</td>\n",
       "      <td>0.6</td>\n",
       "      <td>0.0</td>\n",
       "      <td>0.0</td>\n",
       "      <td>13</td>\n",
       "      <td>44.0</td>\n",
       "      <td>13</td>\n",
       "      <td>14</td>\n",
       "      <td>20.0</td>\n",
       "      <td>24.0</td>\n",
       "      <td>71.0</td>\n",
       "      <td>22.0</td>\n",
       "      <td>1007.7</td>\n",
       "      <td>1007.1</td>\n",
       "      <td>8.0</td>\n",
       "      <td>0.0</td>\n",
       "      <td>16.9</td>\n",
       "      <td>21.8</td>\n",
       "      <td>0</td>\n",
       "      <td>0</td>\n",
       "      <td>2008</td>\n",
       "    </tr>\n",
       "    <tr>\n",
       "      <th>2008-12-02</th>\n",
       "      <td>2</td>\n",
       "      <td>7.4</td>\n",
       "      <td>25.1</td>\n",
       "      <td>0.0</td>\n",
       "      <td>0.0</td>\n",
       "      <td>0.0</td>\n",
       "      <td>14</td>\n",
       "      <td>44.0</td>\n",
       "      <td>6</td>\n",
       "      <td>15</td>\n",
       "      <td>4.0</td>\n",
       "      <td>22.0</td>\n",
       "      <td>44.0</td>\n",
       "      <td>25.0</td>\n",
       "      <td>1010.6</td>\n",
       "      <td>1007.8</td>\n",
       "      <td>0.0</td>\n",
       "      <td>0.0</td>\n",
       "      <td>17.2</td>\n",
       "      <td>24.3</td>\n",
       "      <td>0</td>\n",
       "      <td>0</td>\n",
       "      <td>2008</td>\n",
       "    </tr>\n",
       "    <tr>\n",
       "      <th>2008-12-03</th>\n",
       "      <td>2</td>\n",
       "      <td>12.9</td>\n",
       "      <td>25.7</td>\n",
       "      <td>0.0</td>\n",
       "      <td>0.0</td>\n",
       "      <td>0.0</td>\n",
       "      <td>15</td>\n",
       "      <td>46.0</td>\n",
       "      <td>13</td>\n",
       "      <td>15</td>\n",
       "      <td>19.0</td>\n",
       "      <td>26.0</td>\n",
       "      <td>38.0</td>\n",
       "      <td>30.0</td>\n",
       "      <td>1007.6</td>\n",
       "      <td>1008.7</td>\n",
       "      <td>0.0</td>\n",
       "      <td>2.0</td>\n",
       "      <td>21.0</td>\n",
       "      <td>23.2</td>\n",
       "      <td>0</td>\n",
       "      <td>0</td>\n",
       "      <td>2008</td>\n",
       "    </tr>\n",
       "    <tr>\n",
       "      <th>2008-12-04</th>\n",
       "      <td>2</td>\n",
       "      <td>9.2</td>\n",
       "      <td>28.0</td>\n",
       "      <td>0.0</td>\n",
       "      <td>0.0</td>\n",
       "      <td>0.0</td>\n",
       "      <td>4</td>\n",
       "      <td>24.0</td>\n",
       "      <td>9</td>\n",
       "      <td>0</td>\n",
       "      <td>11.0</td>\n",
       "      <td>9.0</td>\n",
       "      <td>45.0</td>\n",
       "      <td>16.0</td>\n",
       "      <td>1017.6</td>\n",
       "      <td>1012.8</td>\n",
       "      <td>0.0</td>\n",
       "      <td>0.0</td>\n",
       "      <td>18.1</td>\n",
       "      <td>26.5</td>\n",
       "      <td>0</td>\n",
       "      <td>0</td>\n",
       "      <td>2008</td>\n",
       "    </tr>\n",
       "    <tr>\n",
       "      <th>2008-12-05</th>\n",
       "      <td>2</td>\n",
       "      <td>17.5</td>\n",
       "      <td>32.3</td>\n",
       "      <td>1.0</td>\n",
       "      <td>0.0</td>\n",
       "      <td>0.0</td>\n",
       "      <td>13</td>\n",
       "      <td>41.0</td>\n",
       "      <td>1</td>\n",
       "      <td>7</td>\n",
       "      <td>7.0</td>\n",
       "      <td>20.0</td>\n",
       "      <td>82.0</td>\n",
       "      <td>33.0</td>\n",
       "      <td>1010.8</td>\n",
       "      <td>1006.0</td>\n",
       "      <td>7.0</td>\n",
       "      <td>8.0</td>\n",
       "      <td>17.8</td>\n",
       "      <td>29.7</td>\n",
       "      <td>0</td>\n",
       "      <td>0</td>\n",
       "      <td>2008</td>\n",
       "    </tr>\n",
       "    <tr>\n",
       "      <th>...</th>\n",
       "      <td>...</td>\n",
       "      <td>...</td>\n",
       "      <td>...</td>\n",
       "      <td>...</td>\n",
       "      <td>...</td>\n",
       "      <td>...</td>\n",
       "      <td>...</td>\n",
       "      <td>...</td>\n",
       "      <td>...</td>\n",
       "      <td>...</td>\n",
       "      <td>...</td>\n",
       "      <td>...</td>\n",
       "      <td>...</td>\n",
       "      <td>...</td>\n",
       "      <td>...</td>\n",
       "      <td>...</td>\n",
       "      <td>...</td>\n",
       "      <td>...</td>\n",
       "      <td>...</td>\n",
       "      <td>...</td>\n",
       "      <td>...</td>\n",
       "      <td>...</td>\n",
       "      <td>...</td>\n",
       "    </tr>\n",
       "    <tr>\n",
       "      <th>2009-03-26</th>\n",
       "      <td>2</td>\n",
       "      <td>13.3</td>\n",
       "      <td>29.8</td>\n",
       "      <td>1.8</td>\n",
       "      <td>0.0</td>\n",
       "      <td>0.0</td>\n",
       "      <td>15</td>\n",
       "      <td>33.0</td>\n",
       "      <td>3</td>\n",
       "      <td>14</td>\n",
       "      <td>0.0</td>\n",
       "      <td>20.0</td>\n",
       "      <td>87.0</td>\n",
       "      <td>26.0</td>\n",
       "      <td>1019.1</td>\n",
       "      <td>1017.2</td>\n",
       "      <td>0.0</td>\n",
       "      <td>6.0</td>\n",
       "      <td>16.2</td>\n",
       "      <td>29.2</td>\n",
       "      <td>1</td>\n",
       "      <td>0</td>\n",
       "      <td>2009</td>\n",
       "    </tr>\n",
       "    <tr>\n",
       "      <th>2009-03-27</th>\n",
       "      <td>2</td>\n",
       "      <td>10.1</td>\n",
       "      <td>27.6</td>\n",
       "      <td>0.0</td>\n",
       "      <td>0.0</td>\n",
       "      <td>0.0</td>\n",
       "      <td>14</td>\n",
       "      <td>43.0</td>\n",
       "      <td>3</td>\n",
       "      <td>13</td>\n",
       "      <td>0.0</td>\n",
       "      <td>11.0</td>\n",
       "      <td>63.0</td>\n",
       "      <td>30.0</td>\n",
       "      <td>1023.0</td>\n",
       "      <td>1020.7</td>\n",
       "      <td>0.0</td>\n",
       "      <td>0.0</td>\n",
       "      <td>16.5</td>\n",
       "      <td>26.8</td>\n",
       "      <td>0</td>\n",
       "      <td>0</td>\n",
       "      <td>2009</td>\n",
       "    </tr>\n",
       "    <tr>\n",
       "      <th>2009-03-28</th>\n",
       "      <td>2</td>\n",
       "      <td>9.1</td>\n",
       "      <td>28.9</td>\n",
       "      <td>0.0</td>\n",
       "      <td>0.0</td>\n",
       "      <td>0.0</td>\n",
       "      <td>6</td>\n",
       "      <td>24.0</td>\n",
       "      <td>3</td>\n",
       "      <td>3</td>\n",
       "      <td>2.0</td>\n",
       "      <td>17.0</td>\n",
       "      <td>60.0</td>\n",
       "      <td>26.0</td>\n",
       "      <td>1023.8</td>\n",
       "      <td>1020.6</td>\n",
       "      <td>0.0</td>\n",
       "      <td>0.0</td>\n",
       "      <td>14.0</td>\n",
       "      <td>27.7</td>\n",
       "      <td>0</td>\n",
       "      <td>0</td>\n",
       "      <td>2009</td>\n",
       "    </tr>\n",
       "    <tr>\n",
       "      <th>2009-03-29</th>\n",
       "      <td>2</td>\n",
       "      <td>10.4</td>\n",
       "      <td>31.2</td>\n",
       "      <td>0.0</td>\n",
       "      <td>0.0</td>\n",
       "      <td>0.0</td>\n",
       "      <td>8</td>\n",
       "      <td>22.0</td>\n",
       "      <td>3</td>\n",
       "      <td>9</td>\n",
       "      <td>0.0</td>\n",
       "      <td>6.0</td>\n",
       "      <td>60.0</td>\n",
       "      <td>18.0</td>\n",
       "      <td>1022.4</td>\n",
       "      <td>1019.1</td>\n",
       "      <td>0.0</td>\n",
       "      <td>0.0</td>\n",
       "      <td>16.0</td>\n",
       "      <td>29.9</td>\n",
       "      <td>0</td>\n",
       "      <td>0</td>\n",
       "      <td>2009</td>\n",
       "    </tr>\n",
       "    <tr>\n",
       "      <th>2009-03-30</th>\n",
       "      <td>2</td>\n",
       "      <td>13.4</td>\n",
       "      <td>30.4</td>\n",
       "      <td>0.0</td>\n",
       "      <td>0.0</td>\n",
       "      <td>0.0</td>\n",
       "      <td>1</td>\n",
       "      <td>22.0</td>\n",
       "      <td>3</td>\n",
       "      <td>9</td>\n",
       "      <td>0.0</td>\n",
       "      <td>9.0</td>\n",
       "      <td>57.0</td>\n",
       "      <td>16.0</td>\n",
       "      <td>1023.0</td>\n",
       "      <td>1019.5</td>\n",
       "      <td>0.0</td>\n",
       "      <td>0.0</td>\n",
       "      <td>17.2</td>\n",
       "      <td>29.2</td>\n",
       "      <td>0</td>\n",
       "      <td>0</td>\n",
       "      <td>2009</td>\n",
       "    </tr>\n",
       "  </tbody>\n",
       "</table>\n",
       "<p>120 rows × 23 columns</p>\n",
       "</div>"
      ],
      "text/plain": [
       "            Location  MinTemp  MaxTemp  Rainfall  Evaporation  Sunshine  \\\n",
       "Date                                                                      \n",
       "2008-12-01         2     13.4     22.9       0.6          0.0       0.0   \n",
       "2008-12-02         2      7.4     25.1       0.0          0.0       0.0   \n",
       "2008-12-03         2     12.9     25.7       0.0          0.0       0.0   \n",
       "2008-12-04         2      9.2     28.0       0.0          0.0       0.0   \n",
       "2008-12-05         2     17.5     32.3       1.0          0.0       0.0   \n",
       "...              ...      ...      ...       ...          ...       ...   \n",
       "2009-03-26         2     13.3     29.8       1.8          0.0       0.0   \n",
       "2009-03-27         2     10.1     27.6       0.0          0.0       0.0   \n",
       "2009-03-28         2      9.1     28.9       0.0          0.0       0.0   \n",
       "2009-03-29         2     10.4     31.2       0.0          0.0       0.0   \n",
       "2009-03-30         2     13.4     30.4       0.0          0.0       0.0   \n",
       "\n",
       "            WindGustDir  WindGustSpeed  WindDir9am  WindDir3pm  WindSpeed9am  \\\n",
       "Date                                                                           \n",
       "2008-12-01           13           44.0          13          14          20.0   \n",
       "2008-12-02           14           44.0           6          15           4.0   \n",
       "2008-12-03           15           46.0          13          15          19.0   \n",
       "2008-12-04            4           24.0           9           0          11.0   \n",
       "2008-12-05           13           41.0           1           7           7.0   \n",
       "...                 ...            ...         ...         ...           ...   \n",
       "2009-03-26           15           33.0           3          14           0.0   \n",
       "2009-03-27           14           43.0           3          13           0.0   \n",
       "2009-03-28            6           24.0           3           3           2.0   \n",
       "2009-03-29            8           22.0           3           9           0.0   \n",
       "2009-03-30            1           22.0           3           9           0.0   \n",
       "\n",
       "            WindSpeed3pm  Humidity9am  Humidity3pm  Pressure9am  Pressure3pm  \\\n",
       "Date                                                                           \n",
       "2008-12-01          24.0         71.0         22.0       1007.7       1007.1   \n",
       "2008-12-02          22.0         44.0         25.0       1010.6       1007.8   \n",
       "2008-12-03          26.0         38.0         30.0       1007.6       1008.7   \n",
       "2008-12-04           9.0         45.0         16.0       1017.6       1012.8   \n",
       "2008-12-05          20.0         82.0         33.0       1010.8       1006.0   \n",
       "...                  ...          ...          ...          ...          ...   \n",
       "2009-03-26          20.0         87.0         26.0       1019.1       1017.2   \n",
       "2009-03-27          11.0         63.0         30.0       1023.0       1020.7   \n",
       "2009-03-28          17.0         60.0         26.0       1023.8       1020.6   \n",
       "2009-03-29           6.0         60.0         18.0       1022.4       1019.1   \n",
       "2009-03-30           9.0         57.0         16.0       1023.0       1019.5   \n",
       "\n",
       "            Cloud9am  Cloud3pm  Temp9am  Temp3pm  RainToday  RainTomorrow  \\\n",
       "Date                                                                        \n",
       "2008-12-01       8.0       0.0     16.9     21.8          0             0   \n",
       "2008-12-02       0.0       0.0     17.2     24.3          0             0   \n",
       "2008-12-03       0.0       2.0     21.0     23.2          0             0   \n",
       "2008-12-04       0.0       0.0     18.1     26.5          0             0   \n",
       "2008-12-05       7.0       8.0     17.8     29.7          0             0   \n",
       "...              ...       ...      ...      ...        ...           ...   \n",
       "2009-03-26       0.0       6.0     16.2     29.2          1             0   \n",
       "2009-03-27       0.0       0.0     16.5     26.8          0             0   \n",
       "2009-03-28       0.0       0.0     14.0     27.7          0             0   \n",
       "2009-03-29       0.0       0.0     16.0     29.9          0             0   \n",
       "2009-03-30       0.0       0.0     17.2     29.2          0             0   \n",
       "\n",
       "            year  \n",
       "Date              \n",
       "2008-12-01  2008  \n",
       "2008-12-02  2008  \n",
       "2008-12-03  2008  \n",
       "2008-12-04  2008  \n",
       "2008-12-05  2008  \n",
       "...          ...  \n",
       "2009-03-26  2009  \n",
       "2009-03-27  2009  \n",
       "2009-03-28  2009  \n",
       "2009-03-29  2009  \n",
       "2009-03-30  2009  \n",
       "\n",
       "[120 rows x 23 columns]"
      ]
     },
     "execution_count": 14,
     "metadata": {},
     "output_type": "execute_result"
    }
   ],
   "source": [
    "dataset.head(120)"
   ]
  },
  {
   "cell_type": "markdown",
   "id": "d5524e6f",
   "metadata": {},
   "source": [
    "# Data Exploring\n",
    "\n",
    "Ora analiziamo i dati attraverso i grafici, dopo averli raggruppati per anno:"
   ]
  },
  {
   "cell_type": "code",
   "execution_count": 11,
   "id": "ffe743cc",
   "metadata": {
    "scrolled": false
   },
   "outputs": [
    {
     "name": "stdout",
     "output_type": "stream",
     "text": [
      "Tipo gb : <class 'pandas.core.groupby.generic.DataFrameGroupBy'>\n"
     ]
    },
    {
     "data": {
      "text/html": [
       "<div>\n",
       "<style scoped>\n",
       "    .dataframe tbody tr th:only-of-type {\n",
       "        vertical-align: middle;\n",
       "    }\n",
       "\n",
       "    .dataframe tbody tr th {\n",
       "        vertical-align: top;\n",
       "    }\n",
       "\n",
       "    .dataframe thead tr th {\n",
       "        text-align: left;\n",
       "    }\n",
       "\n",
       "    .dataframe thead tr:last-of-type th {\n",
       "        text-align: right;\n",
       "    }\n",
       "</style>\n",
       "<table border=\"1\" class=\"dataframe\">\n",
       "  <thead>\n",
       "    <tr>\n",
       "      <th></th>\n",
       "      <th colspan=\"8\" halign=\"left\">Location</th>\n",
       "      <th colspan=\"4\" halign=\"left\">MinTemp</th>\n",
       "      <th>...</th>\n",
       "      <th colspan=\"4\" halign=\"left\">RainToday</th>\n",
       "      <th colspan=\"8\" halign=\"left\">RainTomorrow</th>\n",
       "    </tr>\n",
       "    <tr>\n",
       "      <th></th>\n",
       "      <th>count</th>\n",
       "      <th>mean</th>\n",
       "      <th>std</th>\n",
       "      <th>min</th>\n",
       "      <th>25%</th>\n",
       "      <th>50%</th>\n",
       "      <th>75%</th>\n",
       "      <th>max</th>\n",
       "      <th>count</th>\n",
       "      <th>mean</th>\n",
       "      <th>std</th>\n",
       "      <th>min</th>\n",
       "      <th>...</th>\n",
       "      <th>25%</th>\n",
       "      <th>50%</th>\n",
       "      <th>75%</th>\n",
       "      <th>max</th>\n",
       "      <th>count</th>\n",
       "      <th>mean</th>\n",
       "      <th>std</th>\n",
       "      <th>min</th>\n",
       "      <th>25%</th>\n",
       "      <th>50%</th>\n",
       "      <th>75%</th>\n",
       "      <th>max</th>\n",
       "    </tr>\n",
       "    <tr>\n",
       "      <th>year</th>\n",
       "      <th></th>\n",
       "      <th></th>\n",
       "      <th></th>\n",
       "      <th></th>\n",
       "      <th></th>\n",
       "      <th></th>\n",
       "      <th></th>\n",
       "      <th></th>\n",
       "      <th></th>\n",
       "      <th></th>\n",
       "      <th></th>\n",
       "      <th></th>\n",
       "      <th></th>\n",
       "      <th></th>\n",
       "      <th></th>\n",
       "      <th></th>\n",
       "      <th></th>\n",
       "      <th></th>\n",
       "      <th></th>\n",
       "      <th></th>\n",
       "      <th></th>\n",
       "      <th></th>\n",
       "      <th></th>\n",
       "      <th></th>\n",
       "      <th></th>\n",
       "    </tr>\n",
       "  </thead>\n",
       "  <tbody>\n",
       "    <tr>\n",
       "      <th>2007</th>\n",
       "      <td>61.0</td>\n",
       "      <td>9.000000</td>\n",
       "      <td>0.000000</td>\n",
       "      <td>9.0</td>\n",
       "      <td>9.0</td>\n",
       "      <td>9.0</td>\n",
       "      <td>9.0</td>\n",
       "      <td>9.0</td>\n",
       "      <td>61.0</td>\n",
       "      <td>12.545902</td>\n",
       "      <td>3.002309</td>\n",
       "      <td>6.1</td>\n",
       "      <td>...</td>\n",
       "      <td>0.0</td>\n",
       "      <td>0.0</td>\n",
       "      <td>1.0</td>\n",
       "      <td>1.0</td>\n",
       "      <td>61.0</td>\n",
       "      <td>0.311475</td>\n",
       "      <td>0.466940</td>\n",
       "      <td>0.0</td>\n",
       "      <td>0.0</td>\n",
       "      <td>0.0</td>\n",
       "      <td>1.0</td>\n",
       "      <td>1.0</td>\n",
       "    </tr>\n",
       "    <tr>\n",
       "      <th>2008</th>\n",
       "      <td>2270.0</td>\n",
       "      <td>17.557709</td>\n",
       "      <td>12.738097</td>\n",
       "      <td>0.0</td>\n",
       "      <td>9.0</td>\n",
       "      <td>14.5</td>\n",
       "      <td>31.0</td>\n",
       "      <td>47.0</td>\n",
       "      <td>2270.0</td>\n",
       "      <td>12.390661</td>\n",
       "      <td>6.593456</td>\n",
       "      <td>-5.3</td>\n",
       "      <td>...</td>\n",
       "      <td>0.0</td>\n",
       "      <td>0.0</td>\n",
       "      <td>0.0</td>\n",
       "      <td>1.0</td>\n",
       "      <td>2270.0</td>\n",
       "      <td>0.225110</td>\n",
       "      <td>0.417747</td>\n",
       "      <td>0.0</td>\n",
       "      <td>0.0</td>\n",
       "      <td>0.0</td>\n",
       "      <td>0.0</td>\n",
       "      <td>1.0</td>\n",
       "    </tr>\n",
       "    <tr>\n",
       "      <th>2009</th>\n",
       "      <td>16789.0</td>\n",
       "      <td>23.782238</td>\n",
       "      <td>14.329087</td>\n",
       "      <td>0.0</td>\n",
       "      <td>11.0</td>\n",
       "      <td>23.0</td>\n",
       "      <td>36.0</td>\n",
       "      <td>48.0</td>\n",
       "      <td>16789.0</td>\n",
       "      <td>12.010328</td>\n",
       "      <td>6.300053</td>\n",
       "      <td>-8.5</td>\n",
       "      <td>...</td>\n",
       "      <td>0.0</td>\n",
       "      <td>0.0</td>\n",
       "      <td>0.0</td>\n",
       "      <td>1.0</td>\n",
       "      <td>16789.0</td>\n",
       "      <td>0.214843</td>\n",
       "      <td>0.410726</td>\n",
       "      <td>0.0</td>\n",
       "      <td>0.0</td>\n",
       "      <td>0.0</td>\n",
       "      <td>0.0</td>\n",
       "      <td>1.0</td>\n",
       "    </tr>\n",
       "    <tr>\n",
       "      <th>2010</th>\n",
       "      <td>16782.0</td>\n",
       "      <td>23.776785</td>\n",
       "      <td>14.329671</td>\n",
       "      <td>0.0</td>\n",
       "      <td>11.0</td>\n",
       "      <td>23.0</td>\n",
       "      <td>36.0</td>\n",
       "      <td>48.0</td>\n",
       "      <td>16782.0</td>\n",
       "      <td>11.948236</td>\n",
       "      <td>6.579830</td>\n",
       "      <td>-8.0</td>\n",
       "      <td>...</td>\n",
       "      <td>0.0</td>\n",
       "      <td>0.0</td>\n",
       "      <td>0.0</td>\n",
       "      <td>1.0</td>\n",
       "      <td>16782.0</td>\n",
       "      <td>0.238172</td>\n",
       "      <td>0.425978</td>\n",
       "      <td>0.0</td>\n",
       "      <td>0.0</td>\n",
       "      <td>0.0</td>\n",
       "      <td>0.0</td>\n",
       "      <td>1.0</td>\n",
       "    </tr>\n",
       "    <tr>\n",
       "      <th>2011</th>\n",
       "      <td>15407.0</td>\n",
       "      <td>23.778867</td>\n",
       "      <td>14.327664</td>\n",
       "      <td>0.0</td>\n",
       "      <td>11.0</td>\n",
       "      <td>23.0</td>\n",
       "      <td>36.0</td>\n",
       "      <td>48.0</td>\n",
       "      <td>15407.0</td>\n",
       "      <td>11.967742</td>\n",
       "      <td>6.435061</td>\n",
       "      <td>-8.2</td>\n",
       "      <td>...</td>\n",
       "      <td>0.0</td>\n",
       "      <td>0.0</td>\n",
       "      <td>0.0</td>\n",
       "      <td>1.0</td>\n",
       "      <td>15407.0</td>\n",
       "      <td>0.242617</td>\n",
       "      <td>0.428679</td>\n",
       "      <td>0.0</td>\n",
       "      <td>0.0</td>\n",
       "      <td>0.0</td>\n",
       "      <td>0.0</td>\n",
       "      <td>1.0</td>\n",
       "    </tr>\n",
       "    <tr>\n",
       "      <th>2012</th>\n",
       "      <td>15409.0</td>\n",
       "      <td>23.781556</td>\n",
       "      <td>14.328648</td>\n",
       "      <td>0.0</td>\n",
       "      <td>11.0</td>\n",
       "      <td>23.0</td>\n",
       "      <td>36.0</td>\n",
       "      <td>48.0</td>\n",
       "      <td>15409.0</td>\n",
       "      <td>11.182478</td>\n",
       "      <td>6.388649</td>\n",
       "      <td>-6.8</td>\n",
       "      <td>...</td>\n",
       "      <td>0.0</td>\n",
       "      <td>0.0</td>\n",
       "      <td>0.0</td>\n",
       "      <td>1.0</td>\n",
       "      <td>15409.0</td>\n",
       "      <td>0.219936</td>\n",
       "      <td>0.414217</td>\n",
       "      <td>0.0</td>\n",
       "      <td>0.0</td>\n",
       "      <td>0.0</td>\n",
       "      <td>0.0</td>\n",
       "      <td>1.0</td>\n",
       "    </tr>\n",
       "    <tr>\n",
       "      <th>2013</th>\n",
       "      <td>16415.0</td>\n",
       "      <td>23.980506</td>\n",
       "      <td>14.161077</td>\n",
       "      <td>0.0</td>\n",
       "      <td>12.0</td>\n",
       "      <td>24.0</td>\n",
       "      <td>36.0</td>\n",
       "      <td>48.0</td>\n",
       "      <td>16415.0</td>\n",
       "      <td>11.846220</td>\n",
       "      <td>6.194554</td>\n",
       "      <td>-6.5</td>\n",
       "      <td>...</td>\n",
       "      <td>0.0</td>\n",
       "      <td>0.0</td>\n",
       "      <td>0.0</td>\n",
       "      <td>1.0</td>\n",
       "      <td>16415.0</td>\n",
       "      <td>0.211087</td>\n",
       "      <td>0.408093</td>\n",
       "      <td>0.0</td>\n",
       "      <td>0.0</td>\n",
       "      <td>0.0</td>\n",
       "      <td>0.0</td>\n",
       "      <td>1.0</td>\n",
       "    </tr>\n",
       "    <tr>\n",
       "      <th>2014</th>\n",
       "      <td>17885.0</td>\n",
       "      <td>24.000000</td>\n",
       "      <td>14.142531</td>\n",
       "      <td>0.0</td>\n",
       "      <td>12.0</td>\n",
       "      <td>24.0</td>\n",
       "      <td>36.0</td>\n",
       "      <td>48.0</td>\n",
       "      <td>17885.0</td>\n",
       "      <td>12.323360</td>\n",
       "      <td>6.391940</td>\n",
       "      <td>-7.6</td>\n",
       "      <td>...</td>\n",
       "      <td>0.0</td>\n",
       "      <td>0.0</td>\n",
       "      <td>0.0</td>\n",
       "      <td>1.0</td>\n",
       "      <td>17885.0</td>\n",
       "      <td>0.198882</td>\n",
       "      <td>0.399170</td>\n",
       "      <td>0.0</td>\n",
       "      <td>0.0</td>\n",
       "      <td>0.0</td>\n",
       "      <td>0.0</td>\n",
       "      <td>1.0</td>\n",
       "    </tr>\n",
       "    <tr>\n",
       "      <th>2015</th>\n",
       "      <td>17885.0</td>\n",
       "      <td>24.000000</td>\n",
       "      <td>14.142531</td>\n",
       "      <td>0.0</td>\n",
       "      <td>12.0</td>\n",
       "      <td>24.0</td>\n",
       "      <td>36.0</td>\n",
       "      <td>48.0</td>\n",
       "      <td>17885.0</td>\n",
       "      <td>11.951138</td>\n",
       "      <td>6.715641</td>\n",
       "      <td>-8.2</td>\n",
       "      <td>...</td>\n",
       "      <td>0.0</td>\n",
       "      <td>0.0</td>\n",
       "      <td>0.0</td>\n",
       "      <td>1.0</td>\n",
       "      <td>17885.0</td>\n",
       "      <td>0.203970</td>\n",
       "      <td>0.402958</td>\n",
       "      <td>0.0</td>\n",
       "      <td>0.0</td>\n",
       "      <td>0.0</td>\n",
       "      <td>0.0</td>\n",
       "      <td>1.0</td>\n",
       "    </tr>\n",
       "    <tr>\n",
       "      <th>2016</th>\n",
       "      <td>17934.0</td>\n",
       "      <td>24.000000</td>\n",
       "      <td>14.142530</td>\n",
       "      <td>0.0</td>\n",
       "      <td>12.0</td>\n",
       "      <td>24.0</td>\n",
       "      <td>36.0</td>\n",
       "      <td>48.0</td>\n",
       "      <td>17934.0</td>\n",
       "      <td>12.406167</td>\n",
       "      <td>6.522438</td>\n",
       "      <td>-7.8</td>\n",
       "      <td>...</td>\n",
       "      <td>0.0</td>\n",
       "      <td>0.0</td>\n",
       "      <td>0.0</td>\n",
       "      <td>1.0</td>\n",
       "      <td>17934.0</td>\n",
       "      <td>0.233244</td>\n",
       "      <td>0.422908</td>\n",
       "      <td>0.0</td>\n",
       "      <td>0.0</td>\n",
       "      <td>0.0</td>\n",
       "      <td>0.0</td>\n",
       "      <td>1.0</td>\n",
       "    </tr>\n",
       "    <tr>\n",
       "      <th>2017</th>\n",
       "      <td>8623.0</td>\n",
       "      <td>24.000000</td>\n",
       "      <td>14.143776</td>\n",
       "      <td>0.0</td>\n",
       "      <td>12.0</td>\n",
       "      <td>24.0</td>\n",
       "      <td>36.0</td>\n",
       "      <td>48.0</td>\n",
       "      <td>8623.0</td>\n",
       "      <td>13.544265</td>\n",
       "      <td>6.710372</td>\n",
       "      <td>-5.9</td>\n",
       "      <td>...</td>\n",
       "      <td>0.0</td>\n",
       "      <td>0.0</td>\n",
       "      <td>0.0</td>\n",
       "      <td>1.0</td>\n",
       "      <td>8623.0</td>\n",
       "      <td>0.204453</td>\n",
       "      <td>0.403325</td>\n",
       "      <td>0.0</td>\n",
       "      <td>0.0</td>\n",
       "      <td>0.0</td>\n",
       "      <td>0.0</td>\n",
       "      <td>1.0</td>\n",
       "    </tr>\n",
       "  </tbody>\n",
       "</table>\n",
       "<p>11 rows × 176 columns</p>\n",
       "</div>"
      ],
      "text/plain": [
       "     Location                                                     MinTemp  \\\n",
       "        count       mean        std  min   25%   50%   75%   max    count   \n",
       "year                                                                        \n",
       "2007     61.0   9.000000   0.000000  9.0   9.0   9.0   9.0   9.0     61.0   \n",
       "2008   2270.0  17.557709  12.738097  0.0   9.0  14.5  31.0  47.0   2270.0   \n",
       "2009  16789.0  23.782238  14.329087  0.0  11.0  23.0  36.0  48.0  16789.0   \n",
       "2010  16782.0  23.776785  14.329671  0.0  11.0  23.0  36.0  48.0  16782.0   \n",
       "2011  15407.0  23.778867  14.327664  0.0  11.0  23.0  36.0  48.0  15407.0   \n",
       "2012  15409.0  23.781556  14.328648  0.0  11.0  23.0  36.0  48.0  15409.0   \n",
       "2013  16415.0  23.980506  14.161077  0.0  12.0  24.0  36.0  48.0  16415.0   \n",
       "2014  17885.0  24.000000  14.142531  0.0  12.0  24.0  36.0  48.0  17885.0   \n",
       "2015  17885.0  24.000000  14.142531  0.0  12.0  24.0  36.0  48.0  17885.0   \n",
       "2016  17934.0  24.000000  14.142530  0.0  12.0  24.0  36.0  48.0  17934.0   \n",
       "2017   8623.0  24.000000  14.143776  0.0  12.0  24.0  36.0  48.0   8623.0   \n",
       "\n",
       "                                ... RainToday                RainTomorrow  \\\n",
       "           mean       std  min  ...       25%  50%  75%  max        count   \n",
       "year                            ...                                         \n",
       "2007  12.545902  3.002309  6.1  ...       0.0  0.0  1.0  1.0         61.0   \n",
       "2008  12.390661  6.593456 -5.3  ...       0.0  0.0  0.0  1.0       2270.0   \n",
       "2009  12.010328  6.300053 -8.5  ...       0.0  0.0  0.0  1.0      16789.0   \n",
       "2010  11.948236  6.579830 -8.0  ...       0.0  0.0  0.0  1.0      16782.0   \n",
       "2011  11.967742  6.435061 -8.2  ...       0.0  0.0  0.0  1.0      15407.0   \n",
       "2012  11.182478  6.388649 -6.8  ...       0.0  0.0  0.0  1.0      15409.0   \n",
       "2013  11.846220  6.194554 -6.5  ...       0.0  0.0  0.0  1.0      16415.0   \n",
       "2014  12.323360  6.391940 -7.6  ...       0.0  0.0  0.0  1.0      17885.0   \n",
       "2015  11.951138  6.715641 -8.2  ...       0.0  0.0  0.0  1.0      17885.0   \n",
       "2016  12.406167  6.522438 -7.8  ...       0.0  0.0  0.0  1.0      17934.0   \n",
       "2017  13.544265  6.710372 -5.9  ...       0.0  0.0  0.0  1.0       8623.0   \n",
       "\n",
       "                                                   \n",
       "          mean       std  min  25%  50%  75%  max  \n",
       "year                                               \n",
       "2007  0.311475  0.466940  0.0  0.0  0.0  1.0  1.0  \n",
       "2008  0.225110  0.417747  0.0  0.0  0.0  0.0  1.0  \n",
       "2009  0.214843  0.410726  0.0  0.0  0.0  0.0  1.0  \n",
       "2010  0.238172  0.425978  0.0  0.0  0.0  0.0  1.0  \n",
       "2011  0.242617  0.428679  0.0  0.0  0.0  0.0  1.0  \n",
       "2012  0.219936  0.414217  0.0  0.0  0.0  0.0  1.0  \n",
       "2013  0.211087  0.408093  0.0  0.0  0.0  0.0  1.0  \n",
       "2014  0.198882  0.399170  0.0  0.0  0.0  0.0  1.0  \n",
       "2015  0.203970  0.402958  0.0  0.0  0.0  0.0  1.0  \n",
       "2016  0.233244  0.422908  0.0  0.0  0.0  0.0  1.0  \n",
       "2017  0.204453  0.403325  0.0  0.0  0.0  0.0  1.0  \n",
       "\n",
       "[11 rows x 176 columns]"
      ]
     },
     "execution_count": 11,
     "metadata": {},
     "output_type": "execute_result"
    }
   ],
   "source": [
    "gb = dataset.groupby('year')\n",
    "print(\"Tipo gb :\",type(gb))\n",
    "gb.describe()"
   ]
  },
  {
   "cell_type": "code",
   "execution_count": 16,
   "id": "1f9809e7",
   "metadata": {},
   "outputs": [
    {
     "data": {
      "text/plain": [
       "<AxesSubplot:ylabel='RainTomorrow'>"
      ]
     },
     "execution_count": 16,
     "metadata": {},
     "output_type": "execute_result"
    },
    {
     "data": {
      "image/png": "[encoded data removed]",
      "text/plain": [
       "<Figure size 432x288 with 1 Axes>"
      ]
     },
     "metadata": {},
     "output_type": "display_data"
    }
   ],
   "source": [
    "dataset['RainTomorrow'].value_counts().plot.pie(autopct='%1.1f%%')"
   ]
  },
  {
   "cell_type": "code",
   "execution_count": 17,
   "id": "22981bff",
   "metadata": {},
   "outputs": [
    {
     "data": {
      "text/plain": [
       "<AxesSubplot:xlabel='RainTomorrow', ylabel='count'>"
      ]
     },
     "execution_count": 17,
     "metadata": {},
     "output_type": "execute_result"
    },
    {
     "data": {
      "image/png": "[encoded data removed]",
      "text/plain": [
       "<Figure size 432x288 with 1 Axes>"
      ]
     },
     "metadata": {
      "needs_background": "light"
     },
     "output_type": "display_data"
    }
   ],
   "source": [
    "cols= [\"#C2C4E2\",\"#EED4E5\"]\n",
    "sns.countplot(x= dataset[\"RainTomorrow\"], palette= cols)"
   ]
  },
  {
   "cell_type": "markdown",
   "id": "8e3f90b6",
   "metadata": {},
   "source": [
    "Dai precedenti grafici notiamo che la variabile da predirre RainTomorrow è sbilanciata, per questo, dopo aver selezionato le feature rilevanti, la andremo a bilanciare facendo oversampling della classe minoritaria con **Synthetic Minority Oversampling Technique** (**SMOTE**)"
   ]
  },
  {
   "cell_type": "code",
   "execution_count": 18,
   "id": "f38ccb4a",
   "metadata": {
    "scrolled": false
   },
   "outputs": [
    {
     "data": {
      "text/plain": [
       "[<matplotlib.lines.Line2D at 0x7fd2d045baf0>]"
      ]
     },
     "execution_count": 18,
     "metadata": {},
     "output_type": "execute_result"
    },
    {
     "data": {
      "image/png": "[encoded data removed]",
      "text/plain": [
       "<Figure size 432x288 with 1 Axes>"
      ]
     },
     "metadata": {
      "needs_background": "light"
     },
     "output_type": "display_data"
    }
   ],
   "source": [
    "plt.plot(gb['Rainfall'].mean())"
   ]
  },
  {
   "cell_type": "code",
   "execution_count": 19,
   "id": "213d6c26",
   "metadata": {},
   "outputs": [
    {
     "data": {
      "text/plain": [
       "Text(0.5, 0, 'year')"
      ]
     },
     "execution_count": 19,
     "metadata": {},
     "output_type": "execute_result"
    },
    {
     "data": {
      "image/png": "[encoded data removed]",
      "text/plain": [
       "<Figure size 1440x720 with 2 Axes>"
      ]
     },
     "metadata": {
      "needs_background": "light"
     },
     "output_type": "display_data"
    }
   ],
   "source": [
    "plt.figure(figsize=(20, 10))\n",
    "\n",
    "plt.subplot(2, 3, 1)\n",
    "plt.title('mintemp')\n",
    "plt.plot(gb['MinTemp'].mean(), label=\"mintemp\", color='gray')\n",
    "plt.ylabel('temp')\n",
    "plt.xlabel('Year')\n",
    "\n",
    "plt.subplot(2, 3, 2)\n",
    "plt.title('maxtemp')\n",
    "plt.plot(gb['MaxTemp'].mean(), label=\"maxtemp\", color='red')\n",
    "plt.ylabel('temp')\n",
    "plt.xlabel('year')"
   ]
  },
  {
   "cell_type": "markdown",
   "id": "985eaeed",
   "metadata": {},
   "source": [
    "#### Correlazione tra i dati"
   ]
  },
  {
   "cell_type": "markdown",
   "id": "28f839ab",
   "metadata": {},
   "source": [
    "Annulliamo i valori sulla diagonale per rendere corretta la lettura della correlazione."
   ]
  },
  {
   "cell_type": "code",
   "execution_count": 20,
   "id": "289028d3",
   "metadata": {},
   "outputs": [],
   "source": [
    "corr = dataset.corr().replace(1,0)"
   ]
  },
  {
   "cell_type": "code",
   "execution_count": 21,
   "id": "8c33f031",
   "metadata": {},
   "outputs": [
    {
     "data": {
      "text/plain": [
       "<AxesSubplot:>"
      ]
     },
     "execution_count": 21,
     "metadata": {},
     "output_type": "execute_result"
    },
    {
     "data": {
      "image/png": "[encoded data removed]",
      "text/plain": [
       "<Figure size 1440x1440 with 2 Axes>"
      ]
     },
     "metadata": {
      "needs_background": "light"
     },
     "output_type": "display_data"
    }
   ],
   "source": [
    "cmap = sns.diverging_palette(260,-10,s=100, l=40, n=6, as_cmap=True)\n",
    "plt.subplots(figsize=(20,20))\n",
    "sns.heatmap(corr,cmap= cmap,annot=True, square=True)"
   ]
  },
  {
   "cell_type": "code",
   "execution_count": 22,
   "id": "a8432cab",
   "metadata": {},
   "outputs": [],
   "source": [
    "corrRainTomorrow = corr['RainTomorrow']"
   ]
  },
  {
   "cell_type": "code",
   "execution_count": 23,
   "id": "a73ce9ad",
   "metadata": {},
   "outputs": [
    {
     "data": {
      "text/plain": [
       "(0.3979514149519119, 'Humidity3pm')"
      ]
     },
     "execution_count": 23,
     "metadata": {},
     "output_type": "execute_result"
    }
   ],
   "source": [
    "corrRainTomorrow.max(), np.abs(corrRainTomorrow).idxmax()"
   ]
  },
  {
   "cell_type": "markdown",
   "id": "d68d34ac",
   "metadata": {},
   "source": [
    "Possiamo individuare che la correlazione maggiore sulla viariabile RainTomorrow è 'Humidity3pm'."
   ]
  },
  {
   "cell_type": "markdown",
   "id": "b8a139d4",
   "metadata": {},
   "source": [
    "# Selezione feature rilevanti"
   ]
  },
  {
   "cell_type": "markdown",
   "id": "8c3b7048",
   "metadata": {},
   "source": [
    "Ai fini dell'elaborazione dei dati del dataframe possiamo notare che abbiamo ancora delle feature non rilevanti; infatti eliminiamo la feature year, in quanto utile soltanto per la rappresentazione dei dati. Suddividiamo poi il dataset in:\n",
    "1. y, variabile da predirre.\n",
    "2. X, dataset delle feature rilevanti."
   ]
  },
  {
   "cell_type": "code",
   "execution_count": 12,
   "id": "c281b653",
   "metadata": {},
   "outputs": [],
   "source": [
    "X = dataset.drop(['year', 'RainTomorrow'], axis=1)\n",
    "\n",
    "y = dataset['RainTomorrow']"
   ]
  },
  {
   "cell_type": "markdown",
   "id": "62e55f82",
   "metadata": {},
   "source": [
    "Applichiamo ora la funzione SMOTE, che come detto in precedenza è utilizzata per fare oversampling della classe minoritaria in RainTomorrow"
   ]
  },
  {
   "cell_type": "code",
   "execution_count": 13,
   "id": "d3d52256",
   "metadata": {},
   "outputs": [],
   "source": [
    "from sklearn.model_selection import train_test_split\n",
    "\n",
    "sm = SMOTE(random_state=42)\n",
    "X, y = sm.fit_resample(X, y)"
   ]
  },
  {
   "cell_type": "markdown",
   "id": "0d6081e7",
   "metadata": {},
   "source": [
    "Suddividiamo il dataset, per ottenere miglior predizione e prestazioni, in training set e validation set."
   ]
  },
  {
   "cell_type": "code",
   "execution_count": 14,
   "id": "d4504c49",
   "metadata": {},
   "outputs": [],
   "source": [
    "X_train, X_val, y_train, y_val = train_test_split(X, y, test_size=1/3, random_state=42)"
   ]
  },
  {
   "cell_type": "markdown",
   "id": "edf11673",
   "metadata": {},
   "source": [
    "# Creazione ed addestramento dei modelli"
   ]
  },
  {
   "cell_type": "code",
   "execution_count": 15,
   "id": "944bcb33",
   "metadata": {},
   "outputs": [],
   "source": [
    "def best_params(model):\n",
    "    print('Parametri migliori:', model.best_params_)  \n",
    "    print('Miglior train score: {:.4f}%\\nMiglior validation score: {:.4f}%'.format(round(model.best_score_ * 100, 4), round(model.score(X_val, y_val)*100, 4)))"
   ]
  },
  {
   "cell_type": "markdown",
   "id": "a573b401",
   "metadata": {},
   "source": [
    "## Perceptron\n",
    "Addestiamo ora Perceptron"
   ]
  },
  {
   "cell_type": "code",
   "execution_count": 16,
   "id": "6696216c",
   "metadata": {},
   "outputs": [],
   "source": [
    "from sklearn.linear_model import Perceptron\n",
    "from sklearn.preprocessing import StandardScaler\n",
    "from sklearn.pipeline import Pipeline"
   ]
  },
  {
   "cell_type": "code",
   "execution_count": 14,
   "id": "e46d5753",
   "metadata": {},
   "outputs": [
    {
     "name": "stdout",
     "output_type": "stream",
     "text": [
      "Accuratezza sul trainining: 74.04%\n",
      "Accuratezza sul validation: 74.13%\n"
     ]
    }
   ],
   "source": [
    "perceptron = Perceptron(max_iter=5000, tol=1e-3, early_stopping=True, n_jobs=-1, random_state=42, n_iter_no_change=5)\n",
    "perceptron.fit(X_train, y_train)\n",
    "print('Accuratezza sul trainining: {:.2f}%'.format(perceptron.score(X_train, y_train)*100))\n",
    "print('Accuratezza sul validation: {:.2f}%'.format(perceptron.score(X_val, y_val)*100))"
   ]
  },
  {
   "cell_type": "markdown",
   "id": "c7eca0d3",
   "metadata": {},
   "source": [
    "## Cross-Validation con Stratified k-fold"
   ]
  },
  {
   "cell_type": "markdown",
   "id": "99904578",
   "metadata": {},
   "source": [
    "Dopo aver testato precedentemente i modelli sottostanti con `GridSearch` con il paramaetro cv = 5 (default 5-fold cross validation), avendo ottenuto per `Perceptron` con regressione uno score sul training inferiore di circa il 4% rispetto al validation, abbiamo provato ad utilizzare Stratified k-fold per il parametro cv, ottenendo come si vede in seguito score milgiori"
   ]
  },
  {
   "cell_type": "markdown",
   "id": "fb3226e2",
   "metadata": {},
   "source": [
    "Utilizziamo Stratified K fold in quanto ci permette di ottenedere la stessa proporzione ai dati."
   ]
  },
  {
   "cell_type": "code",
   "execution_count": 17,
   "id": "510b65b0",
   "metadata": {},
   "outputs": [
    {
     "name": "stdout",
     "output_type": "stream",
     "text": [
      "0    25295\n",
      "1    25187\n",
      "Name: RainTomorrow, dtype: int64\n",
      "0    25295\n",
      "1    25186\n",
      "Name: RainTomorrow, dtype: int64\n",
      "0    25294\n",
      "1    25187\n",
      "Name: RainTomorrow, dtype: int64\n"
     ]
    }
   ],
   "source": [
    "from sklearn.model_selection import StratifiedKFold\n",
    "\n",
    "skf = StratifiedKFold(3, shuffle=True, random_state=42)\n",
    "\n",
    "for train, val in skf.split(X_train, y_train):\n",
    "    print(y_train.iloc[val].value_counts())"
   ]
  },
  {
   "cell_type": "markdown",
   "id": "d6db70b6",
   "metadata": {},
   "source": [
    "### Perceptron con regressione"
   ]
  },
  {
   "cell_type": "markdown",
   "id": "d0d11c7e",
   "metadata": {},
   "source": [
    "Tramite `GridSearch` proviamo ora a determinare se l'applicazione della regressione Lasso e/o Ridge porta benefici all'accuratezza del modello"
   ]
  },
  {
   "cell_type": "code",
   "execution_count": 18,
   "id": "dc6fb6a1",
   "metadata": {},
   "outputs": [],
   "source": [
    "from sklearn.model_selection import GridSearchCV\n",
    "from sklearn import metrics"
   ]
  },
  {
   "cell_type": "code",
   "execution_count": 55,
   "id": "64dd7b04",
   "metadata": {
    "scrolled": true
   },
   "outputs": [
    {
     "name": "stdout",
     "output_type": "stream",
     "text": [
      "Parametri migliori: {'perceptron__alpha': 0.001, 'perceptron__penalty': 'l1', 'perceptron__tol': 1, 'std': None}\n",
      "Miglior train score: 74.6999%\n",
      "Miglior validation score: 74.6164%\n"
     ]
    }
   ],
   "source": [
    "std_perceptron = Pipeline([\n",
    "    ('std', StandardScaler()),\n",
    "    ('perceptron', Perceptron(max_iter=5000, n_jobs=-1, early_stopping=True, n_iter_no_change=5, random_state=42))\n",
    "])\n",
    "\n",
    "parameters = [\n",
    "    {\n",
    "        'std': [None, StandardScaler()],\n",
    "        'perceptron__penalty': [None, 'l1', 'l2'],\n",
    "        'perceptron__alpha': [0.0001, 0.001, 0.01, 1],\n",
    "        'perceptron__tol': [1e-9, 1e-6, 1e-3, 1, 1e3, 1e6],\n",
    "    },\n",
    "    {\n",
    "        'std': [None, StandardScaler()],\n",
    "        'perceptron__penalty': ['elasticnet'],\n",
    "        'perceptron__l1_ratio': [0.1, 0.3, 0.5, 0.7],\n",
    "        'perceptron__tol': [1e-9, 1e-6, 1e-3, 1, 1e3, 1e6],\n",
    "    }\n",
    "]\n",
    "\n",
    "perceptron_cv = GridSearchCV(std_perceptron, parameters, cv=skf, n_jobs=-1, scoring='f1')\n",
    "perceptron_cv.fit(X_train, y_train)\n",
    "\n",
    "best_params(perceptron_cv)"
   ]
  },
  {
   "cell_type": "code",
   "execution_count": 116,
   "id": "0e190c6d",
   "metadata": {},
   "outputs": [
    {
     "data": {
      "text/plain": [
       "Cloud3pm    36314.782801\n",
       "MinTemp     27848.697934\n",
       "Rainfall    15341.797844\n",
       "dtype: float64"
      ]
     },
     "execution_count": 116,
     "metadata": {},
     "output_type": "execute_result"
    }
   ],
   "source": [
    "pd.Series(perceptron_cv.best_estimator_[1].coef_[0], index=X_train.columns).nlargest(3)"
   ]
  },
  {
   "cell_type": "markdown",
   "id": "7a76a15f",
   "metadata": {},
   "source": [
    "Successivamente valutiamo, attraverso la Confiusion Matrix, la qualità delle previsioni del modello."
   ]
  },
  {
   "cell_type": "code",
   "execution_count": 19,
   "id": "35b22c03",
   "metadata": {},
   "outputs": [],
   "source": [
    "from sklearn.metrics import confusion_matrix"
   ]
  },
  {
   "cell_type": "code",
   "execution_count": 56,
   "id": "b14a22ce",
   "metadata": {},
   "outputs": [
    {
     "data": {
      "text/plain": [
       "<AxesSubplot:>"
      ]
     },
     "execution_count": 56,
     "metadata": {},
     "output_type": "execute_result"
    },
    {
     "data": {
      "image/png": "[encoded data removed]",
      "text/plain": [
       "<Figure size 864x576 with 2 Axes>"
      ]
     },
     "metadata": {
      "needs_background": "light"
     },
     "output_type": "display_data"
    }
   ],
   "source": [
    "cmap1 = sns.diverging_palette(260,-10,s=50, l=75, n=5, as_cmap=True)\n",
    "plt.subplots(figsize=(12,8))\n",
    "\n",
    "cf_matrix = confusion_matrix(y_val, perceptron_cv.predict(X_val))\n",
    "sns.heatmap(cf_matrix/np.sum(cf_matrix), cmap = cmap1, annot = True, annot_kws = {'size':15})"
   ]
  },
  {
   "cell_type": "code",
   "execution_count": 20,
   "id": "6b975fa6",
   "metadata": {},
   "outputs": [],
   "source": [
    "from sklearn.metrics import classification_report"
   ]
  },
  {
   "cell_type": "code",
   "execution_count": 57,
   "id": "1632d97b",
   "metadata": {},
   "outputs": [
    {
     "name": "stdout",
     "output_type": "stream",
     "text": [
      "              precision    recall  f1-score   support\n",
      "\n",
      "           0       0.74      0.75      0.74     37699\n",
      "           1       0.75      0.74      0.75     38023\n",
      "\n",
      "    accuracy                           0.75     75722\n",
      "   macro avg       0.75      0.75      0.75     75722\n",
      "weighted avg       0.75      0.75      0.75     75722\n",
      "\n"
     ]
    }
   ],
   "source": [
    "pred = perceptron_cv.predict(X_val)\n",
    "print(classification_report(y_val, pred))"
   ]
  },
  {
   "cell_type": "markdown",
   "id": "3f6cf137",
   "metadata": {},
   "source": [
    "Dalle statistiche della cella precedente possiamo determinare: \n",
    "1. <b>precision</b>: è la percentuale delle previsioni positive corrette (TP) sul totale delle previsioni positive del     modello (giuste TP o sbagliate FP).\n",
    "\n",
    "    $$ P R = \\frac{T P} {T P + F P}$$ <br>\n",
    "    \n",
    "2. <b>recall o sensitivity</b>: la percentuale delle previsioni positive corrette (TP) sul totale delle istanze positive (i positivi TP ed i falsi negativi FN), varia da 0 a 1.\n",
    "\n",
    "    $$ R e c a l l =\\frac{T P} {T P + F N} $$ <br>\n",
    "    \n",
    "3. <b>f1-score</b>: media armonica delle metriche Precision e Recall.\n",
    "\n",
    "    $$ F S = \\frac{2 ⋅ R e c a l l ⋅ P r e c i s i o n}{ R e c a l l + P r e c i s i o n}$$ <br>"
   ]
  },
  {
   "cell_type": "markdown",
   "id": "c06d182f",
   "metadata": {},
   "source": [
    "### Perceptron con Polynomial Features\n",
    "Eseguiamo Perceptron applicando anche un filtro polinomiale"
   ]
  },
  {
   "cell_type": "code",
   "execution_count": 59,
   "id": "b6144bf3",
   "metadata": {},
   "outputs": [
    {
     "name": "stdout",
     "output_type": "stream",
     "text": [
      "Parametri migliori: {'perceptron__alpha': 0.0001, 'perceptron__penalty': 'l1', 'perceptron__tol': 1e-09, 'std': StandardScaler()}\n",
      "Miglior train score: 74.9849%\n",
      "Miglior validation score: 69.1354%\n"
     ]
    }
   ],
   "source": [
    "from sklearn.preprocessing import PolynomialFeatures\n",
    "\n",
    "poly_perceptron = Pipeline([\n",
    "    ('poly', PolynomialFeatures(degree=2)),\n",
    "    ('std', StandardScaler()),\n",
    "    ('perceptron', Perceptron(n_jobs=-1, early_stopping=True, n_iter_no_change=5, random_state=42))\n",
    "])\n",
    "\n",
    "parameters = [\n",
    "    {\n",
    "        'std': [None, StandardScaler()],\n",
    "        'perceptron__penalty': ['l1', 'l2', None],\n",
    "        'perceptron__alpha': [0.0001, 0.001, 0.01],\n",
    "        'perceptron__tol': [1e-9, 1e-6, 1e-3, 1],\n",
    "    },\n",
    "    {\n",
    "        'std': [None, StandardScaler()],\n",
    "        'perceptron__penalty': ['elasticnet'],\n",
    "        'perceptron__l1_ratio': [0.1, 0.3, 0.5],\n",
    "        'perceptron__tol': [1e-9, 1e-6, 1e-3, 1],\n",
    "    }\n",
    "]\n",
    "\n",
    "poly_perceptron_cv = GridSearchCV(poly_perceptron, parameters, cv=skf, n_jobs=-1, scoring='f1')\n",
    "poly_perceptron_cv.fit(X_train, y_train)\n",
    "\n",
    "best_params(poly_perceptron_cv)"
   ]
  },
  {
   "cell_type": "code",
   "execution_count": 60,
   "id": "3187ec65",
   "metadata": {},
   "outputs": [
    {
     "data": {
      "text/plain": [
       "<AxesSubplot:>"
      ]
     },
     "execution_count": 60,
     "metadata": {},
     "output_type": "execute_result"
    },
    {
     "data": {
      "image/png": "[encoded data removed]",
      "text/plain": [
       "<Figure size 864x576 with 2 Axes>"
      ]
     },
     "metadata": {
      "needs_background": "light"
     },
     "output_type": "display_data"
    }
   ],
   "source": [
    "cmap1 = sns.diverging_palette(260,-10,s=50, l=75, n=5, as_cmap=True)\n",
    "plt.subplots(figsize=(12,8))\n",
    "cf_matrix = confusion_matrix(y_val, poly_perceptron_cv.predict(X_val))\n",
    "sns.heatmap(cf_matrix/np.sum(cf_matrix), cmap = cmap1, annot = True, annot_kws = {'size':15})"
   ]
  },
  {
   "cell_type": "code",
   "execution_count": 61,
   "id": "216f5f33",
   "metadata": {},
   "outputs": [
    {
     "data": {
      "text/plain": [
       "4     482.670472\n",
       "16    310.227086\n",
       "15    216.680375\n",
       "dtype: float64"
      ]
     },
     "execution_count": 61,
     "metadata": {},
     "output_type": "execute_result"
    }
   ],
   "source": [
    "pd.Series(poly_perceptron_cv.best_estimator_[2].coef_[0]).nlargest(3) "
   ]
  },
  {
   "cell_type": "code",
   "execution_count": 62,
   "id": "3984c93d",
   "metadata": {},
   "outputs": [
    {
     "name": "stdout",
     "output_type": "stream",
     "text": [
      "              precision    recall  f1-score   support\n",
      "\n",
      "           0       0.69      0.65      0.67     37699\n",
      "           1       0.67      0.71      0.69     38023\n",
      "\n",
      "    accuracy                           0.68     75722\n",
      "   macro avg       0.68      0.68      0.68     75722\n",
      "weighted avg       0.68      0.68      0.68     75722\n",
      "\n"
     ]
    }
   ],
   "source": [
    "pred = poly_perceptron_cv.predict(X_val)\n",
    "print(classification_report(y_val, pred))"
   ]
  },
  {
   "cell_type": "markdown",
   "id": "2814d8e3",
   "metadata": {},
   "source": [
    "Notiamo che applicando un filtro polinomiale a perceptron le sue prestazioni non migliorano, per questo per il confronto tra i modelli useremo **Perceptron con penalty l1**"
   ]
  },
  {
   "cell_type": "code",
   "execution_count": 63,
   "id": "4c00173e",
   "metadata": {},
   "outputs": [],
   "source": [
    "pred_perceptron = perceptron_cv.predict(X_val)"
   ]
  },
  {
   "cell_type": "markdown",
   "id": "18049d8e",
   "metadata": {},
   "source": [
    "## Logistic Regression"
   ]
  },
  {
   "cell_type": "markdown",
   "id": "98d3555b",
   "metadata": {},
   "source": [
    "Utilizziamo ora la Regressione Logistica per determinare la probabilità di `RainTomorrow`, attraverso una trasformazione logit sulla probabilità. "
   ]
  },
  {
   "cell_type": "code",
   "execution_count": 65,
   "id": "4f78ba62",
   "metadata": {},
   "outputs": [
    {
     "name": "stdout",
     "output_type": "stream",
     "text": [
      "Parametri migliori: {'lr__C': 0.01, 'lr__penalty': 'l2', 'lr__tol': 1}\n",
      "Miglior train score: 75.1143%\n",
      "Miglior validation score: 74.8944%\n"
     ]
    }
   ],
   "source": [
    "from sklearn.linear_model import LogisticRegression\n",
    "\n",
    "std_logisticRegression = Pipeline([\n",
    "    ('std', StandardScaler()),\n",
    "    ('lr', LogisticRegression(solver='saga', random_state=42))\n",
    "])\n",
    "\n",
    "parameters = [\n",
    "    {\n",
    "        'lr__tol': [1e-9, 1e-6, 1e-3, 1e-2, 1e-1, 1],\n",
    "        'lr__C': [1, 0.01, 0.001],\n",
    "        'lr__penalty': ['l1', 'l2']\n",
    "    },\n",
    "    {\n",
    "        'lr__tol': [1e-9, 1e-6, 1e-3, 1e-2, 1e-1, 1],\n",
    "        'lr__l1_ratio': [0.2, 0.3, 0.5],\n",
    "        'lr__penalty': ['elasticnet']\n",
    "    },\n",
    "    {\n",
    "        'lr__tol': [1e-9, 1e-6, 1e-3, 1e-2, 1e-1, 1],\n",
    "        'lr__penalty': ['none']\n",
    "    }\n",
    "]\n",
    "\n",
    "logisticRegression_cv = GridSearchCV(std_logisticRegression, parameters, cv=skf, n_jobs=-1, scoring='f1')\n",
    "logisticRegression_cv.fit(X_train, y_train)\n",
    "\n",
    "best_params(logisticRegression_cv)"
   ]
  },
  {
   "cell_type": "markdown",
   "id": "c3103ca9",
   "metadata": {},
   "source": [
    "Cerchiamo le Features maggiormente rilevanti per determinare RainTomorrow."
   ]
  },
  {
   "cell_type": "code",
   "execution_count": 66,
   "id": "705dc25d",
   "metadata": {},
   "outputs": [
    {
     "data": {
      "text/plain": [
       "Humidity3pm      0.856694\n",
       "WindGustSpeed    0.626571\n",
       "MinTemp          0.481256\n",
       "dtype: float64"
      ]
     },
     "execution_count": 66,
     "metadata": {},
     "output_type": "execute_result"
    }
   ],
   "source": [
    "pd.Series(logisticRegression_cv.best_estimator_[1].coef_[0], index=X_train.columns).nlargest(3)"
   ]
  },
  {
   "cell_type": "markdown",
   "id": "1d2562f0",
   "metadata": {},
   "source": [
    "Possiamo infatti notare che, come già visto in precedenza, una delle feature più determinanti è l'umidità alle 3 di pomeriggio del giorno prima; ma anche la velocità del vento influenza la nostra variabile target, dato che il vento permette lo spostamento delle nuvole e modifica la probabilità di pioggia in una determinata locazione geografica.\n",
    "Infine anche la temperatura massima influenza la probabilità di pioggia."
   ]
  },
  {
   "cell_type": "code",
   "execution_count": 67,
   "id": "09756fee",
   "metadata": {},
   "outputs": [
    {
     "data": {
      "text/plain": [
       "<AxesSubplot:>"
      ]
     },
     "execution_count": 67,
     "metadata": {},
     "output_type": "execute_result"
    },
    {
     "data": {
      "image/png": "[encoded data removed]",
      "text/plain": [
       "<Figure size 864x576 with 2 Axes>"
      ]
     },
     "metadata": {
      "needs_background": "light"
     },
     "output_type": "display_data"
    }
   ],
   "source": [
    "plt.subplots(figsize=(12,8))\n",
    "cf_matrix = confusion_matrix(y_val, logisticRegression_cv.predict(X_val))\n",
    "sns.heatmap(cf_matrix/np.sum(cf_matrix), cmap = cmap1, annot = True, annot_kws = {'size':15})"
   ]
  },
  {
   "cell_type": "code",
   "execution_count": 68,
   "id": "f9006d39",
   "metadata": {},
   "outputs": [],
   "source": [
    "predLogisticRegression = logisticRegression_cv.predict(X_val)"
   ]
  },
  {
   "cell_type": "markdown",
   "id": "90836569",
   "metadata": {},
   "source": [
    "Proviamo ora a vedere se usando alberi/foreste riusciamo ad ottenere risultati migliori"
   ]
  },
  {
   "cell_type": "markdown",
   "id": "e8c65d27",
   "metadata": {},
   "source": [
    "## Decision Tree"
   ]
  },
  {
   "cell_type": "code",
   "execution_count": 22,
   "id": "cb612fe8",
   "metadata": {},
   "outputs": [],
   "source": [
    "from sklearn.tree import DecisionTreeClassifier\n",
    "from sklearn.tree import plot_tree"
   ]
  },
  {
   "cell_type": "code",
   "execution_count": 29,
   "id": "ada26d85",
   "metadata": {},
   "outputs": [
    {
     "name": "stdout",
     "output_type": "stream",
     "text": [
      "Parametri migliori: {'dtc__max_depth': 17, 'dtc__min_samples_leaf': 1, 'dtc__min_samples_split': 2, 'std': None}\n",
      "Miglior train score: 82.8235%\n",
      "Miglior validation score: 83.9487%\n"
     ]
    }
   ],
   "source": [
    "DTc = Pipeline([\n",
    "    ('std', StandardScaler()),\n",
    "    ('dtc', DecisionTreeClassifier(random_state=42))\n",
    "])\n",
    "\n",
    "\n",
    "parameters = {\n",
    "    'std': [None, StandardScaler()],\n",
    "    'dtc__max_depth': range(2,20),\n",
    "    'dtc__min_samples_leaf': range(1,10,2),\n",
    "    'dtc__min_samples_split': range(2,10,2)\n",
    "}\n",
    "\n",
    "DTc_cv = GridSearchCV(DTc, parameters, cv=skf, n_jobs=-1, scoring='f1')\n",
    "DTc_cv.fit(X_train, y_train)\n",
    "\n",
    "best_params(DTc_cv)"
   ]
  },
  {
   "cell_type": "code",
   "execution_count": 51,
   "id": "1279d7e7",
   "metadata": {},
   "outputs": [
    {
     "data": {
      "text/plain": [
       "<AxesSubplot:>"
      ]
     },
     "execution_count": 51,
     "metadata": {},
     "output_type": "execute_result"
    },
    {
     "data": {
      "image/png": "[encoded data removed]",
      "text/plain": [
       "<Figure size 864x576 with 2 Axes>"
      ]
     },
     "metadata": {
      "needs_background": "light"
     },
     "output_type": "display_data"
    }
   ],
   "source": [
    "cmap1 = sns.diverging_palette(260,-10,s=50, l=75, n=5, as_cmap=True)\n",
    "plt.subplots(figsize=(12,8))\n",
    "cf_matrix = confusion_matrix(y_val, DTc_cv.predict(X_val))\n",
    "sns.heatmap(cf_matrix/np.sum(cf_matrix), cmap = cmap1, annot = True, annot_kws = {'size':15})"
   ]
  },
  {
   "cell_type": "code",
   "execution_count": 49,
   "id": "9bb66d69",
   "metadata": {},
   "outputs": [
    {
     "data": {
      "text/plain": [
       "Humidity3pm      0.330104\n",
       "Rainfall         0.191302\n",
       "WindGustSpeed    0.064430\n",
       "dtype: float64"
      ]
     },
     "execution_count": 49,
     "metadata": {},
     "output_type": "execute_result"
    }
   ],
   "source": [
    "pd.Series(DTc_cv.best_estimator_[1].feature_importances_, index=X_train.columns).nlargest(3)"
   ]
  },
  {
   "cell_type": "markdown",
   "id": "71131b1d",
   "metadata": {},
   "source": [
    "## Random Forest"
   ]
  },
  {
   "cell_type": "code",
   "execution_count": 38,
   "id": "2535afa5",
   "metadata": {},
   "outputs": [],
   "source": [
    "from sklearn.ensemble import RandomForestClassifier"
   ]
  },
  {
   "cell_type": "code",
   "execution_count": 79,
   "id": "ddee8920",
   "metadata": {},
   "outputs": [
    {
     "name": "stdout",
     "output_type": "stream",
     "text": [
      "Parametri migliori: {'rfc__max_depth': 8, 'rfc__min_samples_leaf': 1, 'rfc__min_samples_split': 2, 'rfc__n_estimators': 200, 'std': StandardScaler()}\n",
      "Miglior train score: 81.6203%\n",
      "Miglior validation score: 81.3793%\n"
     ]
    }
   ],
   "source": [
    "rfc = Pipeline([\n",
    "    ('std', StandardScaler()),\n",
    "    ('rfc', RandomForestClassifier(n_jobs=-1, random_state=42))\n",
    "])\n",
    "\n",
    "parameters = {\n",
    "    'std': [None, StandardScaler()],\n",
    "    'rfc__n_estimators': [100, 200],\n",
    "    'rfc__max_depth': range(2,10,2),\n",
    "    'rfc__min_samples_leaf': range(1,5),\n",
    "    'rfc__min_samples_split': [2, 5, 10],\n",
    "}\n",
    "\n",
    "rfc_cv = GridSearchCV(rfc, parameters, cv=skf, n_jobs=-1, scoring='f1')\n",
    "rfc_cv.fit(X_train, y_train)\n",
    "\n",
    "best_params(rfc_cv)"
   ]
  },
  {
   "cell_type": "code",
   "execution_count": 81,
   "id": "1694cced",
   "metadata": {
    "scrolled": false
   },
   "outputs": [
    {
     "data": {
      "text/plain": [
       "<AxesSubplot:>"
      ]
     },
     "execution_count": 81,
     "metadata": {},
     "output_type": "execute_result"
    },
    {
     "data": {
      "image/png": "[encoded data removed]",
      "text/plain": [
       "<Figure size 864x576 with 2 Axes>"
      ]
     },
     "metadata": {
      "needs_background": "light"
     },
     "output_type": "display_data"
    }
   ],
   "source": [
    "plt.subplots(figsize=(12,8))\n",
    "cf_matrix = confusion_matrix(y_val, rfc_cv.predict(X_val))\n",
    "sns.heatmap(cf_matrix/np.sum(cf_matrix), cmap = cmap1, annot = True, annot_kws = {'size':15})"
   ]
  },
  {
   "cell_type": "code",
   "execution_count": 86,
   "id": "1c2467a6",
   "metadata": {
    "scrolled": true
   },
   "outputs": [
    {
     "name": "stdout",
     "output_type": "stream",
     "text": [
      "Humidity3pm    0.277242\n",
      "Rainfall       0.219783\n",
      "Sunshine       0.095846\n",
      "dtype: float64\n"
     ]
    }
   ],
   "source": [
    "pd.Series(rfc_cv.best_estimator_[1].feature_importances_, index=X_train.columns).nlargest(3)"
   ]
  },
  {
   "cell_type": "code",
   "execution_count": 87,
   "id": "2f91a4bb",
   "metadata": {},
   "outputs": [],
   "source": [
    "predRandomForest = rfc_cv.predict(X_val)"
   ]
  },
  {
   "cell_type": "markdown",
   "id": "798d4951",
   "metadata": {},
   "source": [
    "## XGBOOST "
   ]
  },
  {
   "cell_type": "code",
   "execution_count": 39,
   "id": "79c902eb",
   "metadata": {},
   "outputs": [],
   "source": [
    "from xgboost import XGBClassifier"
   ]
  },
  {
   "cell_type": "code",
   "execution_count": 103,
   "id": "a7e64f45",
   "metadata": {},
   "outputs": [
    {
     "name": "stdout",
     "output_type": "stream",
     "text": [
      "Parametri migliori: {'std': None, 'xgb__alpha': 1, 'xgb__eta': 1, 'xgb__max_depth': 2, 'xgb__n_estimators': 300}\n",
      "Miglior train score: 90.0982%\n",
      "Miglior validation score: 90.0038%\n"
     ]
    }
   ],
   "source": [
    "xgb = Pipeline([\n",
    "    ('std', StandardScaler()),\n",
    "    ('xgb', XGBClassifier(objective='binary:logistic'))\n",
    "])\n",
    "\n",
    "parameters ={\n",
    "    'std': [None, StandardScaler()],\n",
    "    'xgb__eta': [0.001, 0.01, 1],\n",
    "    'xgb__max_depth': range(2, 12, 8),\n",
    "    'xgb__n_estimators': [150, 300],\n",
    "    'xgb__alpha': [0.0001, 0.001, 0.01, 1],\n",
    "}\n",
    "\n",
    "xgboost_cv = GridSearchCV(xgb, parameters, cv=skf, n_jobs=-1, scoring='f1')\n",
    "xgboost_cv.fit(X_train, y_train)\n",
    "\n",
    "best_params(xgboost_cv)"
   ]
  },
  {
   "cell_type": "code",
   "execution_count": 104,
   "id": "9f448227",
   "metadata": {},
   "outputs": [
    {
     "data": {
      "text/plain": [
       "<AxesSubplot:>"
      ]
     },
     "execution_count": 104,
     "metadata": {},
     "output_type": "execute_result"
    },
    {
     "data": {
      "image/png": "[encoded data removed]",
      "text/plain": [
       "<Figure size 864x576 with 2 Axes>"
      ]
     },
     "metadata": {
      "needs_background": "light"
     },
     "output_type": "display_data"
    }
   ],
   "source": [
    "plt.subplots(figsize=(12,8))\n",
    "cf_matrix = confusion_matrix(y_val, xgboost_cv.predict(X_val))\n",
    "sns.heatmap(cf_matrix/np.sum(cf_matrix), cmap = cmap1, annot = True, annot_kws = {'size':15})"
   ]
  },
  {
   "cell_type": "code",
   "execution_count": 105,
   "id": "7da3e34b",
   "metadata": {},
   "outputs": [
    {
     "name": "stdout",
     "output_type": "stream",
     "text": [
      "Rainfall       0.193258\n",
      "Humidity3pm    0.191329\n",
      "Cloud9am       0.112168\n",
      "dtype: float32\n"
     ]
    }
   ],
   "source": [
    "pd.Series(xgboost_cv.best_estimator_[1].feature_importances_, index=X_train.columns).nlargest(3)"
   ]
  },
  {
   "cell_type": "code",
   "execution_count": 106,
   "id": "f58d5bfc",
   "metadata": {},
   "outputs": [],
   "source": [
    "predXGBoost = xgboost_gridsearch.predict(X_val)"
   ]
  },
  {
   "cell_type": "markdown",
   "id": "b744d30d",
   "metadata": {},
   "source": [
    "## SVM "
   ]
  },
  {
   "cell_type": "code",
   "execution_count": 40,
   "id": "d8306210",
   "metadata": {},
   "outputs": [],
   "source": [
    "from sklearn.svm import SVC"
   ]
  },
  {
   "cell_type": "code",
   "execution_count": 76,
   "id": "35876f1a",
   "metadata": {},
   "outputs": [
    {
     "name": "stdout",
     "output_type": "stream",
     "text": [
      "Parametri migliori: {'svm__C': 1, 'svm__kernel': 'rbf'}\n",
      "Miglior train score: 81.6563%\n",
      "Miglior validation score: 82.0445%\n"
     ]
    }
   ],
   "source": [
    "std_svm = Pipeline([\n",
    "    ('std', StandardScaler()),\n",
    "    ('svm', SVC(random_state=42))\n",
    "])\n",
    "\n",
    "parameters = {\n",
    "    'svm__kernel': ['rbf'],\n",
    "    'svm__C': [0.01, 0.1, 1, 0.001],\n",
    "}\n",
    "\n",
    "svm_cv = GridSearchCV(std_svm, parameters, cv=skf, n_jobs=-1, scoring='f1')\n",
    "svm_cv.fit(X_train, y_train)\n",
    "\n",
    "best_params(svm_cv)"
   ]
  },
  {
   "cell_type": "code",
   "execution_count": 77,
   "id": "ea2510b8",
   "metadata": {},
   "outputs": [
    {
     "data": {
      "text/plain": [
       "<AxesSubplot:>"
      ]
     },
     "execution_count": 77,
     "metadata": {},
     "output_type": "execute_result"
    },
    {
     "data": {
      "image/png": "[encoded data removed]",
      "text/plain": [
       "<Figure size 864x576 with 2 Axes>"
      ]
     },
     "metadata": {
      "needs_background": "light"
     },
     "output_type": "display_data"
    }
   ],
   "source": [
    "plt.subplots(figsize=(12,8))\n",
    "cf_matrix = confusion_matrix(y_val, svm_cv.predict(X_val))\n",
    "sns.heatmap(cf_matrix/np.sum(cf_matrix), cmap = cmap1, annot = True, annot_kws = {'size':15})"
   ]
  },
  {
   "cell_type": "code",
   "execution_count": 78,
   "id": "ab79fe81",
   "metadata": {},
   "outputs": [
    {
     "name": "stdout",
     "output_type": "stream",
     "text": [
      "RainToday     1.675308\n",
      "Location      1.163442\n",
      "WindDir3pm    0.510298\n",
      "dtype: float64\n"
     ]
    }
   ],
   "source": [
    "pd.Series(svm_cv.best_estimator_[1].support_vectors_[0], index=X_train.columns).nlargest(3)"
   ]
  },
  {
   "cell_type": "markdown",
   "id": "41cdef8c",
   "metadata": {},
   "source": [
    "Dalla cella precedente, possiamo notare che SVM ha individuato che la velocità della raffica di vento più forte indice sulla probiabilità che possa piovere. "
   ]
  },
  {
   "cell_type": "code",
   "execution_count": 83,
   "id": "b167d8b8",
   "metadata": {},
   "outputs": [],
   "source": [
    "predSVM = svm_cv.predict(X_val)"
   ]
  },
  {
   "cell_type": "markdown",
   "id": "fa764fc8",
   "metadata": {},
   "source": [
    "# Comparazione dei modelli"
   ]
  },
  {
   "cell_type": "markdown",
   "id": "08465382",
   "metadata": {},
   "source": [
    "Perceptron, Logistic Regresion RandomForesti e XGBOOST hanno individuato che la percentuale di umidità alle 3pm influenza la probabilità di pioggia, come abbiamo stimato tramite lo studio della correlazione tra le variabili del dataset; mentre per SVM il primo parametro che influenza la probabilità è WindGustSpeed"
   ]
  },
  {
   "cell_type": "code",
   "execution_count": 43,
   "id": "4ecc512c",
   "metadata": {},
   "outputs": [],
   "source": [
    "from sklearn.model_selection import cross_val_score"
   ]
  },
  {
   "cell_type": "markdown",
   "id": "f244953f",
   "metadata": {},
   "source": [
    "Costruiamo i 3 modelli con i parametri migliori trovati con Grid Search"
   ]
  },
  {
   "cell_type": "code",
   "execution_count": 41,
   "id": "c1edc7bb",
   "metadata": {},
   "outputs": [],
   "source": [
    "DTc = DecisionTreeClassifier(random_state=42, max_depth=17, min_samples_leaf=1, min_samples_split=2)"
   ]
  },
  {
   "cell_type": "code",
   "execution_count": 42,
   "id": "78df49e0",
   "metadata": {},
   "outputs": [],
   "source": [
    "rfc = Pipeline([\n",
    "    ('std', StandardScaler()),\n",
    "    ('rfc', RandomForestClassifier(n_jobs=-1, \n",
    "                                   random_state=42, \n",
    "                                   max_depth=8, \n",
    "                                   min_samples_leaf=1, \n",
    "                                   min_samples_split=2,\n",
    "                                  n_estimators=200))\n",
    "])"
   ]
  },
  {
   "cell_type": "code",
   "execution_count": 44,
   "id": "4c98ddd0",
   "metadata": {},
   "outputs": [],
   "source": [
    "xgboost = XGBClassifier(objective='binary:logistic', alpha=1, eta=1, max_depth=2, n_estimators=300)"
   ]
  },
  {
   "cell_type": "code",
   "execution_count": 45,
   "id": "5095b953",
   "metadata": {},
   "outputs": [],
   "source": [
    "svm = Pipeline([\n",
    "    ('std', StandardScaler()),\n",
    "    ('svm', SVC(random_state=42, kernel='rbf', C=1))\n",
    "])"
   ]
  },
  {
   "cell_type": "markdown",
   "id": "0c75ab64",
   "metadata": {},
   "source": [
    "Calcoliamo lo **scarto quatratico medio** (deviazione standard) e la **media** degli score per ogni modello"
   ]
  },
  {
   "cell_type": "code",
   "execution_count": 47,
   "id": "12ca68d4",
   "metadata": {},
   "outputs": [],
   "source": [
    "mean = [cross_val_score(model, X_val, y_val, cv=skf, scoring='f1').mean() \n",
    "        for model in [DTc, rfc, xgboost, svm]]\n",
    "std = [cross_val_score(model, X_val, y_val, cv=skf, scoring='f1').std() \n",
    "        for model in [DTc, rfc, xgboost, svm]]"
   ]
  },
  {
   "cell_type": "code",
   "execution_count": 48,
   "id": "6e53d39e",
   "metadata": {},
   "outputs": [
    {
     "data": {
      "text/html": [
       "<div>\n",
       "<style scoped>\n",
       "    .dataframe tbody tr th:only-of-type {\n",
       "        vertical-align: middle;\n",
       "    }\n",
       "\n",
       "    .dataframe tbody tr th {\n",
       "        vertical-align: top;\n",
       "    }\n",
       "\n",
       "    .dataframe thead th {\n",
       "        text-align: right;\n",
       "    }\n",
       "</style>\n",
       "<table border=\"1\" class=\"dataframe\">\n",
       "  <thead>\n",
       "    <tr style=\"text-align: right;\">\n",
       "      <th></th>\n",
       "      <th>Media</th>\n",
       "      <th>Deviazione Standard</th>\n",
       "    </tr>\n",
       "  </thead>\n",
       "  <tbody>\n",
       "    <tr>\n",
       "      <th>DecisionTreeClassifier</th>\n",
       "      <td>0.810031</td>\n",
       "      <td>0.002732</td>\n",
       "    </tr>\n",
       "    <tr>\n",
       "      <th>RandomForest</th>\n",
       "      <td>0.814493</td>\n",
       "      <td>0.000727</td>\n",
       "    </tr>\n",
       "    <tr>\n",
       "      <th>XGBoost</th>\n",
       "      <td>0.896755</td>\n",
       "      <td>0.000877</td>\n",
       "    </tr>\n",
       "    <tr>\n",
       "      <th>SVM</th>\n",
       "      <td>0.810662</td>\n",
       "      <td>0.002883</td>\n",
       "    </tr>\n",
       "  </tbody>\n",
       "</table>\n",
       "</div>"
      ],
      "text/plain": [
       "                           Media  Deviazione Standard\n",
       "DecisionTreeClassifier  0.810031             0.002732\n",
       "RandomForest            0.814493             0.000727\n",
       "XGBoost                 0.896755             0.000877\n",
       "SVM                     0.810662             0.002883"
      ]
     },
     "execution_count": 48,
     "metadata": {},
     "output_type": "execute_result"
    }
   ],
   "source": [
    "model_name = [\"DecisionTreeClassifier\", \"RandomForest\", \"XGBoost\", \"SVM\"]\n",
    "pd.DataFrame(\n",
    "    data={\"Media\":mean, \"Deviazione Standard\": std}, index=model_name\n",
    ")"
   ]
  },
  {
   "cell_type": "markdown",
   "id": "3af6bfd6",
   "metadata": {},
   "source": [
    "In conclusione possiamo dedurre, analizzando i dati delle statistiche sopra riportate, che il modello più adeguato per predirre la nostra variabile target `RainTorrow` è XGBOOST."
   ]
  }
 ],
 "metadata": {
  "kernelspec": {
   "display_name": "Python 3 (ipykernel)",
   "language": "python",
   "name": "python3"
  },
  "language_info": {
   "codemirror_mode": {
    "name": "ipython",
    "version": 3
   },
   "file_extension": ".py",
   "mimetype": "text/x-python",
   "name": "python",
   "nbconvert_exporter": "python",
   "pygments_lexer": "ipython3",
   "version": "3.9.12"
  }
 },
 "nbformat": 4,
 "nbformat_minor": 5
}
