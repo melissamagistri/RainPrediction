{
 "cells": [
  {
   "cell_type": "code",
   "execution_count": 1,
   "id": "3b443f3a",
   "metadata": {},
   "outputs": [],
   "source": [
    "import numpy as np\n",
    "import pandas as pd\n",
    "import matplotlib.pyplot as plt\n",
    "import seaborn as sns"
   ]
  },
  {
   "cell_type": "markdown",
   "id": "dca021e1",
   "metadata": {},
   "source": [
    "## DESCRIZIONE del PROBLEMA \n",
    "Il dataset in analisi contiene informazioni riguardanti le statiche per giorno, dall'anno 2008 fino al 2018, e per locazione, cioè nello stato australiano. \n",
    "L'obbiettivo del dataset è predirre se il giorno successivo pioverà.\n",
    "Questo viene fatto nella colonna 'RainTomorrow'."
   ]
  },
  {
   "cell_type": "code",
   "execution_count": 2,
   "id": "1187690f",
   "metadata": {},
   "outputs": [],
   "source": [
    "dataset = pd.read_csv('weatherAUS.csv')"
   ]
  },
  {
   "cell_type": "code",
   "execution_count": 3,
   "id": "9a98f430",
   "metadata": {},
   "outputs": [
    {
     "data": {
      "text/html": [
       "<div>\n",
       "<style scoped>\n",
       "    .dataframe tbody tr th:only-of-type {\n",
       "        vertical-align: middle;\n",
       "    }\n",
       "\n",
       "    .dataframe tbody tr th {\n",
       "        vertical-align: top;\n",
       "    }\n",
       "\n",
       "    .dataframe thead th {\n",
       "        text-align: right;\n",
       "    }\n",
       "</style>\n",
       "<table border=\"1\" class=\"dataframe\">\n",
       "  <thead>\n",
       "    <tr style=\"text-align: right;\">\n",
       "      <th></th>\n",
       "      <th>Date</th>\n",
       "      <th>Location</th>\n",
       "      <th>MinTemp</th>\n",
       "      <th>MaxTemp</th>\n",
       "      <th>Rainfall</th>\n",
       "      <th>Evaporation</th>\n",
       "      <th>Sunshine</th>\n",
       "      <th>WindGustDir</th>\n",
       "      <th>WindGustSpeed</th>\n",
       "      <th>WindDir9am</th>\n",
       "      <th>...</th>\n",
       "      <th>Humidity9am</th>\n",
       "      <th>Humidity3pm</th>\n",
       "      <th>Pressure9am</th>\n",
       "      <th>Pressure3pm</th>\n",
       "      <th>Cloud9am</th>\n",
       "      <th>Cloud3pm</th>\n",
       "      <th>Temp9am</th>\n",
       "      <th>Temp3pm</th>\n",
       "      <th>RainToday</th>\n",
       "      <th>RainTomorrow</th>\n",
       "    </tr>\n",
       "  </thead>\n",
       "  <tbody>\n",
       "    <tr>\n",
       "      <th>0</th>\n",
       "      <td>2008-12-01</td>\n",
       "      <td>Albury</td>\n",
       "      <td>13.4</td>\n",
       "      <td>22.9</td>\n",
       "      <td>0.6</td>\n",
       "      <td>NaN</td>\n",
       "      <td>NaN</td>\n",
       "      <td>W</td>\n",
       "      <td>44.0</td>\n",
       "      <td>W</td>\n",
       "      <td>...</td>\n",
       "      <td>71.0</td>\n",
       "      <td>22.0</td>\n",
       "      <td>1007.7</td>\n",
       "      <td>1007.1</td>\n",
       "      <td>8.0</td>\n",
       "      <td>NaN</td>\n",
       "      <td>16.9</td>\n",
       "      <td>21.8</td>\n",
       "      <td>No</td>\n",
       "      <td>No</td>\n",
       "    </tr>\n",
       "    <tr>\n",
       "      <th>1</th>\n",
       "      <td>2008-12-02</td>\n",
       "      <td>Albury</td>\n",
       "      <td>7.4</td>\n",
       "      <td>25.1</td>\n",
       "      <td>0.0</td>\n",
       "      <td>NaN</td>\n",
       "      <td>NaN</td>\n",
       "      <td>WNW</td>\n",
       "      <td>44.0</td>\n",
       "      <td>NNW</td>\n",
       "      <td>...</td>\n",
       "      <td>44.0</td>\n",
       "      <td>25.0</td>\n",
       "      <td>1010.6</td>\n",
       "      <td>1007.8</td>\n",
       "      <td>NaN</td>\n",
       "      <td>NaN</td>\n",
       "      <td>17.2</td>\n",
       "      <td>24.3</td>\n",
       "      <td>No</td>\n",
       "      <td>No</td>\n",
       "    </tr>\n",
       "    <tr>\n",
       "      <th>2</th>\n",
       "      <td>2008-12-03</td>\n",
       "      <td>Albury</td>\n",
       "      <td>12.9</td>\n",
       "      <td>25.7</td>\n",
       "      <td>0.0</td>\n",
       "      <td>NaN</td>\n",
       "      <td>NaN</td>\n",
       "      <td>WSW</td>\n",
       "      <td>46.0</td>\n",
       "      <td>W</td>\n",
       "      <td>...</td>\n",
       "      <td>38.0</td>\n",
       "      <td>30.0</td>\n",
       "      <td>1007.6</td>\n",
       "      <td>1008.7</td>\n",
       "      <td>NaN</td>\n",
       "      <td>2.0</td>\n",
       "      <td>21.0</td>\n",
       "      <td>23.2</td>\n",
       "      <td>No</td>\n",
       "      <td>No</td>\n",
       "    </tr>\n",
       "    <tr>\n",
       "      <th>3</th>\n",
       "      <td>2008-12-04</td>\n",
       "      <td>Albury</td>\n",
       "      <td>9.2</td>\n",
       "      <td>28.0</td>\n",
       "      <td>0.0</td>\n",
       "      <td>NaN</td>\n",
       "      <td>NaN</td>\n",
       "      <td>NE</td>\n",
       "      <td>24.0</td>\n",
       "      <td>SE</td>\n",
       "      <td>...</td>\n",
       "      <td>45.0</td>\n",
       "      <td>16.0</td>\n",
       "      <td>1017.6</td>\n",
       "      <td>1012.8</td>\n",
       "      <td>NaN</td>\n",
       "      <td>NaN</td>\n",
       "      <td>18.1</td>\n",
       "      <td>26.5</td>\n",
       "      <td>No</td>\n",
       "      <td>No</td>\n",
       "    </tr>\n",
       "    <tr>\n",
       "      <th>4</th>\n",
       "      <td>2008-12-05</td>\n",
       "      <td>Albury</td>\n",
       "      <td>17.5</td>\n",
       "      <td>32.3</td>\n",
       "      <td>1.0</td>\n",
       "      <td>NaN</td>\n",
       "      <td>NaN</td>\n",
       "      <td>W</td>\n",
       "      <td>41.0</td>\n",
       "      <td>ENE</td>\n",
       "      <td>...</td>\n",
       "      <td>82.0</td>\n",
       "      <td>33.0</td>\n",
       "      <td>1010.8</td>\n",
       "      <td>1006.0</td>\n",
       "      <td>7.0</td>\n",
       "      <td>8.0</td>\n",
       "      <td>17.8</td>\n",
       "      <td>29.7</td>\n",
       "      <td>No</td>\n",
       "      <td>No</td>\n",
       "    </tr>\n",
       "  </tbody>\n",
       "</table>\n",
       "<p>5 rows × 23 columns</p>\n",
       "</div>"
      ],
      "text/plain": [
       "         Date Location  MinTemp  MaxTemp  Rainfall  Evaporation  Sunshine  \\\n",
       "0  2008-12-01   Albury     13.4     22.9       0.6          NaN       NaN   \n",
       "1  2008-12-02   Albury      7.4     25.1       0.0          NaN       NaN   \n",
       "2  2008-12-03   Albury     12.9     25.7       0.0          NaN       NaN   \n",
       "3  2008-12-04   Albury      9.2     28.0       0.0          NaN       NaN   \n",
       "4  2008-12-05   Albury     17.5     32.3       1.0          NaN       NaN   \n",
       "\n",
       "  WindGustDir  WindGustSpeed WindDir9am  ... Humidity9am  Humidity3pm  \\\n",
       "0           W           44.0          W  ...        71.0         22.0   \n",
       "1         WNW           44.0        NNW  ...        44.0         25.0   \n",
       "2         WSW           46.0          W  ...        38.0         30.0   \n",
       "3          NE           24.0         SE  ...        45.0         16.0   \n",
       "4           W           41.0        ENE  ...        82.0         33.0   \n",
       "\n",
       "   Pressure9am  Pressure3pm  Cloud9am  Cloud3pm  Temp9am  Temp3pm  RainToday  \\\n",
       "0       1007.7       1007.1       8.0       NaN     16.9     21.8         No   \n",
       "1       1010.6       1007.8       NaN       NaN     17.2     24.3         No   \n",
       "2       1007.6       1008.7       NaN       2.0     21.0     23.2         No   \n",
       "3       1017.6       1012.8       NaN       NaN     18.1     26.5         No   \n",
       "4       1010.8       1006.0       7.0       8.0     17.8     29.7         No   \n",
       "\n",
       "   RainTomorrow  \n",
       "0            No  \n",
       "1            No  \n",
       "2            No  \n",
       "3            No  \n",
       "4            No  \n",
       "\n",
       "[5 rows x 23 columns]"
      ]
     },
     "execution_count": 3,
     "metadata": {},
     "output_type": "execute_result"
    }
   ],
   "source": [
    "dataset.head()"
   ]
  },
  {
   "cell_type": "code",
   "execution_count": 4,
   "id": "51fc2904",
   "metadata": {},
   "outputs": [],
   "source": [
    "dataset['Date']= pd.to_datetime(dataset[\"Date\"])\n",
    "#Creazione della colonna year \n",
    "dataset['year'] = dataset.Date.dt.year"
   ]
  },
  {
   "cell_type": "code",
   "execution_count": 5,
   "id": "acd86d99",
   "metadata": {},
   "outputs": [
    {
     "data": {
      "text/html": [
       "<div>\n",
       "<style scoped>\n",
       "    .dataframe tbody tr th:only-of-type {\n",
       "        vertical-align: middle;\n",
       "    }\n",
       "\n",
       "    .dataframe tbody tr th {\n",
       "        vertical-align: top;\n",
       "    }\n",
       "\n",
       "    .dataframe thead th {\n",
       "        text-align: right;\n",
       "    }\n",
       "</style>\n",
       "<table border=\"1\" class=\"dataframe\">\n",
       "  <thead>\n",
       "    <tr style=\"text-align: right;\">\n",
       "      <th></th>\n",
       "      <th>Date</th>\n",
       "      <th>Location</th>\n",
       "      <th>MinTemp</th>\n",
       "      <th>MaxTemp</th>\n",
       "      <th>Rainfall</th>\n",
       "      <th>Evaporation</th>\n",
       "      <th>Sunshine</th>\n",
       "      <th>WindGustDir</th>\n",
       "      <th>WindGustSpeed</th>\n",
       "      <th>WindDir9am</th>\n",
       "      <th>...</th>\n",
       "      <th>Humidity3pm</th>\n",
       "      <th>Pressure9am</th>\n",
       "      <th>Pressure3pm</th>\n",
       "      <th>Cloud9am</th>\n",
       "      <th>Cloud3pm</th>\n",
       "      <th>Temp9am</th>\n",
       "      <th>Temp3pm</th>\n",
       "      <th>RainToday</th>\n",
       "      <th>RainTomorrow</th>\n",
       "      <th>year</th>\n",
       "    </tr>\n",
       "  </thead>\n",
       "  <tbody>\n",
       "    <tr>\n",
       "      <th>0</th>\n",
       "      <td>2008-12-01</td>\n",
       "      <td>Albury</td>\n",
       "      <td>13.4</td>\n",
       "      <td>22.9</td>\n",
       "      <td>0.6</td>\n",
       "      <td>NaN</td>\n",
       "      <td>NaN</td>\n",
       "      <td>W</td>\n",
       "      <td>44.0</td>\n",
       "      <td>W</td>\n",
       "      <td>...</td>\n",
       "      <td>22.0</td>\n",
       "      <td>1007.7</td>\n",
       "      <td>1007.1</td>\n",
       "      <td>8.0</td>\n",
       "      <td>NaN</td>\n",
       "      <td>16.9</td>\n",
       "      <td>21.8</td>\n",
       "      <td>No</td>\n",
       "      <td>No</td>\n",
       "      <td>2008</td>\n",
       "    </tr>\n",
       "    <tr>\n",
       "      <th>1</th>\n",
       "      <td>2008-12-02</td>\n",
       "      <td>Albury</td>\n",
       "      <td>7.4</td>\n",
       "      <td>25.1</td>\n",
       "      <td>0.0</td>\n",
       "      <td>NaN</td>\n",
       "      <td>NaN</td>\n",
       "      <td>WNW</td>\n",
       "      <td>44.0</td>\n",
       "      <td>NNW</td>\n",
       "      <td>...</td>\n",
       "      <td>25.0</td>\n",
       "      <td>1010.6</td>\n",
       "      <td>1007.8</td>\n",
       "      <td>NaN</td>\n",
       "      <td>NaN</td>\n",
       "      <td>17.2</td>\n",
       "      <td>24.3</td>\n",
       "      <td>No</td>\n",
       "      <td>No</td>\n",
       "      <td>2008</td>\n",
       "    </tr>\n",
       "    <tr>\n",
       "      <th>2</th>\n",
       "      <td>2008-12-03</td>\n",
       "      <td>Albury</td>\n",
       "      <td>12.9</td>\n",
       "      <td>25.7</td>\n",
       "      <td>0.0</td>\n",
       "      <td>NaN</td>\n",
       "      <td>NaN</td>\n",
       "      <td>WSW</td>\n",
       "      <td>46.0</td>\n",
       "      <td>W</td>\n",
       "      <td>...</td>\n",
       "      <td>30.0</td>\n",
       "      <td>1007.6</td>\n",
       "      <td>1008.7</td>\n",
       "      <td>NaN</td>\n",
       "      <td>2.0</td>\n",
       "      <td>21.0</td>\n",
       "      <td>23.2</td>\n",
       "      <td>No</td>\n",
       "      <td>No</td>\n",
       "      <td>2008</td>\n",
       "    </tr>\n",
       "    <tr>\n",
       "      <th>3</th>\n",
       "      <td>2008-12-04</td>\n",
       "      <td>Albury</td>\n",
       "      <td>9.2</td>\n",
       "      <td>28.0</td>\n",
       "      <td>0.0</td>\n",
       "      <td>NaN</td>\n",
       "      <td>NaN</td>\n",
       "      <td>NE</td>\n",
       "      <td>24.0</td>\n",
       "      <td>SE</td>\n",
       "      <td>...</td>\n",
       "      <td>16.0</td>\n",
       "      <td>1017.6</td>\n",
       "      <td>1012.8</td>\n",
       "      <td>NaN</td>\n",
       "      <td>NaN</td>\n",
       "      <td>18.1</td>\n",
       "      <td>26.5</td>\n",
       "      <td>No</td>\n",
       "      <td>No</td>\n",
       "      <td>2008</td>\n",
       "    </tr>\n",
       "    <tr>\n",
       "      <th>4</th>\n",
       "      <td>2008-12-05</td>\n",
       "      <td>Albury</td>\n",
       "      <td>17.5</td>\n",
       "      <td>32.3</td>\n",
       "      <td>1.0</td>\n",
       "      <td>NaN</td>\n",
       "      <td>NaN</td>\n",
       "      <td>W</td>\n",
       "      <td>41.0</td>\n",
       "      <td>ENE</td>\n",
       "      <td>...</td>\n",
       "      <td>33.0</td>\n",
       "      <td>1010.8</td>\n",
       "      <td>1006.0</td>\n",
       "      <td>7.0</td>\n",
       "      <td>8.0</td>\n",
       "      <td>17.8</td>\n",
       "      <td>29.7</td>\n",
       "      <td>No</td>\n",
       "      <td>No</td>\n",
       "      <td>2008</td>\n",
       "    </tr>\n",
       "    <tr>\n",
       "      <th>...</th>\n",
       "      <td>...</td>\n",
       "      <td>...</td>\n",
       "      <td>...</td>\n",
       "      <td>...</td>\n",
       "      <td>...</td>\n",
       "      <td>...</td>\n",
       "      <td>...</td>\n",
       "      <td>...</td>\n",
       "      <td>...</td>\n",
       "      <td>...</td>\n",
       "      <td>...</td>\n",
       "      <td>...</td>\n",
       "      <td>...</td>\n",
       "      <td>...</td>\n",
       "      <td>...</td>\n",
       "      <td>...</td>\n",
       "      <td>...</td>\n",
       "      <td>...</td>\n",
       "      <td>...</td>\n",
       "      <td>...</td>\n",
       "      <td>...</td>\n",
       "    </tr>\n",
       "    <tr>\n",
       "      <th>145455</th>\n",
       "      <td>2017-06-21</td>\n",
       "      <td>Uluru</td>\n",
       "      <td>2.8</td>\n",
       "      <td>23.4</td>\n",
       "      <td>0.0</td>\n",
       "      <td>NaN</td>\n",
       "      <td>NaN</td>\n",
       "      <td>E</td>\n",
       "      <td>31.0</td>\n",
       "      <td>SE</td>\n",
       "      <td>...</td>\n",
       "      <td>24.0</td>\n",
       "      <td>1024.6</td>\n",
       "      <td>1020.3</td>\n",
       "      <td>NaN</td>\n",
       "      <td>NaN</td>\n",
       "      <td>10.1</td>\n",
       "      <td>22.4</td>\n",
       "      <td>No</td>\n",
       "      <td>No</td>\n",
       "      <td>2017</td>\n",
       "    </tr>\n",
       "    <tr>\n",
       "      <th>145456</th>\n",
       "      <td>2017-06-22</td>\n",
       "      <td>Uluru</td>\n",
       "      <td>3.6</td>\n",
       "      <td>25.3</td>\n",
       "      <td>0.0</td>\n",
       "      <td>NaN</td>\n",
       "      <td>NaN</td>\n",
       "      <td>NNW</td>\n",
       "      <td>22.0</td>\n",
       "      <td>SE</td>\n",
       "      <td>...</td>\n",
       "      <td>21.0</td>\n",
       "      <td>1023.5</td>\n",
       "      <td>1019.1</td>\n",
       "      <td>NaN</td>\n",
       "      <td>NaN</td>\n",
       "      <td>10.9</td>\n",
       "      <td>24.5</td>\n",
       "      <td>No</td>\n",
       "      <td>No</td>\n",
       "      <td>2017</td>\n",
       "    </tr>\n",
       "    <tr>\n",
       "      <th>145457</th>\n",
       "      <td>2017-06-23</td>\n",
       "      <td>Uluru</td>\n",
       "      <td>5.4</td>\n",
       "      <td>26.9</td>\n",
       "      <td>0.0</td>\n",
       "      <td>NaN</td>\n",
       "      <td>NaN</td>\n",
       "      <td>N</td>\n",
       "      <td>37.0</td>\n",
       "      <td>SE</td>\n",
       "      <td>...</td>\n",
       "      <td>24.0</td>\n",
       "      <td>1021.0</td>\n",
       "      <td>1016.8</td>\n",
       "      <td>NaN</td>\n",
       "      <td>NaN</td>\n",
       "      <td>12.5</td>\n",
       "      <td>26.1</td>\n",
       "      <td>No</td>\n",
       "      <td>No</td>\n",
       "      <td>2017</td>\n",
       "    </tr>\n",
       "    <tr>\n",
       "      <th>145458</th>\n",
       "      <td>2017-06-24</td>\n",
       "      <td>Uluru</td>\n",
       "      <td>7.8</td>\n",
       "      <td>27.0</td>\n",
       "      <td>0.0</td>\n",
       "      <td>NaN</td>\n",
       "      <td>NaN</td>\n",
       "      <td>SE</td>\n",
       "      <td>28.0</td>\n",
       "      <td>SSE</td>\n",
       "      <td>...</td>\n",
       "      <td>24.0</td>\n",
       "      <td>1019.4</td>\n",
       "      <td>1016.5</td>\n",
       "      <td>3.0</td>\n",
       "      <td>2.0</td>\n",
       "      <td>15.1</td>\n",
       "      <td>26.0</td>\n",
       "      <td>No</td>\n",
       "      <td>No</td>\n",
       "      <td>2017</td>\n",
       "    </tr>\n",
       "    <tr>\n",
       "      <th>145459</th>\n",
       "      <td>2017-06-25</td>\n",
       "      <td>Uluru</td>\n",
       "      <td>14.9</td>\n",
       "      <td>NaN</td>\n",
       "      <td>0.0</td>\n",
       "      <td>NaN</td>\n",
       "      <td>NaN</td>\n",
       "      <td>NaN</td>\n",
       "      <td>NaN</td>\n",
       "      <td>ESE</td>\n",
       "      <td>...</td>\n",
       "      <td>36.0</td>\n",
       "      <td>1020.2</td>\n",
       "      <td>1017.9</td>\n",
       "      <td>8.0</td>\n",
       "      <td>8.0</td>\n",
       "      <td>15.0</td>\n",
       "      <td>20.9</td>\n",
       "      <td>No</td>\n",
       "      <td>NaN</td>\n",
       "      <td>2017</td>\n",
       "    </tr>\n",
       "  </tbody>\n",
       "</table>\n",
       "<p>145460 rows × 24 columns</p>\n",
       "</div>"
      ],
      "text/plain": [
       "             Date Location  MinTemp  MaxTemp  Rainfall  Evaporation  Sunshine  \\\n",
       "0      2008-12-01   Albury     13.4     22.9       0.6          NaN       NaN   \n",
       "1      2008-12-02   Albury      7.4     25.1       0.0          NaN       NaN   \n",
       "2      2008-12-03   Albury     12.9     25.7       0.0          NaN       NaN   \n",
       "3      2008-12-04   Albury      9.2     28.0       0.0          NaN       NaN   \n",
       "4      2008-12-05   Albury     17.5     32.3       1.0          NaN       NaN   \n",
       "...           ...      ...      ...      ...       ...          ...       ...   \n",
       "145455 2017-06-21    Uluru      2.8     23.4       0.0          NaN       NaN   \n",
       "145456 2017-06-22    Uluru      3.6     25.3       0.0          NaN       NaN   \n",
       "145457 2017-06-23    Uluru      5.4     26.9       0.0          NaN       NaN   \n",
       "145458 2017-06-24    Uluru      7.8     27.0       0.0          NaN       NaN   \n",
       "145459 2017-06-25    Uluru     14.9      NaN       0.0          NaN       NaN   \n",
       "\n",
       "       WindGustDir  WindGustSpeed WindDir9am  ... Humidity3pm  Pressure9am  \\\n",
       "0                W           44.0          W  ...        22.0       1007.7   \n",
       "1              WNW           44.0        NNW  ...        25.0       1010.6   \n",
       "2              WSW           46.0          W  ...        30.0       1007.6   \n",
       "3               NE           24.0         SE  ...        16.0       1017.6   \n",
       "4                W           41.0        ENE  ...        33.0       1010.8   \n",
       "...            ...            ...        ...  ...         ...          ...   \n",
       "145455           E           31.0         SE  ...        24.0       1024.6   \n",
       "145456         NNW           22.0         SE  ...        21.0       1023.5   \n",
       "145457           N           37.0         SE  ...        24.0       1021.0   \n",
       "145458          SE           28.0        SSE  ...        24.0       1019.4   \n",
       "145459         NaN            NaN        ESE  ...        36.0       1020.2   \n",
       "\n",
       "        Pressure3pm  Cloud9am  Cloud3pm  Temp9am  Temp3pm  RainToday  \\\n",
       "0            1007.1       8.0       NaN     16.9     21.8         No   \n",
       "1            1007.8       NaN       NaN     17.2     24.3         No   \n",
       "2            1008.7       NaN       2.0     21.0     23.2         No   \n",
       "3            1012.8       NaN       NaN     18.1     26.5         No   \n",
       "4            1006.0       7.0       8.0     17.8     29.7         No   \n",
       "...             ...       ...       ...      ...      ...        ...   \n",
       "145455       1020.3       NaN       NaN     10.1     22.4         No   \n",
       "145456       1019.1       NaN       NaN     10.9     24.5         No   \n",
       "145457       1016.8       NaN       NaN     12.5     26.1         No   \n",
       "145458       1016.5       3.0       2.0     15.1     26.0         No   \n",
       "145459       1017.9       8.0       8.0     15.0     20.9         No   \n",
       "\n",
       "        RainTomorrow  year  \n",
       "0                 No  2008  \n",
       "1                 No  2008  \n",
       "2                 No  2008  \n",
       "3                 No  2008  \n",
       "4                 No  2008  \n",
       "...              ...   ...  \n",
       "145455            No  2017  \n",
       "145456            No  2017  \n",
       "145457            No  2017  \n",
       "145458            No  2017  \n",
       "145459           NaN  2017  \n",
       "\n",
       "[145460 rows x 24 columns]"
      ]
     },
     "execution_count": 5,
     "metadata": {},
     "output_type": "execute_result"
    }
   ],
   "source": [
    "dataset"
   ]
  },
  {
   "cell_type": "markdown",
   "id": "66a298d8",
   "metadata": {},
   "source": [
    "Le Features del dataset sono le seguenti, visibili nella tabella del dataset:\n",
    "1. Date: il giorno del mese della predizione.\n",
    "2. Location: la città di analisi. \n",
    "3. MinTemp: temperatura più bassa per giornata in gradi.\n",
    "4. MaxTemp: temperatura più alta per giornata in gradi.\n",
    "5. RainFall: la quantità di precipitazioni registrate per la giornata in mm.\n",
    "6. Evaporation: la cosiddetta evaporazione in padella di Classe A (mm) nelle 24 ore alle 9 del mattino.\n",
    "7. Sunshine: il numero di ore di sole nel corso della giornata.\n",
    "8. WindGustDir: la direzione della raffica di vento più forte nelle 24 ore fino a mezzanotte.\n",
    "9. WindGustSpeed: la velocità (km/h) della raffica di vento più forte nelle 24 ore fino a mezzanotte.\n",
    "10. WindDir9am: direzione del vento alle 9am. \n",
    "11. WindDir3pm: direzione del vento alle 3pm. \n",
    "12. WindSpeed9am: velocità media del vento in 10 minuti 9am.\n",
    "13. WindSpeed3pm: velocità media del vento in 10 minuti 3pm.\n",
    "14. Humidity9am: umidità (percentuale) alle 9am.\n",
    "15. Humidity3pm: umidità (percentuale) alle 3pm.\n",
    "16. Pressure9am: pressione atmosferica (hpa) a livello del mare alle 9am.\n",
    "17. Pressure3pm: pressione atmosferica (hpa) a livello del mare alle 3pm.\n",
    "18. Cloud9am: porzione di cielo nuvoloso alle 9am (in \"oktas\": eighths).\n",
    "19. Cloud3pm: porzione di cielo nuvoloso alle 3pm (in \"oktas\": eighths).\n",
    "20. Temp9am: Temperatura (gradi C) alle 9am.\n",
    "21. Temp3pm: Temperatura (gradi C) alle 3pm.\n",
    "22. RainToday: variabile categorica che determina se ha piovuto il giorno stesso.\n",
    "23. RainTomorrow: variabile categorica che determina se pioverà il giorno successivo."
   ]
  },
  {
   "cell_type": "markdown",
   "id": "7c8ddeee",
   "metadata": {},
   "source": [
    "La variabile da predirre è: \n",
    "'RainTomorrow', che definisce se domani pioverà, in particolare la definiremo come varibile discreta binaria."
   ]
  },
  {
   "cell_type": "markdown",
   "id": "1db2b620",
   "metadata": {},
   "source": [
    "Le varibili delle feature sono: \n",
    "1. Numeriche: 'MinTemp', 'MaxTemp', 'Rainfall', 'Evaporation', 'Sunshine', 'WindGustSpeed', 'WindSpeed9am', 'WindSpeed3pm', 'Humidity9am', 'Humidity3pm', 'Pressure9am', 'Pressure3pm', 'Cloud9am', 'Cloud3pm', 'Temp9am', 'Temp3pm'. \n",
    "2. Categoriche: 'Location', 'WindGustDir', 'WindDir9am', 'WindDir3pm', 'RainToday', 'RainTomorrow'."
   ]
  },
  {
   "cell_type": "markdown",
   "id": "3dc62094",
   "metadata": {},
   "source": [
    "id identifica univocamente i record del dataset, ma non avendo alcuna importanza ai fini della predizione, si procede a sostituire l'indice del dataframe pandas con  la colonna 'Date'."
   ]
  },
  {
   "cell_type": "code",
   "execution_count": 6,
   "id": "a937efce",
   "metadata": {},
   "outputs": [
    {
     "data": {
      "text/html": [
       "<div>\n",
       "<style scoped>\n",
       "    .dataframe tbody tr th:only-of-type {\n",
       "        vertical-align: middle;\n",
       "    }\n",
       "\n",
       "    .dataframe tbody tr th {\n",
       "        vertical-align: top;\n",
       "    }\n",
       "\n",
       "    .dataframe thead th {\n",
       "        text-align: right;\n",
       "    }\n",
       "</style>\n",
       "<table border=\"1\" class=\"dataframe\">\n",
       "  <thead>\n",
       "    <tr style=\"text-align: right;\">\n",
       "      <th></th>\n",
       "      <th>Location</th>\n",
       "      <th>MinTemp</th>\n",
       "      <th>MaxTemp</th>\n",
       "      <th>Rainfall</th>\n",
       "      <th>Evaporation</th>\n",
       "      <th>Sunshine</th>\n",
       "      <th>WindGustDir</th>\n",
       "      <th>WindGustSpeed</th>\n",
       "      <th>WindDir9am</th>\n",
       "      <th>WindDir3pm</th>\n",
       "      <th>...</th>\n",
       "      <th>Humidity3pm</th>\n",
       "      <th>Pressure9am</th>\n",
       "      <th>Pressure3pm</th>\n",
       "      <th>Cloud9am</th>\n",
       "      <th>Cloud3pm</th>\n",
       "      <th>Temp9am</th>\n",
       "      <th>Temp3pm</th>\n",
       "      <th>RainToday</th>\n",
       "      <th>RainTomorrow</th>\n",
       "      <th>year</th>\n",
       "    </tr>\n",
       "    <tr>\n",
       "      <th>Date</th>\n",
       "      <th></th>\n",
       "      <th></th>\n",
       "      <th></th>\n",
       "      <th></th>\n",
       "      <th></th>\n",
       "      <th></th>\n",
       "      <th></th>\n",
       "      <th></th>\n",
       "      <th></th>\n",
       "      <th></th>\n",
       "      <th></th>\n",
       "      <th></th>\n",
       "      <th></th>\n",
       "      <th></th>\n",
       "      <th></th>\n",
       "      <th></th>\n",
       "      <th></th>\n",
       "      <th></th>\n",
       "      <th></th>\n",
       "      <th></th>\n",
       "      <th></th>\n",
       "    </tr>\n",
       "  </thead>\n",
       "  <tbody>\n",
       "    <tr>\n",
       "      <th>2008-12-01</th>\n",
       "      <td>Albury</td>\n",
       "      <td>13.4</td>\n",
       "      <td>22.9</td>\n",
       "      <td>0.6</td>\n",
       "      <td>NaN</td>\n",
       "      <td>NaN</td>\n",
       "      <td>W</td>\n",
       "      <td>44.0</td>\n",
       "      <td>W</td>\n",
       "      <td>WNW</td>\n",
       "      <td>...</td>\n",
       "      <td>22.0</td>\n",
       "      <td>1007.7</td>\n",
       "      <td>1007.1</td>\n",
       "      <td>8.0</td>\n",
       "      <td>NaN</td>\n",
       "      <td>16.9</td>\n",
       "      <td>21.8</td>\n",
       "      <td>No</td>\n",
       "      <td>No</td>\n",
       "      <td>2008</td>\n",
       "    </tr>\n",
       "    <tr>\n",
       "      <th>2008-12-02</th>\n",
       "      <td>Albury</td>\n",
       "      <td>7.4</td>\n",
       "      <td>25.1</td>\n",
       "      <td>0.0</td>\n",
       "      <td>NaN</td>\n",
       "      <td>NaN</td>\n",
       "      <td>WNW</td>\n",
       "      <td>44.0</td>\n",
       "      <td>NNW</td>\n",
       "      <td>WSW</td>\n",
       "      <td>...</td>\n",
       "      <td>25.0</td>\n",
       "      <td>1010.6</td>\n",
       "      <td>1007.8</td>\n",
       "      <td>NaN</td>\n",
       "      <td>NaN</td>\n",
       "      <td>17.2</td>\n",
       "      <td>24.3</td>\n",
       "      <td>No</td>\n",
       "      <td>No</td>\n",
       "      <td>2008</td>\n",
       "    </tr>\n",
       "    <tr>\n",
       "      <th>2008-12-03</th>\n",
       "      <td>Albury</td>\n",
       "      <td>12.9</td>\n",
       "      <td>25.7</td>\n",
       "      <td>0.0</td>\n",
       "      <td>NaN</td>\n",
       "      <td>NaN</td>\n",
       "      <td>WSW</td>\n",
       "      <td>46.0</td>\n",
       "      <td>W</td>\n",
       "      <td>WSW</td>\n",
       "      <td>...</td>\n",
       "      <td>30.0</td>\n",
       "      <td>1007.6</td>\n",
       "      <td>1008.7</td>\n",
       "      <td>NaN</td>\n",
       "      <td>2.0</td>\n",
       "      <td>21.0</td>\n",
       "      <td>23.2</td>\n",
       "      <td>No</td>\n",
       "      <td>No</td>\n",
       "      <td>2008</td>\n",
       "    </tr>\n",
       "    <tr>\n",
       "      <th>2008-12-04</th>\n",
       "      <td>Albury</td>\n",
       "      <td>9.2</td>\n",
       "      <td>28.0</td>\n",
       "      <td>0.0</td>\n",
       "      <td>NaN</td>\n",
       "      <td>NaN</td>\n",
       "      <td>NE</td>\n",
       "      <td>24.0</td>\n",
       "      <td>SE</td>\n",
       "      <td>E</td>\n",
       "      <td>...</td>\n",
       "      <td>16.0</td>\n",
       "      <td>1017.6</td>\n",
       "      <td>1012.8</td>\n",
       "      <td>NaN</td>\n",
       "      <td>NaN</td>\n",
       "      <td>18.1</td>\n",
       "      <td>26.5</td>\n",
       "      <td>No</td>\n",
       "      <td>No</td>\n",
       "      <td>2008</td>\n",
       "    </tr>\n",
       "    <tr>\n",
       "      <th>2008-12-05</th>\n",
       "      <td>Albury</td>\n",
       "      <td>17.5</td>\n",
       "      <td>32.3</td>\n",
       "      <td>1.0</td>\n",
       "      <td>NaN</td>\n",
       "      <td>NaN</td>\n",
       "      <td>W</td>\n",
       "      <td>41.0</td>\n",
       "      <td>ENE</td>\n",
       "      <td>NW</td>\n",
       "      <td>...</td>\n",
       "      <td>33.0</td>\n",
       "      <td>1010.8</td>\n",
       "      <td>1006.0</td>\n",
       "      <td>7.0</td>\n",
       "      <td>8.0</td>\n",
       "      <td>17.8</td>\n",
       "      <td>29.7</td>\n",
       "      <td>No</td>\n",
       "      <td>No</td>\n",
       "      <td>2008</td>\n",
       "    </tr>\n",
       "  </tbody>\n",
       "</table>\n",
       "<p>5 rows × 23 columns</p>\n",
       "</div>"
      ],
      "text/plain": [
       "           Location  MinTemp  MaxTemp  Rainfall  Evaporation  Sunshine  \\\n",
       "Date                                                                     \n",
       "2008-12-01   Albury     13.4     22.9       0.6          NaN       NaN   \n",
       "2008-12-02   Albury      7.4     25.1       0.0          NaN       NaN   \n",
       "2008-12-03   Albury     12.9     25.7       0.0          NaN       NaN   \n",
       "2008-12-04   Albury      9.2     28.0       0.0          NaN       NaN   \n",
       "2008-12-05   Albury     17.5     32.3       1.0          NaN       NaN   \n",
       "\n",
       "           WindGustDir  WindGustSpeed WindDir9am WindDir3pm  ...  Humidity3pm  \\\n",
       "Date                                                         ...                \n",
       "2008-12-01           W           44.0          W        WNW  ...         22.0   \n",
       "2008-12-02         WNW           44.0        NNW        WSW  ...         25.0   \n",
       "2008-12-03         WSW           46.0          W        WSW  ...         30.0   \n",
       "2008-12-04          NE           24.0         SE          E  ...         16.0   \n",
       "2008-12-05           W           41.0        ENE         NW  ...         33.0   \n",
       "\n",
       "            Pressure9am  Pressure3pm  Cloud9am  Cloud3pm  Temp9am  Temp3pm  \\\n",
       "Date                                                                         \n",
       "2008-12-01       1007.7       1007.1       8.0       NaN     16.9     21.8   \n",
       "2008-12-02       1010.6       1007.8       NaN       NaN     17.2     24.3   \n",
       "2008-12-03       1007.6       1008.7       NaN       2.0     21.0     23.2   \n",
       "2008-12-04       1017.6       1012.8       NaN       NaN     18.1     26.5   \n",
       "2008-12-05       1010.8       1006.0       7.0       8.0     17.8     29.7   \n",
       "\n",
       "            RainToday  RainTomorrow  year  \n",
       "Date                                       \n",
       "2008-12-01         No            No  2008  \n",
       "2008-12-02         No            No  2008  \n",
       "2008-12-03         No            No  2008  \n",
       "2008-12-04         No            No  2008  \n",
       "2008-12-05         No            No  2008  \n",
       "\n",
       "[5 rows x 23 columns]"
      ]
     },
     "execution_count": 6,
     "metadata": {},
     "output_type": "execute_result"
    }
   ],
   "source": [
    "dataset.set_index('Date',inplace=True)\n",
    "dataset.head()"
   ]
  },
  {
   "cell_type": "markdown",
   "id": "ad8e10d0",
   "metadata": {},
   "source": [
    "Ora analiziamo le statistiche per ogni feature."
   ]
  },
  {
   "cell_type": "code",
   "execution_count": 7,
   "id": "65b95e59",
   "metadata": {},
   "outputs": [
    {
     "data": {
      "text/html": [
       "<div>\n",
       "<style scoped>\n",
       "    .dataframe tbody tr th:only-of-type {\n",
       "        vertical-align: middle;\n",
       "    }\n",
       "\n",
       "    .dataframe tbody tr th {\n",
       "        vertical-align: top;\n",
       "    }\n",
       "\n",
       "    .dataframe thead th {\n",
       "        text-align: right;\n",
       "    }\n",
       "</style>\n",
       "<table border=\"1\" class=\"dataframe\">\n",
       "  <thead>\n",
       "    <tr style=\"text-align: right;\">\n",
       "      <th></th>\n",
       "      <th>MinTemp</th>\n",
       "      <th>MaxTemp</th>\n",
       "      <th>Rainfall</th>\n",
       "      <th>Evaporation</th>\n",
       "      <th>Sunshine</th>\n",
       "      <th>WindGustSpeed</th>\n",
       "      <th>WindSpeed9am</th>\n",
       "      <th>WindSpeed3pm</th>\n",
       "      <th>Humidity9am</th>\n",
       "      <th>Humidity3pm</th>\n",
       "      <th>Pressure9am</th>\n",
       "      <th>Pressure3pm</th>\n",
       "      <th>Cloud9am</th>\n",
       "      <th>Cloud3pm</th>\n",
       "      <th>Temp9am</th>\n",
       "      <th>Temp3pm</th>\n",
       "      <th>year</th>\n",
       "    </tr>\n",
       "  </thead>\n",
       "  <tbody>\n",
       "    <tr>\n",
       "      <th>count</th>\n",
       "      <td>143975.000000</td>\n",
       "      <td>144199.000000</td>\n",
       "      <td>142199.000000</td>\n",
       "      <td>82670.000000</td>\n",
       "      <td>75625.000000</td>\n",
       "      <td>135197.000000</td>\n",
       "      <td>143693.000000</td>\n",
       "      <td>142398.000000</td>\n",
       "      <td>142806.000000</td>\n",
       "      <td>140953.000000</td>\n",
       "      <td>130395.00000</td>\n",
       "      <td>130432.000000</td>\n",
       "      <td>89572.000000</td>\n",
       "      <td>86102.000000</td>\n",
       "      <td>143693.000000</td>\n",
       "      <td>141851.00000</td>\n",
       "      <td>145460.000000</td>\n",
       "    </tr>\n",
       "    <tr>\n",
       "      <th>mean</th>\n",
       "      <td>12.194034</td>\n",
       "      <td>23.221348</td>\n",
       "      <td>2.360918</td>\n",
       "      <td>5.468232</td>\n",
       "      <td>7.611178</td>\n",
       "      <td>40.035230</td>\n",
       "      <td>14.043426</td>\n",
       "      <td>18.662657</td>\n",
       "      <td>68.880831</td>\n",
       "      <td>51.539116</td>\n",
       "      <td>1017.64994</td>\n",
       "      <td>1015.255889</td>\n",
       "      <td>4.447461</td>\n",
       "      <td>4.509930</td>\n",
       "      <td>16.990631</td>\n",
       "      <td>21.68339</td>\n",
       "      <td>2012.769751</td>\n",
       "    </tr>\n",
       "    <tr>\n",
       "      <th>std</th>\n",
       "      <td>6.398495</td>\n",
       "      <td>7.119049</td>\n",
       "      <td>8.478060</td>\n",
       "      <td>4.193704</td>\n",
       "      <td>3.785483</td>\n",
       "      <td>13.607062</td>\n",
       "      <td>8.915375</td>\n",
       "      <td>8.809800</td>\n",
       "      <td>19.029164</td>\n",
       "      <td>20.795902</td>\n",
       "      <td>7.10653</td>\n",
       "      <td>7.037414</td>\n",
       "      <td>2.887159</td>\n",
       "      <td>2.720357</td>\n",
       "      <td>6.488753</td>\n",
       "      <td>6.93665</td>\n",
       "      <td>2.537684</td>\n",
       "    </tr>\n",
       "    <tr>\n",
       "      <th>min</th>\n",
       "      <td>-8.500000</td>\n",
       "      <td>-4.800000</td>\n",
       "      <td>0.000000</td>\n",
       "      <td>0.000000</td>\n",
       "      <td>0.000000</td>\n",
       "      <td>6.000000</td>\n",
       "      <td>0.000000</td>\n",
       "      <td>0.000000</td>\n",
       "      <td>0.000000</td>\n",
       "      <td>0.000000</td>\n",
       "      <td>980.50000</td>\n",
       "      <td>977.100000</td>\n",
       "      <td>0.000000</td>\n",
       "      <td>0.000000</td>\n",
       "      <td>-7.200000</td>\n",
       "      <td>-5.40000</td>\n",
       "      <td>2007.000000</td>\n",
       "    </tr>\n",
       "    <tr>\n",
       "      <th>25%</th>\n",
       "      <td>7.600000</td>\n",
       "      <td>17.900000</td>\n",
       "      <td>0.000000</td>\n",
       "      <td>2.600000</td>\n",
       "      <td>4.800000</td>\n",
       "      <td>31.000000</td>\n",
       "      <td>7.000000</td>\n",
       "      <td>13.000000</td>\n",
       "      <td>57.000000</td>\n",
       "      <td>37.000000</td>\n",
       "      <td>1012.90000</td>\n",
       "      <td>1010.400000</td>\n",
       "      <td>1.000000</td>\n",
       "      <td>2.000000</td>\n",
       "      <td>12.300000</td>\n",
       "      <td>16.60000</td>\n",
       "      <td>2011.000000</td>\n",
       "    </tr>\n",
       "    <tr>\n",
       "      <th>50%</th>\n",
       "      <td>12.000000</td>\n",
       "      <td>22.600000</td>\n",
       "      <td>0.000000</td>\n",
       "      <td>4.800000</td>\n",
       "      <td>8.400000</td>\n",
       "      <td>39.000000</td>\n",
       "      <td>13.000000</td>\n",
       "      <td>19.000000</td>\n",
       "      <td>70.000000</td>\n",
       "      <td>52.000000</td>\n",
       "      <td>1017.60000</td>\n",
       "      <td>1015.200000</td>\n",
       "      <td>5.000000</td>\n",
       "      <td>5.000000</td>\n",
       "      <td>16.700000</td>\n",
       "      <td>21.10000</td>\n",
       "      <td>2013.000000</td>\n",
       "    </tr>\n",
       "    <tr>\n",
       "      <th>75%</th>\n",
       "      <td>16.900000</td>\n",
       "      <td>28.200000</td>\n",
       "      <td>0.800000</td>\n",
       "      <td>7.400000</td>\n",
       "      <td>10.600000</td>\n",
       "      <td>48.000000</td>\n",
       "      <td>19.000000</td>\n",
       "      <td>24.000000</td>\n",
       "      <td>83.000000</td>\n",
       "      <td>66.000000</td>\n",
       "      <td>1022.40000</td>\n",
       "      <td>1020.000000</td>\n",
       "      <td>7.000000</td>\n",
       "      <td>7.000000</td>\n",
       "      <td>21.600000</td>\n",
       "      <td>26.40000</td>\n",
       "      <td>2015.000000</td>\n",
       "    </tr>\n",
       "    <tr>\n",
       "      <th>max</th>\n",
       "      <td>33.900000</td>\n",
       "      <td>48.100000</td>\n",
       "      <td>371.000000</td>\n",
       "      <td>145.000000</td>\n",
       "      <td>14.500000</td>\n",
       "      <td>135.000000</td>\n",
       "      <td>130.000000</td>\n",
       "      <td>87.000000</td>\n",
       "      <td>100.000000</td>\n",
       "      <td>100.000000</td>\n",
       "      <td>1041.00000</td>\n",
       "      <td>1039.600000</td>\n",
       "      <td>9.000000</td>\n",
       "      <td>9.000000</td>\n",
       "      <td>40.200000</td>\n",
       "      <td>46.70000</td>\n",
       "      <td>2017.000000</td>\n",
       "    </tr>\n",
       "  </tbody>\n",
       "</table>\n",
       "</div>"
      ],
      "text/plain": [
       "             MinTemp        MaxTemp       Rainfall   Evaporation  \\\n",
       "count  143975.000000  144199.000000  142199.000000  82670.000000   \n",
       "mean       12.194034      23.221348       2.360918      5.468232   \n",
       "std         6.398495       7.119049       8.478060      4.193704   \n",
       "min        -8.500000      -4.800000       0.000000      0.000000   \n",
       "25%         7.600000      17.900000       0.000000      2.600000   \n",
       "50%        12.000000      22.600000       0.000000      4.800000   \n",
       "75%        16.900000      28.200000       0.800000      7.400000   \n",
       "max        33.900000      48.100000     371.000000    145.000000   \n",
       "\n",
       "           Sunshine  WindGustSpeed   WindSpeed9am   WindSpeed3pm  \\\n",
       "count  75625.000000  135197.000000  143693.000000  142398.000000   \n",
       "mean       7.611178      40.035230      14.043426      18.662657   \n",
       "std        3.785483      13.607062       8.915375       8.809800   \n",
       "min        0.000000       6.000000       0.000000       0.000000   \n",
       "25%        4.800000      31.000000       7.000000      13.000000   \n",
       "50%        8.400000      39.000000      13.000000      19.000000   \n",
       "75%       10.600000      48.000000      19.000000      24.000000   \n",
       "max       14.500000     135.000000     130.000000      87.000000   \n",
       "\n",
       "         Humidity9am    Humidity3pm   Pressure9am    Pressure3pm  \\\n",
       "count  142806.000000  140953.000000  130395.00000  130432.000000   \n",
       "mean       68.880831      51.539116    1017.64994    1015.255889   \n",
       "std        19.029164      20.795902       7.10653       7.037414   \n",
       "min         0.000000       0.000000     980.50000     977.100000   \n",
       "25%        57.000000      37.000000    1012.90000    1010.400000   \n",
       "50%        70.000000      52.000000    1017.60000    1015.200000   \n",
       "75%        83.000000      66.000000    1022.40000    1020.000000   \n",
       "max       100.000000     100.000000    1041.00000    1039.600000   \n",
       "\n",
       "           Cloud9am      Cloud3pm        Temp9am       Temp3pm           year  \n",
       "count  89572.000000  86102.000000  143693.000000  141851.00000  145460.000000  \n",
       "mean       4.447461      4.509930      16.990631      21.68339    2012.769751  \n",
       "std        2.887159      2.720357       6.488753       6.93665       2.537684  \n",
       "min        0.000000      0.000000      -7.200000      -5.40000    2007.000000  \n",
       "25%        1.000000      2.000000      12.300000      16.60000    2011.000000  \n",
       "50%        5.000000      5.000000      16.700000      21.10000    2013.000000  \n",
       "75%        7.000000      7.000000      21.600000      26.40000    2015.000000  \n",
       "max        9.000000      9.000000      40.200000      46.70000    2017.000000  "
      ]
     },
     "execution_count": 7,
     "metadata": {},
     "output_type": "execute_result"
    }
   ],
   "source": [
    "dataset.describe()"
   ]
  },
  {
   "cell_type": "markdown",
   "id": "9b517f39",
   "metadata": {},
   "source": [
    "## Data Preprocessing\n",
    "\n",
    "Osserviamo la tipologia delle varibili del nostro dataset:\n"
   ]
  },
  {
   "cell_type": "code",
   "execution_count": 8,
   "id": "36bb326f",
   "metadata": {},
   "outputs": [
    {
     "name": "stdout",
     "output_type": "stream",
     "text": [
      "Variabili Categoriche:\n",
      "['Location', 'WindGustDir', 'WindDir9am', 'WindDir3pm', 'RainToday', 'RainTomorrow']\n"
     ]
    }
   ],
   "source": [
    "cat = (dataset.dtypes == \"object\")\n",
    "object_cols = list(cat[cat].index)\n",
    "\n",
    "print(\"Variabili Categoriche:\")\n",
    "print(object_cols)"
   ]
  },
  {
   "cell_type": "code",
   "execution_count": 9,
   "id": "c5da3eb0",
   "metadata": {},
   "outputs": [
    {
     "name": "stdout",
     "output_type": "stream",
     "text": [
      "Variabili Numeriche:\n",
      "['MinTemp', 'MaxTemp', 'Rainfall', 'Evaporation', 'Sunshine', 'WindGustSpeed', 'WindSpeed9am', 'WindSpeed3pm', 'Humidity9am', 'Humidity3pm', 'Pressure9am', 'Pressure3pm', 'Cloud9am', 'Cloud3pm', 'Temp9am', 'Temp3pm']\n"
     ]
    }
   ],
   "source": [
    "num = (dataset.dtypes == \"float64\")\n",
    "num_cols = list(num[num].index)\n",
    "\n",
    "print(\"Variabili Numeriche:\")\n",
    "print(num_cols)"
   ]
  },
  {
   "cell_type": "markdown",
   "id": "d75e9245",
   "metadata": {},
   "source": [
    "Ricerchiamo i valori Nan e li sostituiamo con '0' i valori nulli, così da non avere problemi con essi nello studio dei dati."
   ]
  },
  {
   "cell_type": "code",
   "execution_count": 10,
   "id": "4efc0b9f",
   "metadata": {},
   "outputs": [],
   "source": [
    "for i in object_cols:\n",
    "    dataset[i].fillna(dataset[i].mode()[0], inplace=True)\n",
    "\n",
    "for i in num_cols:\n",
    "    dataset[i].fillna(0, inplace=True)"
   ]
  },
  {
   "cell_type": "markdown",
   "id": "a3dd249a",
   "metadata": {},
   "source": [
    "Utilizziamo LabelEncoder che ci permette di enumerare le label delle varibili categoriche: "
   ]
  },
  {
   "cell_type": "code",
   "execution_count": 11,
   "id": "63320677",
   "metadata": {},
   "outputs": [],
   "source": [
    "from sklearn.preprocessing import LabelEncoder\n",
    "label_encoder = LabelEncoder()\n",
    "for i in object_cols:\n",
    "    dataset[i] = label_encoder.fit_transform(dataset[i])"
   ]
  },
  {
   "cell_type": "code",
   "execution_count": 12,
   "id": "57f28f05",
   "metadata": {},
   "outputs": [
    {
     "name": "stdout",
     "output_type": "stream",
     "text": [
      "<class 'pandas.core.frame.DataFrame'>\n",
      "DatetimeIndex: 145460 entries, 2008-12-01 to 2017-06-25\n",
      "Data columns (total 23 columns):\n",
      " #   Column         Non-Null Count   Dtype  \n",
      "---  ------         --------------   -----  \n",
      " 0   Location       145460 non-null  int64  \n",
      " 1   MinTemp        145460 non-null  float64\n",
      " 2   MaxTemp        145460 non-null  float64\n",
      " 3   Rainfall       145460 non-null  float64\n",
      " 4   Evaporation    145460 non-null  float64\n",
      " 5   Sunshine       145460 non-null  float64\n",
      " 6   WindGustDir    145460 non-null  int64  \n",
      " 7   WindGustSpeed  145460 non-null  float64\n",
      " 8   WindDir9am     145460 non-null  int64  \n",
      " 9   WindDir3pm     145460 non-null  int64  \n",
      " 10  WindSpeed9am   145460 non-null  float64\n",
      " 11  WindSpeed3pm   145460 non-null  float64\n",
      " 12  Humidity9am    145460 non-null  float64\n",
      " 13  Humidity3pm    145460 non-null  float64\n",
      " 14  Pressure9am    145460 non-null  float64\n",
      " 15  Pressure3pm    145460 non-null  float64\n",
      " 16  Cloud9am       145460 non-null  float64\n",
      " 17  Cloud3pm       145460 non-null  float64\n",
      " 18  Temp9am        145460 non-null  float64\n",
      " 19  Temp3pm        145460 non-null  float64\n",
      " 20  RainToday      145460 non-null  int64  \n",
      " 21  RainTomorrow   145460 non-null  int64  \n",
      " 22  year           145460 non-null  int64  \n",
      "dtypes: float64(16), int64(7)\n",
      "memory usage: 26.6 MB\n"
     ]
    }
   ],
   "source": [
    "dataset.info()"
   ]
  },
  {
   "cell_type": "code",
   "execution_count": 13,
   "id": "24bdac0f",
   "metadata": {},
   "outputs": [
    {
     "data": {
      "text/html": [
       "<div>\n",
       "<style scoped>\n",
       "    .dataframe tbody tr th:only-of-type {\n",
       "        vertical-align: middle;\n",
       "    }\n",
       "\n",
       "    .dataframe tbody tr th {\n",
       "        vertical-align: top;\n",
       "    }\n",
       "\n",
       "    .dataframe thead th {\n",
       "        text-align: right;\n",
       "    }\n",
       "</style>\n",
       "<table border=\"1\" class=\"dataframe\">\n",
       "  <thead>\n",
       "    <tr style=\"text-align: right;\">\n",
       "      <th></th>\n",
       "      <th>Location</th>\n",
       "      <th>MinTemp</th>\n",
       "      <th>MaxTemp</th>\n",
       "      <th>Rainfall</th>\n",
       "      <th>Evaporation</th>\n",
       "      <th>Sunshine</th>\n",
       "      <th>WindGustDir</th>\n",
       "      <th>WindGustSpeed</th>\n",
       "      <th>WindDir9am</th>\n",
       "      <th>WindDir3pm</th>\n",
       "      <th>...</th>\n",
       "      <th>Humidity3pm</th>\n",
       "      <th>Pressure9am</th>\n",
       "      <th>Pressure3pm</th>\n",
       "      <th>Cloud9am</th>\n",
       "      <th>Cloud3pm</th>\n",
       "      <th>Temp9am</th>\n",
       "      <th>Temp3pm</th>\n",
       "      <th>RainToday</th>\n",
       "      <th>RainTomorrow</th>\n",
       "      <th>year</th>\n",
       "    </tr>\n",
       "    <tr>\n",
       "      <th>Date</th>\n",
       "      <th></th>\n",
       "      <th></th>\n",
       "      <th></th>\n",
       "      <th></th>\n",
       "      <th></th>\n",
       "      <th></th>\n",
       "      <th></th>\n",
       "      <th></th>\n",
       "      <th></th>\n",
       "      <th></th>\n",
       "      <th></th>\n",
       "      <th></th>\n",
       "      <th></th>\n",
       "      <th></th>\n",
       "      <th></th>\n",
       "      <th></th>\n",
       "      <th></th>\n",
       "      <th></th>\n",
       "      <th></th>\n",
       "      <th></th>\n",
       "      <th></th>\n",
       "    </tr>\n",
       "  </thead>\n",
       "  <tbody>\n",
       "    <tr>\n",
       "      <th>2008-12-01</th>\n",
       "      <td>2</td>\n",
       "      <td>13.4</td>\n",
       "      <td>22.9</td>\n",
       "      <td>0.6</td>\n",
       "      <td>0.0</td>\n",
       "      <td>0.0</td>\n",
       "      <td>13</td>\n",
       "      <td>44.0</td>\n",
       "      <td>13</td>\n",
       "      <td>14</td>\n",
       "      <td>...</td>\n",
       "      <td>22.0</td>\n",
       "      <td>1007.7</td>\n",
       "      <td>1007.1</td>\n",
       "      <td>8.0</td>\n",
       "      <td>0.0</td>\n",
       "      <td>16.9</td>\n",
       "      <td>21.8</td>\n",
       "      <td>0</td>\n",
       "      <td>0</td>\n",
       "      <td>2008</td>\n",
       "    </tr>\n",
       "    <tr>\n",
       "      <th>2008-12-02</th>\n",
       "      <td>2</td>\n",
       "      <td>7.4</td>\n",
       "      <td>25.1</td>\n",
       "      <td>0.0</td>\n",
       "      <td>0.0</td>\n",
       "      <td>0.0</td>\n",
       "      <td>14</td>\n",
       "      <td>44.0</td>\n",
       "      <td>6</td>\n",
       "      <td>15</td>\n",
       "      <td>...</td>\n",
       "      <td>25.0</td>\n",
       "      <td>1010.6</td>\n",
       "      <td>1007.8</td>\n",
       "      <td>0.0</td>\n",
       "      <td>0.0</td>\n",
       "      <td>17.2</td>\n",
       "      <td>24.3</td>\n",
       "      <td>0</td>\n",
       "      <td>0</td>\n",
       "      <td>2008</td>\n",
       "    </tr>\n",
       "    <tr>\n",
       "      <th>2008-12-03</th>\n",
       "      <td>2</td>\n",
       "      <td>12.9</td>\n",
       "      <td>25.7</td>\n",
       "      <td>0.0</td>\n",
       "      <td>0.0</td>\n",
       "      <td>0.0</td>\n",
       "      <td>15</td>\n",
       "      <td>46.0</td>\n",
       "      <td>13</td>\n",
       "      <td>15</td>\n",
       "      <td>...</td>\n",
       "      <td>30.0</td>\n",
       "      <td>1007.6</td>\n",
       "      <td>1008.7</td>\n",
       "      <td>0.0</td>\n",
       "      <td>2.0</td>\n",
       "      <td>21.0</td>\n",
       "      <td>23.2</td>\n",
       "      <td>0</td>\n",
       "      <td>0</td>\n",
       "      <td>2008</td>\n",
       "    </tr>\n",
       "    <tr>\n",
       "      <th>2008-12-04</th>\n",
       "      <td>2</td>\n",
       "      <td>9.2</td>\n",
       "      <td>28.0</td>\n",
       "      <td>0.0</td>\n",
       "      <td>0.0</td>\n",
       "      <td>0.0</td>\n",
       "      <td>4</td>\n",
       "      <td>24.0</td>\n",
       "      <td>9</td>\n",
       "      <td>0</td>\n",
       "      <td>...</td>\n",
       "      <td>16.0</td>\n",
       "      <td>1017.6</td>\n",
       "      <td>1012.8</td>\n",
       "      <td>0.0</td>\n",
       "      <td>0.0</td>\n",
       "      <td>18.1</td>\n",
       "      <td>26.5</td>\n",
       "      <td>0</td>\n",
       "      <td>0</td>\n",
       "      <td>2008</td>\n",
       "    </tr>\n",
       "    <tr>\n",
       "      <th>2008-12-05</th>\n",
       "      <td>2</td>\n",
       "      <td>17.5</td>\n",
       "      <td>32.3</td>\n",
       "      <td>1.0</td>\n",
       "      <td>0.0</td>\n",
       "      <td>0.0</td>\n",
       "      <td>13</td>\n",
       "      <td>41.0</td>\n",
       "      <td>1</td>\n",
       "      <td>7</td>\n",
       "      <td>...</td>\n",
       "      <td>33.0</td>\n",
       "      <td>1010.8</td>\n",
       "      <td>1006.0</td>\n",
       "      <td>7.0</td>\n",
       "      <td>8.0</td>\n",
       "      <td>17.8</td>\n",
       "      <td>29.7</td>\n",
       "      <td>0</td>\n",
       "      <td>0</td>\n",
       "      <td>2008</td>\n",
       "    </tr>\n",
       "    <tr>\n",
       "      <th>...</th>\n",
       "      <td>...</td>\n",
       "      <td>...</td>\n",
       "      <td>...</td>\n",
       "      <td>...</td>\n",
       "      <td>...</td>\n",
       "      <td>...</td>\n",
       "      <td>...</td>\n",
       "      <td>...</td>\n",
       "      <td>...</td>\n",
       "      <td>...</td>\n",
       "      <td>...</td>\n",
       "      <td>...</td>\n",
       "      <td>...</td>\n",
       "      <td>...</td>\n",
       "      <td>...</td>\n",
       "      <td>...</td>\n",
       "      <td>...</td>\n",
       "      <td>...</td>\n",
       "      <td>...</td>\n",
       "      <td>...</td>\n",
       "      <td>...</td>\n",
       "    </tr>\n",
       "    <tr>\n",
       "      <th>2009-03-26</th>\n",
       "      <td>2</td>\n",
       "      <td>13.3</td>\n",
       "      <td>29.8</td>\n",
       "      <td>1.8</td>\n",
       "      <td>0.0</td>\n",
       "      <td>0.0</td>\n",
       "      <td>15</td>\n",
       "      <td>33.0</td>\n",
       "      <td>3</td>\n",
       "      <td>14</td>\n",
       "      <td>...</td>\n",
       "      <td>26.0</td>\n",
       "      <td>1019.1</td>\n",
       "      <td>1017.2</td>\n",
       "      <td>0.0</td>\n",
       "      <td>6.0</td>\n",
       "      <td>16.2</td>\n",
       "      <td>29.2</td>\n",
       "      <td>1</td>\n",
       "      <td>0</td>\n",
       "      <td>2009</td>\n",
       "    </tr>\n",
       "    <tr>\n",
       "      <th>2009-03-27</th>\n",
       "      <td>2</td>\n",
       "      <td>10.1</td>\n",
       "      <td>27.6</td>\n",
       "      <td>0.0</td>\n",
       "      <td>0.0</td>\n",
       "      <td>0.0</td>\n",
       "      <td>14</td>\n",
       "      <td>43.0</td>\n",
       "      <td>3</td>\n",
       "      <td>13</td>\n",
       "      <td>...</td>\n",
       "      <td>30.0</td>\n",
       "      <td>1023.0</td>\n",
       "      <td>1020.7</td>\n",
       "      <td>0.0</td>\n",
       "      <td>0.0</td>\n",
       "      <td>16.5</td>\n",
       "      <td>26.8</td>\n",
       "      <td>0</td>\n",
       "      <td>0</td>\n",
       "      <td>2009</td>\n",
       "    </tr>\n",
       "    <tr>\n",
       "      <th>2009-03-28</th>\n",
       "      <td>2</td>\n",
       "      <td>9.1</td>\n",
       "      <td>28.9</td>\n",
       "      <td>0.0</td>\n",
       "      <td>0.0</td>\n",
       "      <td>0.0</td>\n",
       "      <td>6</td>\n",
       "      <td>24.0</td>\n",
       "      <td>3</td>\n",
       "      <td>3</td>\n",
       "      <td>...</td>\n",
       "      <td>26.0</td>\n",
       "      <td>1023.8</td>\n",
       "      <td>1020.6</td>\n",
       "      <td>0.0</td>\n",
       "      <td>0.0</td>\n",
       "      <td>14.0</td>\n",
       "      <td>27.7</td>\n",
       "      <td>0</td>\n",
       "      <td>0</td>\n",
       "      <td>2009</td>\n",
       "    </tr>\n",
       "    <tr>\n",
       "      <th>2009-03-29</th>\n",
       "      <td>2</td>\n",
       "      <td>10.4</td>\n",
       "      <td>31.2</td>\n",
       "      <td>0.0</td>\n",
       "      <td>0.0</td>\n",
       "      <td>0.0</td>\n",
       "      <td>8</td>\n",
       "      <td>22.0</td>\n",
       "      <td>3</td>\n",
       "      <td>9</td>\n",
       "      <td>...</td>\n",
       "      <td>18.0</td>\n",
       "      <td>1022.4</td>\n",
       "      <td>1019.1</td>\n",
       "      <td>0.0</td>\n",
       "      <td>0.0</td>\n",
       "      <td>16.0</td>\n",
       "      <td>29.9</td>\n",
       "      <td>0</td>\n",
       "      <td>0</td>\n",
       "      <td>2009</td>\n",
       "    </tr>\n",
       "    <tr>\n",
       "      <th>2009-03-30</th>\n",
       "      <td>2</td>\n",
       "      <td>13.4</td>\n",
       "      <td>30.4</td>\n",
       "      <td>0.0</td>\n",
       "      <td>0.0</td>\n",
       "      <td>0.0</td>\n",
       "      <td>1</td>\n",
       "      <td>22.0</td>\n",
       "      <td>3</td>\n",
       "      <td>9</td>\n",
       "      <td>...</td>\n",
       "      <td>16.0</td>\n",
       "      <td>1023.0</td>\n",
       "      <td>1019.5</td>\n",
       "      <td>0.0</td>\n",
       "      <td>0.0</td>\n",
       "      <td>17.2</td>\n",
       "      <td>29.2</td>\n",
       "      <td>0</td>\n",
       "      <td>0</td>\n",
       "      <td>2009</td>\n",
       "    </tr>\n",
       "  </tbody>\n",
       "</table>\n",
       "<p>120 rows × 23 columns</p>\n",
       "</div>"
      ],
      "text/plain": [
       "            Location  MinTemp  MaxTemp  Rainfall  Evaporation  Sunshine  \\\n",
       "Date                                                                      \n",
       "2008-12-01         2     13.4     22.9       0.6          0.0       0.0   \n",
       "2008-12-02         2      7.4     25.1       0.0          0.0       0.0   \n",
       "2008-12-03         2     12.9     25.7       0.0          0.0       0.0   \n",
       "2008-12-04         2      9.2     28.0       0.0          0.0       0.0   \n",
       "2008-12-05         2     17.5     32.3       1.0          0.0       0.0   \n",
       "...              ...      ...      ...       ...          ...       ...   \n",
       "2009-03-26         2     13.3     29.8       1.8          0.0       0.0   \n",
       "2009-03-27         2     10.1     27.6       0.0          0.0       0.0   \n",
       "2009-03-28         2      9.1     28.9       0.0          0.0       0.0   \n",
       "2009-03-29         2     10.4     31.2       0.0          0.0       0.0   \n",
       "2009-03-30         2     13.4     30.4       0.0          0.0       0.0   \n",
       "\n",
       "            WindGustDir  WindGustSpeed  WindDir9am  WindDir3pm  ...  \\\n",
       "Date                                                            ...   \n",
       "2008-12-01           13           44.0          13          14  ...   \n",
       "2008-12-02           14           44.0           6          15  ...   \n",
       "2008-12-03           15           46.0          13          15  ...   \n",
       "2008-12-04            4           24.0           9           0  ...   \n",
       "2008-12-05           13           41.0           1           7  ...   \n",
       "...                 ...            ...         ...         ...  ...   \n",
       "2009-03-26           15           33.0           3          14  ...   \n",
       "2009-03-27           14           43.0           3          13  ...   \n",
       "2009-03-28            6           24.0           3           3  ...   \n",
       "2009-03-29            8           22.0           3           9  ...   \n",
       "2009-03-30            1           22.0           3           9  ...   \n",
       "\n",
       "            Humidity3pm  Pressure9am  Pressure3pm  Cloud9am  Cloud3pm  \\\n",
       "Date                                                                    \n",
       "2008-12-01         22.0       1007.7       1007.1       8.0       0.0   \n",
       "2008-12-02         25.0       1010.6       1007.8       0.0       0.0   \n",
       "2008-12-03         30.0       1007.6       1008.7       0.0       2.0   \n",
       "2008-12-04         16.0       1017.6       1012.8       0.0       0.0   \n",
       "2008-12-05         33.0       1010.8       1006.0       7.0       8.0   \n",
       "...                 ...          ...          ...       ...       ...   \n",
       "2009-03-26         26.0       1019.1       1017.2       0.0       6.0   \n",
       "2009-03-27         30.0       1023.0       1020.7       0.0       0.0   \n",
       "2009-03-28         26.0       1023.8       1020.6       0.0       0.0   \n",
       "2009-03-29         18.0       1022.4       1019.1       0.0       0.0   \n",
       "2009-03-30         16.0       1023.0       1019.5       0.0       0.0   \n",
       "\n",
       "            Temp9am  Temp3pm  RainToday  RainTomorrow  year  \n",
       "Date                                                         \n",
       "2008-12-01     16.9     21.8          0             0  2008  \n",
       "2008-12-02     17.2     24.3          0             0  2008  \n",
       "2008-12-03     21.0     23.2          0             0  2008  \n",
       "2008-12-04     18.1     26.5          0             0  2008  \n",
       "2008-12-05     17.8     29.7          0             0  2008  \n",
       "...             ...      ...        ...           ...   ...  \n",
       "2009-03-26     16.2     29.2          1             0  2009  \n",
       "2009-03-27     16.5     26.8          0             0  2009  \n",
       "2009-03-28     14.0     27.7          0             0  2009  \n",
       "2009-03-29     16.0     29.9          0             0  2009  \n",
       "2009-03-30     17.2     29.2          0             0  2009  \n",
       "\n",
       "[120 rows x 23 columns]"
      ]
     },
     "execution_count": 13,
     "metadata": {},
     "output_type": "execute_result"
    }
   ],
   "source": [
    "dataset.head(120)"
   ]
  },
  {
   "cell_type": "markdown",
   "id": "d5524e6f",
   "metadata": {},
   "source": [
    "## Data Exploring\n",
    "\n",
    "Ora analiziamo i dati attraverso i grafici, dopo averli raggruppati per anno:"
   ]
  },
  {
   "cell_type": "code",
   "execution_count": 14,
   "id": "ffe743cc",
   "metadata": {},
   "outputs": [
    {
     "name": "stdout",
     "output_type": "stream",
     "text": [
      "Tipo gb : <class 'pandas.core.groupby.generic.DataFrameGroupBy'>\n"
     ]
    },
    {
     "data": {
      "text/html": [
       "<div>\n",
       "<style scoped>\n",
       "    .dataframe tbody tr th:only-of-type {\n",
       "        vertical-align: middle;\n",
       "    }\n",
       "\n",
       "    .dataframe tbody tr th {\n",
       "        vertical-align: top;\n",
       "    }\n",
       "\n",
       "    .dataframe thead tr th {\n",
       "        text-align: left;\n",
       "    }\n",
       "\n",
       "    .dataframe thead tr:last-of-type th {\n",
       "        text-align: right;\n",
       "    }\n",
       "</style>\n",
       "<table border=\"1\" class=\"dataframe\">\n",
       "  <thead>\n",
       "    <tr>\n",
       "      <th></th>\n",
       "      <th colspan=\"8\" halign=\"left\">Location</th>\n",
       "      <th colspan=\"2\" halign=\"left\">MinTemp</th>\n",
       "      <th>...</th>\n",
       "      <th colspan=\"2\" halign=\"left\">RainToday</th>\n",
       "      <th colspan=\"8\" halign=\"left\">RainTomorrow</th>\n",
       "    </tr>\n",
       "    <tr>\n",
       "      <th></th>\n",
       "      <th>count</th>\n",
       "      <th>mean</th>\n",
       "      <th>std</th>\n",
       "      <th>min</th>\n",
       "      <th>25%</th>\n",
       "      <th>50%</th>\n",
       "      <th>75%</th>\n",
       "      <th>max</th>\n",
       "      <th>count</th>\n",
       "      <th>mean</th>\n",
       "      <th>...</th>\n",
       "      <th>75%</th>\n",
       "      <th>max</th>\n",
       "      <th>count</th>\n",
       "      <th>mean</th>\n",
       "      <th>std</th>\n",
       "      <th>min</th>\n",
       "      <th>25%</th>\n",
       "      <th>50%</th>\n",
       "      <th>75%</th>\n",
       "      <th>max</th>\n",
       "    </tr>\n",
       "    <tr>\n",
       "      <th>year</th>\n",
       "      <th></th>\n",
       "      <th></th>\n",
       "      <th></th>\n",
       "      <th></th>\n",
       "      <th></th>\n",
       "      <th></th>\n",
       "      <th></th>\n",
       "      <th></th>\n",
       "      <th></th>\n",
       "      <th></th>\n",
       "      <th></th>\n",
       "      <th></th>\n",
       "      <th></th>\n",
       "      <th></th>\n",
       "      <th></th>\n",
       "      <th></th>\n",
       "      <th></th>\n",
       "      <th></th>\n",
       "      <th></th>\n",
       "      <th></th>\n",
       "      <th></th>\n",
       "    </tr>\n",
       "  </thead>\n",
       "  <tbody>\n",
       "    <tr>\n",
       "      <th>2007</th>\n",
       "      <td>61.0</td>\n",
       "      <td>9.000000</td>\n",
       "      <td>0.000000</td>\n",
       "      <td>9.0</td>\n",
       "      <td>9.0</td>\n",
       "      <td>9.0</td>\n",
       "      <td>9.0</td>\n",
       "      <td>9.0</td>\n",
       "      <td>61.0</td>\n",
       "      <td>12.545902</td>\n",
       "      <td>...</td>\n",
       "      <td>1.0</td>\n",
       "      <td>1.0</td>\n",
       "      <td>61.0</td>\n",
       "      <td>0.311475</td>\n",
       "      <td>0.466940</td>\n",
       "      <td>0.0</td>\n",
       "      <td>0.0</td>\n",
       "      <td>0.0</td>\n",
       "      <td>1.0</td>\n",
       "      <td>1.0</td>\n",
       "    </tr>\n",
       "    <tr>\n",
       "      <th>2008</th>\n",
       "      <td>2270.0</td>\n",
       "      <td>17.557709</td>\n",
       "      <td>12.738097</td>\n",
       "      <td>0.0</td>\n",
       "      <td>9.0</td>\n",
       "      <td>14.5</td>\n",
       "      <td>31.0</td>\n",
       "      <td>47.0</td>\n",
       "      <td>2270.0</td>\n",
       "      <td>12.390661</td>\n",
       "      <td>...</td>\n",
       "      <td>0.0</td>\n",
       "      <td>1.0</td>\n",
       "      <td>2270.0</td>\n",
       "      <td>0.225110</td>\n",
       "      <td>0.417747</td>\n",
       "      <td>0.0</td>\n",
       "      <td>0.0</td>\n",
       "      <td>0.0</td>\n",
       "      <td>0.0</td>\n",
       "      <td>1.0</td>\n",
       "    </tr>\n",
       "    <tr>\n",
       "      <th>2009</th>\n",
       "      <td>16789.0</td>\n",
       "      <td>23.782238</td>\n",
       "      <td>14.329087</td>\n",
       "      <td>0.0</td>\n",
       "      <td>11.0</td>\n",
       "      <td>23.0</td>\n",
       "      <td>36.0</td>\n",
       "      <td>48.0</td>\n",
       "      <td>16789.0</td>\n",
       "      <td>12.010328</td>\n",
       "      <td>...</td>\n",
       "      <td>0.0</td>\n",
       "      <td>1.0</td>\n",
       "      <td>16789.0</td>\n",
       "      <td>0.214843</td>\n",
       "      <td>0.410726</td>\n",
       "      <td>0.0</td>\n",
       "      <td>0.0</td>\n",
       "      <td>0.0</td>\n",
       "      <td>0.0</td>\n",
       "      <td>1.0</td>\n",
       "    </tr>\n",
       "    <tr>\n",
       "      <th>2010</th>\n",
       "      <td>16782.0</td>\n",
       "      <td>23.776785</td>\n",
       "      <td>14.329671</td>\n",
       "      <td>0.0</td>\n",
       "      <td>11.0</td>\n",
       "      <td>23.0</td>\n",
       "      <td>36.0</td>\n",
       "      <td>48.0</td>\n",
       "      <td>16782.0</td>\n",
       "      <td>11.948236</td>\n",
       "      <td>...</td>\n",
       "      <td>0.0</td>\n",
       "      <td>1.0</td>\n",
       "      <td>16782.0</td>\n",
       "      <td>0.238172</td>\n",
       "      <td>0.425978</td>\n",
       "      <td>0.0</td>\n",
       "      <td>0.0</td>\n",
       "      <td>0.0</td>\n",
       "      <td>0.0</td>\n",
       "      <td>1.0</td>\n",
       "    </tr>\n",
       "    <tr>\n",
       "      <th>2011</th>\n",
       "      <td>15407.0</td>\n",
       "      <td>23.778867</td>\n",
       "      <td>14.327664</td>\n",
       "      <td>0.0</td>\n",
       "      <td>11.0</td>\n",
       "      <td>23.0</td>\n",
       "      <td>36.0</td>\n",
       "      <td>48.0</td>\n",
       "      <td>15407.0</td>\n",
       "      <td>11.967742</td>\n",
       "      <td>...</td>\n",
       "      <td>0.0</td>\n",
       "      <td>1.0</td>\n",
       "      <td>15407.0</td>\n",
       "      <td>0.242617</td>\n",
       "      <td>0.428679</td>\n",
       "      <td>0.0</td>\n",
       "      <td>0.0</td>\n",
       "      <td>0.0</td>\n",
       "      <td>0.0</td>\n",
       "      <td>1.0</td>\n",
       "    </tr>\n",
       "    <tr>\n",
       "      <th>2012</th>\n",
       "      <td>15409.0</td>\n",
       "      <td>23.781556</td>\n",
       "      <td>14.328648</td>\n",
       "      <td>0.0</td>\n",
       "      <td>11.0</td>\n",
       "      <td>23.0</td>\n",
       "      <td>36.0</td>\n",
       "      <td>48.0</td>\n",
       "      <td>15409.0</td>\n",
       "      <td>11.182478</td>\n",
       "      <td>...</td>\n",
       "      <td>0.0</td>\n",
       "      <td>1.0</td>\n",
       "      <td>15409.0</td>\n",
       "      <td>0.219936</td>\n",
       "      <td>0.414217</td>\n",
       "      <td>0.0</td>\n",
       "      <td>0.0</td>\n",
       "      <td>0.0</td>\n",
       "      <td>0.0</td>\n",
       "      <td>1.0</td>\n",
       "    </tr>\n",
       "    <tr>\n",
       "      <th>2013</th>\n",
       "      <td>16415.0</td>\n",
       "      <td>23.980506</td>\n",
       "      <td>14.161077</td>\n",
       "      <td>0.0</td>\n",
       "      <td>12.0</td>\n",
       "      <td>24.0</td>\n",
       "      <td>36.0</td>\n",
       "      <td>48.0</td>\n",
       "      <td>16415.0</td>\n",
       "      <td>11.846220</td>\n",
       "      <td>...</td>\n",
       "      <td>0.0</td>\n",
       "      <td>1.0</td>\n",
       "      <td>16415.0</td>\n",
       "      <td>0.211087</td>\n",
       "      <td>0.408093</td>\n",
       "      <td>0.0</td>\n",
       "      <td>0.0</td>\n",
       "      <td>0.0</td>\n",
       "      <td>0.0</td>\n",
       "      <td>1.0</td>\n",
       "    </tr>\n",
       "    <tr>\n",
       "      <th>2014</th>\n",
       "      <td>17885.0</td>\n",
       "      <td>24.000000</td>\n",
       "      <td>14.142531</td>\n",
       "      <td>0.0</td>\n",
       "      <td>12.0</td>\n",
       "      <td>24.0</td>\n",
       "      <td>36.0</td>\n",
       "      <td>48.0</td>\n",
       "      <td>17885.0</td>\n",
       "      <td>12.323360</td>\n",
       "      <td>...</td>\n",
       "      <td>0.0</td>\n",
       "      <td>1.0</td>\n",
       "      <td>17885.0</td>\n",
       "      <td>0.198882</td>\n",
       "      <td>0.399170</td>\n",
       "      <td>0.0</td>\n",
       "      <td>0.0</td>\n",
       "      <td>0.0</td>\n",
       "      <td>0.0</td>\n",
       "      <td>1.0</td>\n",
       "    </tr>\n",
       "    <tr>\n",
       "      <th>2015</th>\n",
       "      <td>17885.0</td>\n",
       "      <td>24.000000</td>\n",
       "      <td>14.142531</td>\n",
       "      <td>0.0</td>\n",
       "      <td>12.0</td>\n",
       "      <td>24.0</td>\n",
       "      <td>36.0</td>\n",
       "      <td>48.0</td>\n",
       "      <td>17885.0</td>\n",
       "      <td>11.951138</td>\n",
       "      <td>...</td>\n",
       "      <td>0.0</td>\n",
       "      <td>1.0</td>\n",
       "      <td>17885.0</td>\n",
       "      <td>0.203970</td>\n",
       "      <td>0.402958</td>\n",
       "      <td>0.0</td>\n",
       "      <td>0.0</td>\n",
       "      <td>0.0</td>\n",
       "      <td>0.0</td>\n",
       "      <td>1.0</td>\n",
       "    </tr>\n",
       "    <tr>\n",
       "      <th>2016</th>\n",
       "      <td>17934.0</td>\n",
       "      <td>24.000000</td>\n",
       "      <td>14.142530</td>\n",
       "      <td>0.0</td>\n",
       "      <td>12.0</td>\n",
       "      <td>24.0</td>\n",
       "      <td>36.0</td>\n",
       "      <td>48.0</td>\n",
       "      <td>17934.0</td>\n",
       "      <td>12.406167</td>\n",
       "      <td>...</td>\n",
       "      <td>0.0</td>\n",
       "      <td>1.0</td>\n",
       "      <td>17934.0</td>\n",
       "      <td>0.233244</td>\n",
       "      <td>0.422908</td>\n",
       "      <td>0.0</td>\n",
       "      <td>0.0</td>\n",
       "      <td>0.0</td>\n",
       "      <td>0.0</td>\n",
       "      <td>1.0</td>\n",
       "    </tr>\n",
       "    <tr>\n",
       "      <th>2017</th>\n",
       "      <td>8623.0</td>\n",
       "      <td>24.000000</td>\n",
       "      <td>14.143776</td>\n",
       "      <td>0.0</td>\n",
       "      <td>12.0</td>\n",
       "      <td>24.0</td>\n",
       "      <td>36.0</td>\n",
       "      <td>48.0</td>\n",
       "      <td>8623.0</td>\n",
       "      <td>13.544265</td>\n",
       "      <td>...</td>\n",
       "      <td>0.0</td>\n",
       "      <td>1.0</td>\n",
       "      <td>8623.0</td>\n",
       "      <td>0.204453</td>\n",
       "      <td>0.403325</td>\n",
       "      <td>0.0</td>\n",
       "      <td>0.0</td>\n",
       "      <td>0.0</td>\n",
       "      <td>0.0</td>\n",
       "      <td>1.0</td>\n",
       "    </tr>\n",
       "  </tbody>\n",
       "</table>\n",
       "<p>11 rows × 176 columns</p>\n",
       "</div>"
      ],
      "text/plain": [
       "     Location                                                     MinTemp  \\\n",
       "        count       mean        std  min   25%   50%   75%   max    count   \n",
       "year                                                                        \n",
       "2007     61.0   9.000000   0.000000  9.0   9.0   9.0   9.0   9.0     61.0   \n",
       "2008   2270.0  17.557709  12.738097  0.0   9.0  14.5  31.0  47.0   2270.0   \n",
       "2009  16789.0  23.782238  14.329087  0.0  11.0  23.0  36.0  48.0  16789.0   \n",
       "2010  16782.0  23.776785  14.329671  0.0  11.0  23.0  36.0  48.0  16782.0   \n",
       "2011  15407.0  23.778867  14.327664  0.0  11.0  23.0  36.0  48.0  15407.0   \n",
       "2012  15409.0  23.781556  14.328648  0.0  11.0  23.0  36.0  48.0  15409.0   \n",
       "2013  16415.0  23.980506  14.161077  0.0  12.0  24.0  36.0  48.0  16415.0   \n",
       "2014  17885.0  24.000000  14.142531  0.0  12.0  24.0  36.0  48.0  17885.0   \n",
       "2015  17885.0  24.000000  14.142531  0.0  12.0  24.0  36.0  48.0  17885.0   \n",
       "2016  17934.0  24.000000  14.142530  0.0  12.0  24.0  36.0  48.0  17934.0   \n",
       "2017   8623.0  24.000000  14.143776  0.0  12.0  24.0  36.0  48.0   8623.0   \n",
       "\n",
       "                 ... RainToday      RainTomorrow                           \\\n",
       "           mean  ...       75%  max        count      mean       std  min   \n",
       "year             ...                                                        \n",
       "2007  12.545902  ...       1.0  1.0         61.0  0.311475  0.466940  0.0   \n",
       "2008  12.390661  ...       0.0  1.0       2270.0  0.225110  0.417747  0.0   \n",
       "2009  12.010328  ...       0.0  1.0      16789.0  0.214843  0.410726  0.0   \n",
       "2010  11.948236  ...       0.0  1.0      16782.0  0.238172  0.425978  0.0   \n",
       "2011  11.967742  ...       0.0  1.0      15407.0  0.242617  0.428679  0.0   \n",
       "2012  11.182478  ...       0.0  1.0      15409.0  0.219936  0.414217  0.0   \n",
       "2013  11.846220  ...       0.0  1.0      16415.0  0.211087  0.408093  0.0   \n",
       "2014  12.323360  ...       0.0  1.0      17885.0  0.198882  0.399170  0.0   \n",
       "2015  11.951138  ...       0.0  1.0      17885.0  0.203970  0.402958  0.0   \n",
       "2016  12.406167  ...       0.0  1.0      17934.0  0.233244  0.422908  0.0   \n",
       "2017  13.544265  ...       0.0  1.0       8623.0  0.204453  0.403325  0.0   \n",
       "\n",
       "                          \n",
       "      25%  50%  75%  max  \n",
       "year                      \n",
       "2007  0.0  0.0  1.0  1.0  \n",
       "2008  0.0  0.0  0.0  1.0  \n",
       "2009  0.0  0.0  0.0  1.0  \n",
       "2010  0.0  0.0  0.0  1.0  \n",
       "2011  0.0  0.0  0.0  1.0  \n",
       "2012  0.0  0.0  0.0  1.0  \n",
       "2013  0.0  0.0  0.0  1.0  \n",
       "2014  0.0  0.0  0.0  1.0  \n",
       "2015  0.0  0.0  0.0  1.0  \n",
       "2016  0.0  0.0  0.0  1.0  \n",
       "2017  0.0  0.0  0.0  1.0  \n",
       "\n",
       "[11 rows x 176 columns]"
      ]
     },
     "execution_count": 14,
     "metadata": {},
     "output_type": "execute_result"
    }
   ],
   "source": [
    "gb = dataset.groupby('year')\n",
    "print(\"Tipo gb :\",type(gb))\n",
    "gb.describe()"
   ]
  },
  {
   "cell_type": "code",
   "execution_count": 15,
   "id": "1f9809e7",
   "metadata": {},
   "outputs": [
    {
     "data": {
      "text/plain": [
       "<AxesSubplot:ylabel='RainToday'>"
      ]
     },
     "execution_count": 15,
     "metadata": {},
     "output_type": "execute_result"
    },
    {
     "data": {
      "image/png": "[encoded data removed]",
      "text/plain": [
       "<Figure size 432x288 with 1 Axes>"
      ]
     },
     "metadata": {},
     "output_type": "display_data"
    }
   ],
   "source": [
    "dataset['RainToday'].value_counts().plot.pie(autopct='%1.1f%%')"
   ]
  },
  {
   "cell_type": "code",
   "execution_count": 16,
   "id": "f38ccb4a",
   "metadata": {},
   "outputs": [
    {
     "data": {
      "text/plain": [
       "[<matplotlib.lines.Line2D at 0x7ff4750b2c40>]"
      ]
     },
     "execution_count": 16,
     "metadata": {},
     "output_type": "execute_result"
    },
    {
     "data": {
      "image/png": "[encoded data removed]",
      "text/plain": [
       "<Figure size 432x288 with 1 Axes>"
      ]
     },
     "metadata": {
      "needs_background": "light"
     },
     "output_type": "display_data"
    }
   ],
   "source": [
    "plt.plot(gb['Rainfall'].mean())"
   ]
  },
  {
   "cell_type": "code",
   "execution_count": 17,
   "id": "213d6c26",
   "metadata": {},
   "outputs": [
    {
     "data": {
      "text/plain": [
       "Text(0.5, 0, 'year')"
      ]
     },
     "execution_count": 17,
     "metadata": {},
     "output_type": "execute_result"
    },
    {
     "data": {
      "image/png": "[encoded data removed]",
      "text/plain": [
       "<Figure size 1440x720 with 2 Axes>"
      ]
     },
     "metadata": {
      "needs_background": "light"
     },
     "output_type": "display_data"
    }
   ],
   "source": [
    "plt.figure(figsize=(20, 10))\n",
    "\n",
    "plt.subplot(2, 3, 1)\n",
    "plt.title('mintemp')\n",
    "plt.plot(gb['MinTemp'].mean(), label=\"mintemp\", color='gray')\n",
    "plt.ylabel('temp')\n",
    "plt.xlabel('Year')\n",
    "\n",
    "plt.subplot(2, 3, 2)\n",
    "plt.title('maxtemp')\n",
    "plt.plot(gb['MaxTemp'].mean(), label=\"maxtemp\", color='red')\n",
    "plt.ylabel('temp')\n",
    "plt.xlabel('year')"
   ]
  },
  {
   "cell_type": "code",
   "execution_count": 18,
   "id": "22981bff",
   "metadata": {},
   "outputs": [
    {
     "data": {
      "text/plain": [
       "<AxesSubplot:xlabel='RainTomorrow', ylabel='count'>"
      ]
     },
     "execution_count": 18,
     "metadata": {},
     "output_type": "execute_result"
    },
    {
     "data": {
      "image/png": "[encoded data removed]",
      "text/plain": [
       "<Figure size 432x288 with 1 Axes>"
      ]
     },
     "metadata": {
      "needs_background": "light"
     },
     "output_type": "display_data"
    }
   ],
   "source": [
    "cols= [\"#C2C4E2\",\"#EED4E5\"]\n",
    "sns.countplot(x= dataset[\"RainTomorrow\"], palette= cols)"
   ]
  },
  {
   "cell_type": "code",
   "execution_count": 19,
   "id": "f77c9c35",
   "metadata": {},
   "outputs": [
    {
     "data": {
      "text/plain": [
       "<AxesSubplot:xlabel='RainToday', ylabel='count'>"
      ]
     },
     "execution_count": 19,
     "metadata": {},
     "output_type": "execute_result"
    },
    {
     "data": {
      "image/png": "[encoded data removed]",
      "text/plain": [
       "<Figure size 432x288 with 1 Axes>"
      ]
     },
     "metadata": {
      "needs_background": "light"
     },
     "output_type": "display_data"
    }
   ],
   "source": [
    "sns.countplot(x= dataset[\"RainToday\"], palette= cols)"
   ]
  },
  {
   "cell_type": "markdown",
   "id": "985eaeed",
   "metadata": {},
   "source": [
    "### Correlazione tra i dati"
   ]
  },
  {
   "cell_type": "markdown",
   "id": "28f839ab",
   "metadata": {},
   "source": [
    "Annulliamo i valori sulla diagonale per rendere corretta la lettura della correlazione."
   ]
  },
  {
   "cell_type": "code",
   "execution_count": 20,
   "id": "289028d3",
   "metadata": {},
   "outputs": [],
   "source": [
    "corr = dataset.corr().replace(1,0)"
   ]
  },
  {
   "cell_type": "code",
   "execution_count": 21,
   "id": "8c33f031",
   "metadata": {},
   "outputs": [
    {
     "data": {
      "text/plain": [
       "<AxesSubplot:>"
      ]
     },
     "execution_count": 21,
     "metadata": {},
     "output_type": "execute_result"
    },
    {
     "data": {
      "image/png": "[encoded data removed]",
      "text/plain": [
       "<Figure size 1440x1440 with 2 Axes>"
      ]
     },
     "metadata": {
      "needs_background": "light"
     },
     "output_type": "display_data"
    }
   ],
   "source": [
    "cmap = sns.diverging_palette(260,-10,s=100, l=40, n=6, as_cmap=True)\n",
    "plt.subplots(figsize=(20,20))\n",
    "sns.heatmap(corr,cmap= cmap,annot=True, square=True)"
   ]
  },
  {
   "cell_type": "markdown",
   "id": "97221f5e",
   "metadata": {},
   "source": [
    "Possiamo notare che la correlazione massima risulta essere tra MaxTemp e Temp3pm. "
   ]
  },
  {
   "cell_type": "code",
   "execution_count": 22,
   "id": "a8432cab",
   "metadata": {},
   "outputs": [],
   "source": [
    "corrRainTomorrow = corr['RainTomorrow']"
   ]
  },
  {
   "cell_type": "code",
   "execution_count": 23,
   "id": "a73ce9ad",
   "metadata": {},
   "outputs": [
    {
     "data": {
      "text/plain": [
       "(0.3979514149519119, 'Humidity3pm')"
      ]
     },
     "execution_count": 23,
     "metadata": {},
     "output_type": "execute_result"
    }
   ],
   "source": [
    "corrRainTomorrow.max(), corrRainTomorrow.index[corrRainTomorrow.argmax()]"
   ]
  },
  {
   "cell_type": "markdown",
   "id": "d68d34ac",
   "metadata": {},
   "source": [
    "Possiamo individuare che la correlazione maggiore sulla viariabile RainTomorrow è 'Humidity3pm'."
   ]
  },
  {
   "cell_type": "markdown",
   "id": "b8a139d4",
   "metadata": {},
   "source": [
    "## Selezione feature rilevanti"
   ]
  },
  {
   "cell_type": "markdown",
   "id": "8c3b7048",
   "metadata": {},
   "source": [
    "Ai fini dell'elaborazione dei dati del dataframe possiamo notare che abbiamo ancora delle feature non rilevanti; infatti eliminiamo la feature year, in quanto utile soltanto per la rappresentazione dei dati. \n",
    "\n",
    "Per poi successivamente suddividere il dataset in:\n",
    "1. y, come la variabile da predirre.\n",
    "2. X, come dataset delle feature."
   ]
  },
  {
   "cell_type": "code",
   "execution_count": 24,
   "id": "c281b653",
   "metadata": {},
   "outputs": [],
   "source": [
    "X = dataset.drop(['year', 'RainTomorrow'], axis=1)\n",
    "\n",
    "y = dataset['RainTomorrow']"
   ]
  },
  {
   "cell_type": "markdown",
   "id": "0d6081e7",
   "metadata": {},
   "source": [
    "Dopo aver estratto i dati suddividiamo il dataset per ottenere una miglior predizione e prestazione, grazie alla ridotta quantità di dati utilizata.\n",
    "\n",
    "Scegliamo di utilizzare regressione logistica in quanto più concerne alla predizione di variabili binarie, cioè la nostra 'RainTomorrow'."
   ]
  },
  {
   "cell_type": "code",
   "execution_count": 25,
   "id": "d3d52256",
   "metadata": {},
   "outputs": [],
   "source": [
    "from sklearn.model_selection import train_test_split\n",
    "X_train, X_val, y_train, y_val = train_test_split(X, y, test_size=1/3, random_state=42)"
   ]
  },
  {
   "cell_type": "markdown",
   "id": "edf11673",
   "metadata": {},
   "source": [
    "## Creazione ed addestramento dei modelli\n",
    "\n",
    "Individuiamo il training set e il validation set partendo da X e y creati nelle celle precedenti.\n",
    "Successivamente addestiamo il modello utilizzando Perceptron, standardizzando i dati con StandardScaler, utilizzando il metodo fit."
   ]
  },
  {
   "cell_type": "markdown",
   "id": "a573b401",
   "metadata": {},
   "source": [
    "### Perceptron"
   ]
  },
  {
   "cell_type": "code",
   "execution_count": 26,
   "id": "19316673",
   "metadata": {},
   "outputs": [
    {
     "name": "stdout",
     "output_type": "stream",
     "text": [
      "Accuratezza sul trainining: 73.61%\n",
      "Accuratezza sul validation: 73.56%\n"
     ]
    }
   ],
   "source": [
    "from sklearn.linear_model import Perceptron\n",
    "from sklearn.preprocessing import StandardScaler\n",
    "from sklearn.pipeline import Pipeline\n",
    "\n",
    "# Perceptron with standard scaler\n",
    "std_perceptron = Pipeline([\n",
    "    ('std', StandardScaler()),\n",
    "    ('perceptron', Perceptron(max_iter=8000, tol=1e-3, early_stopping=True, alpha=0.0001, n_jobs=-1))\n",
    "])\n",
    "\n",
    "std_perceptron.fit(X_train, y_train)\n",
    "print('Accuratezza sul trainining: {:.2f}%'.format(std_perceptron.score(X_train, y_train)*100))\n",
    "print('Accuratezza sul validation: {:.2f}%'.format(std_perceptron.score(X_val, y_val)*100))"
   ]
  },
  {
   "cell_type": "markdown",
   "id": "d0d11c7e",
   "metadata": {},
   "source": [
    "Nella cella seguente mostriamo la differenza di accuratezza utilizzando una GridSearch per determinare i parametri migliori:"
   ]
  },
  {
   "cell_type": "code",
   "execution_count": 27,
   "id": "64dd7b04",
   "metadata": {},
   "outputs": [
    {
     "name": "stdout",
     "output_type": "stream",
     "text": [
      "{'perceptron__alpha': 0.01, 'perceptron__penalty': 'l1', 'perceptron__tol': 1e-09, 'std': None}\n",
      "Best score: 54.2331%\n"
     ]
    }
   ],
   "source": [
    "from sklearn.model_selection import GridSearchCV\n",
    "from sklearn import metrics\n",
    "\n",
    "std_perceptron = Pipeline([\n",
    "    ('std', StandardScaler()),\n",
    "    ('perceptron', Perceptron(n_jobs=-1, early_stopping=True, n_iter_no_change=5))\n",
    "])\n",
    "\n",
    "parameters = {\n",
    "    'std': [None, StandardScaler()],\n",
    "    'perceptron__penalty': [None, 'l1', 'l2', 'elasticnet'],\n",
    "    'perceptron__alpha': [0.0001, 0.001, 0.01, 1],\n",
    "    'perceptron__tol': [1e-9, 1e-6, 1e-3, 1, 1e3, 1e6],\n",
    "}\n",
    "\n",
    "perceptron_cv = GridSearchCV(std_perceptron, parameters, cv=5, n_jobs=-1, scoring='f1')\n",
    "perceptron_cv.fit(X_train, y_train)\n",
    "print(perceptron_cv.best_params_)  \n",
    "print('Best score: {:.4f}%'.format(round(perceptron_cv.best_score_ * 100, 4)))"
   ]
  },
  {
   "cell_type": "markdown",
   "id": "7a76a15f",
   "metadata": {},
   "source": [
    "Successivamente valutiamo, attraverso la Confiusion Matrix, la qualità delle previsioni del modello."
   ]
  },
  {
   "cell_type": "code",
   "execution_count": 28,
   "id": "35b22c03",
   "metadata": {},
   "outputs": [],
   "source": [
    "from sklearn.metrics import confusion_matrix"
   ]
  },
  {
   "cell_type": "code",
   "execution_count": 29,
   "id": "b14a22ce",
   "metadata": {},
   "outputs": [
    {
     "data": {
      "text/plain": [
       "<AxesSubplot:>"
      ]
     },
     "execution_count": 29,
     "metadata": {},
     "output_type": "execute_result"
    },
    {
     "data": {
      "image/png": "[encoded data removed]",
      "text/plain": [
       "<Figure size 864x576 with 2 Axes>"
      ]
     },
     "metadata": {
      "needs_background": "light"
     },
     "output_type": "display_data"
    }
   ],
   "source": [
    "cmap1 = sns.diverging_palette(260,-10,s=50, l=75, n=5, as_cmap=True)\n",
    "plt.subplots(figsize=(12,8))\n",
    "\n",
    "cf_matrix = confusion_matrix(y_val, perceptron_cv.predict(X_val))\n",
    "sns.heatmap(cf_matrix/np.sum(cf_matrix), cmap = cmap1, annot = True, annot_kws = {'size':15})"
   ]
  },
  {
   "cell_type": "code",
   "execution_count": 30,
   "id": "1632d97b",
   "metadata": {},
   "outputs": [
    {
     "name": "stdout",
     "output_type": "stream",
     "text": [
      "              precision    recall  f1-score   support\n",
      "\n",
      "           0       0.87      0.87      0.87     37737\n",
      "           1       0.54      0.54      0.54     10750\n",
      "\n",
      "    accuracy                           0.80     48487\n",
      "   macro avg       0.70      0.70      0.70     48487\n",
      "weighted avg       0.79      0.80      0.79     48487\n",
      "\n"
     ]
    }
   ],
   "source": [
    "from sklearn.metrics import classification_report\n",
    "\n",
    "pred = perceptron_cv.predict(X_val)\n",
    "print(classification_report(y_val, pred))"
   ]
  },
  {
   "cell_type": "markdown",
   "id": "3f6cf137",
   "metadata": {},
   "source": [
    "Dalle statistiche della cella precedente possiamo determinare: \n",
    "1. precision: è la percentuale delle previsioni positive corrette (TP) sul totale delle previsioni positive del     modello (giuste TP o sbagliate FP).\n",
    "\n",
    "    $$ P R = \\frac{T P} {T P + F P}$$ <br>\n",
    "    \n",
    "2. recall o sensitivity: la percentuale delle previsioni positive corrette (TP) sul totale delle istanze positive (i positivi TP ed i falsi negativi FN), varia da 0 a 1.\n",
    "\n",
    "    $$ R e c a l l =\\frac{T P} {T P + F N} $$ <br>\n",
    "    \n",
    "3. f1-score: media armonica delle metriche Precision e Recall.\n",
    "\n",
    "    $$ F S = \\frac{2 ⋅ R e c a l l ⋅ P r e c i s i o n}{ R e c a l l + P r e c i s i o n}$$ <br>"
   ]
  },
  {
   "cell_type": "code",
   "execution_count": 31,
   "id": "90f9dc90",
   "metadata": {},
   "outputs": [
    {
     "name": "stdout",
     "output_type": "stream",
     "text": [
      "              precision    recall  f1-score   support\n",
      "\n",
      "           0       0.87      0.87      0.87     37737\n",
      "           1       0.54      0.54      0.54     10750\n",
      "\n",
      "    accuracy                           0.80     48487\n",
      "   macro avg       0.70      0.70      0.70     48487\n",
      "weighted avg       0.79      0.80      0.79     48487\n",
      "\n"
     ]
    }
   ],
   "source": [
    "pred = perceptron_cv.predict(X_val)\n",
    "print(classification_report(y_val, pred))"
   ]
  },
  {
   "cell_type": "code",
   "execution_count": 32,
   "id": "944bcb33",
   "metadata": {},
   "outputs": [],
   "source": [
    "def best_params(model):\n",
    "    print('Parametri migliori:', model.best_params_)  \n",
    "    print('Miglior train score: {:.4f}%\\nMiglior validation score: {:.4f}%'.format(round(model.best_score_ * 100, 4), round(model.score(X_val, y_val)*100, 4)))"
   ]
  },
  {
   "cell_type": "markdown",
   "id": "c06d182f",
   "metadata": {},
   "source": [
    "## Perceptron con Polynomial Features"
   ]
  },
  {
   "cell_type": "code",
   "execution_count": 33,
   "id": "9857fbdb",
   "metadata": {},
   "outputs": [
    {
     "data": {
      "text/plain": [
       "GridSearchCV(cv=5,\n",
       "             estimator=Pipeline(steps=[('poly', PolynomialFeatures()),\n",
       "                                       ('std', StandardScaler()),\n",
       "                                       ('perceptron',\n",
       "                                        Perceptron(early_stopping=True,\n",
       "                                                   n_jobs=-1))]),\n",
       "             n_jobs=-1,\n",
       "             param_grid={'perceptron__alpha': [0.0001, 0.001, 0.01],\n",
       "                         'perceptron__penalty': ['l1', 'l2'],\n",
       "                         'perceptron__tol': [1e-09, 1e-06, 0.001, 1]},\n",
       "             return_train_score=True, scoring='f1')"
      ]
     },
     "execution_count": 33,
     "metadata": {},
     "output_type": "execute_result"
    }
   ],
   "source": [
    "from sklearn.preprocessing import PolynomialFeatures\n",
    "\n",
    "poly_perceptron = Pipeline([\n",
    "    ('poly', PolynomialFeatures(degree=2)),\n",
    "    ('std', StandardScaler()),\n",
    "    ('perceptron', Perceptron(n_jobs=-1, early_stopping=True, n_iter_no_change=5))\n",
    "])\n",
    "\n",
    "parameters = {\n",
    "    'perceptron__penalty': ['l1', 'l2'],\n",
    "    'perceptron__alpha': [0.0001, 0.001, 0.01],\n",
    "    'perceptron__tol': [1e-9, 1e-6, 1e-3, 1],\n",
    "}\n",
    "\n",
    "poly_perceptron_cv = GridSearchCV(poly_perceptron, parameters, cv=5, n_jobs=-1, return_train_score=True, scoring='f1')\n",
    "poly_perceptron_cv.fit(X_train, y_train)"
   ]
  },
  {
   "cell_type": "code",
   "execution_count": 34,
   "id": "b6144bf3",
   "metadata": {},
   "outputs": [
    {
     "name": "stdout",
     "output_type": "stream",
     "text": [
      "Parametri migliori: {'perceptron__alpha': 0.01, 'perceptron__penalty': 'l1', 'perceptron__tol': 1e-09}\n",
      "Miglior train score: 49.7116%\n",
      "Miglior validation score: 43.0792%\n"
     ]
    }
   ],
   "source": [
    "best_params(poly_perceptron_cv)"
   ]
  },
  {
   "cell_type": "code",
   "execution_count": 35,
   "id": "3187ec65",
   "metadata": {},
   "outputs": [
    {
     "data": {
      "text/plain": [
       "<AxesSubplot:>"
      ]
     },
     "execution_count": 35,
     "metadata": {},
     "output_type": "execute_result"
    },
    {
     "data": {
      "image/png": "[encoded data removed]",
      "text/plain": [
       "<Figure size 864x576 with 2 Axes>"
      ]
     },
     "metadata": {
      "needs_background": "light"
     },
     "output_type": "display_data"
    }
   ],
   "source": [
    "cmap1 = sns.diverging_palette(260,-10,s=50, l=75, n=5, as_cmap=True)\n",
    "plt.subplots(figsize=(12,8))\n",
    "cf_matrix = confusion_matrix(y_val, poly_perceptron_cv.predict(X_val))\n",
    "sns.heatmap(cf_matrix/np.sum(cf_matrix), cmap = cmap1, annot = True, annot_kws = {'size':15})"
   ]
  },
  {
   "cell_type": "markdown",
   "id": "e2c57932",
   "metadata": {},
   "source": [
    "Determiniamo l'intervallo di confinfidenza, cioè stimiamo l'intervallo di valori probabili per un determinato parametro. "
   ]
  },
  {
   "cell_type": "code",
   "execution_count": 36,
   "id": "d51aabcf",
   "metadata": {},
   "outputs": [],
   "source": [
    "from statsmodels.stats.proportion import proportion_confint\n",
    "\n",
    "def confidence_interval(instance, acc, confidence):    \n",
    "    return proportion_confint(instance * acc, instance, 1-confidence/100, method='wilson')"
   ]
  },
  {
   "cell_type": "code",
   "execution_count": 37,
   "id": "216f5f33",
   "metadata": {},
   "outputs": [
    {
     "data": {
      "text/plain": [
       "48     1.428254\n",
       "217    1.208072\n",
       "154    1.160586\n",
       "dtype: float64"
      ]
     },
     "execution_count": 37,
     "metadata": {},
     "output_type": "execute_result"
    }
   ],
   "source": [
    "pd.Series(poly_perceptron_cv.best_estimator_[2].coef_[0]).nlargest(3) "
   ]
  },
  {
   "cell_type": "markdown",
   "id": "d10d173e",
   "metadata": {},
   "source": [
    "L'aggiunta di features polinomiale peggiora lo stato del modello, possiamo osservare che le features importanti per il modello sono una combinazione delle features originali, per cui, esse non determinano un miglioramento della valutazione semantica del modello."
   ]
  },
  {
   "cell_type": "code",
   "execution_count": 38,
   "id": "2c3c9cce",
   "metadata": {},
   "outputs": [
    {
     "name": "stdout",
     "output_type": "stream",
     "text": [
      "Intervallo di confidenza 95%: \n",
      "Pmin = 42.6390%\n",
      "Pmax = 43.5204%\n"
     ]
    }
   ],
   "source": [
    "confidence = 95\n",
    "pmin, pmax = confidence_interval(len(X_val), poly_perceptron_cv.score(X_val, y_val), confidence)\n",
    "\n",
    "print('Intervallo di confidenza {}%: \\nPmin = {:.4f}%\\nPmax = {:.4f}%'.format(confidence, pmin*100, pmax*100))"
   ]
  },
  {
   "cell_type": "code",
   "execution_count": 39,
   "id": "4c00173e",
   "metadata": {},
   "outputs": [],
   "source": [
    "pred_perceptron = poly_perceptron_cv.predict(X_val)"
   ]
  },
  {
   "cell_type": "markdown",
   "id": "98d3555b",
   "metadata": {},
   "source": [
    "Utilizziamo ora la Regressione Logistica per determinare la probabilità di 'RainTomorrow', attraverso una trasformazione logit sulla probabilità. "
   ]
  },
  {
   "cell_type": "code",
   "execution_count": 40,
   "id": "a67f82a9",
   "metadata": {},
   "outputs": [
    {
     "data": {
      "text/plain": [
       "GridSearchCV(cv=5,\n",
       "             estimator=Pipeline(steps=[('std', StandardScaler()),\n",
       "                                       ('lr', LogisticRegression())]),\n",
       "             n_jobs=-1,\n",
       "             param_grid={'lr__C': [1, 0.8, 0.3],\n",
       "                         'lr__solver': ['liblinear', 'saga'],\n",
       "                         'lr__tol': [1e-09, 1e-06, 0.001, 0.01, 0.1, 1]},\n",
       "             return_train_score=True, scoring='f1')"
      ]
     },
     "execution_count": 40,
     "metadata": {},
     "output_type": "execute_result"
    }
   ],
   "source": [
    "from sklearn.linear_model import LogisticRegression\n",
    "from sklearn.preprocessing import StandardScaler\n",
    "from sklearn.pipeline import Pipeline\n",
    "\n",
    "standard_logisticregression = Pipeline([\n",
    "    ('std', StandardScaler()),\n",
    "    ('lr', LogisticRegression(dual=False))\n",
    "])\n",
    "\n",
    "parameters = {\n",
    "    'lr__tol': [1e-9, 1e-6, 1e-3, 1e-2, 1e-1, 1],\n",
    "    'lr__C': [1, 0.8, 0.3],\n",
    "    'lr__solver': ['liblinear', 'saga']\n",
    "}\n",
    "\n",
    "logisticregression_with_gridsearch = GridSearchCV(standard_logisticregression, parameters, cv=5, n_jobs=-1, return_train_score=True, scoring='f1')\n",
    "logisticregression_with_gridsearch.fit(X_train, y_train)"
   ]
  },
  {
   "cell_type": "code",
   "execution_count": 41,
   "id": "4f78ba62",
   "metadata": {},
   "outputs": [
    {
     "name": "stdout",
     "output_type": "stream",
     "text": [
      "Parametri migliori: {'lr__C': 0.8, 'lr__solver': 'saga', 'lr__tol': 0.1}\n",
      "Miglior train score: 53.3607%\n",
      "Miglior validation score: 53.7855%\n"
     ]
    }
   ],
   "source": [
    "best_params(logisticregression_with_gridsearch)"
   ]
  },
  {
   "cell_type": "code",
   "execution_count": 42,
   "id": "7c64de76",
   "metadata": {},
   "outputs": [
    {
     "name": "stdout",
     "output_type": "stream",
     "text": [
      "Intervallo di confidenza 95%: \n",
      "Pmin = 53.3415%\n",
      "Pmax = 54.2290%\n"
     ]
    }
   ],
   "source": [
    "confidence = 95\n",
    "pmin, pmax = confidence_interval(len(X_val), logisticregression_with_gridsearch.score(X_val, y_val), confidence)\n",
    "\n",
    "print('Intervallo di confidenza {}%: \\nPmin = {:.4f}%\\nPmax = {:.4f}%'.format(confidence, pmin*100, pmax*100))"
   ]
  },
  {
   "cell_type": "markdown",
   "id": "c3103ca9",
   "metadata": {},
   "source": [
    "Cerchiamo le Features maggiormente rilevanti per determinare RainTomorrow."
   ]
  },
  {
   "cell_type": "code",
   "execution_count": 43,
   "id": "705dc25d",
   "metadata": {},
   "outputs": [
    {
     "data": {
      "text/plain": [
       "Humidity3pm      0.908956\n",
       "WindGustSpeed    0.570563\n",
       "MaxTemp          0.408268\n",
       "dtype: float64"
      ]
     },
     "execution_count": 43,
     "metadata": {},
     "output_type": "execute_result"
    }
   ],
   "source": [
    "pd.Series(logisticregression_with_gridsearch.best_estimator_[1].coef_[0], index=X_train.columns).nlargest(3)"
   ]
  },
  {
   "cell_type": "markdown",
   "id": "1d2562f0",
   "metadata": {},
   "source": [
    "Possiamo infatti notare che, come già visto in precedenza, una delle feature più determinanti è l'umidità alle 3 di pomeriggio del giorno prima; ma anche la velocità del vento influenza la nostra variabile target, dato che il vento permette lo spostamento delle nuvole e modifica la probabilità di pioggia in una determinata locazione geografica.\n",
    "In fine anche la temperatura massima influenza la probailità di pioggia."
   ]
  },
  {
   "cell_type": "code",
   "execution_count": 44,
   "id": "09756fee",
   "metadata": {},
   "outputs": [
    {
     "data": {
      "text/plain": [
       "<AxesSubplot:>"
      ]
     },
     "execution_count": 44,
     "metadata": {},
     "output_type": "execute_result"
    },
    {
     "data": {
      "image/png": "[encoded data removed]",
      "text/plain": [
       "<Figure size 864x576 with 2 Axes>"
      ]
     },
     "metadata": {
      "needs_background": "light"
     },
     "output_type": "display_data"
    }
   ],
   "source": [
    "plt.subplots(figsize=(12,8))\n",
    "cf_matrix = confusion_matrix(y_val, logisticregression_with_gridsearch.predict(X_val))\n",
    "sns.heatmap(cf_matrix/np.sum(cf_matrix), cmap = cmap1, annot = True, annot_kws = {'size':15})"
   ]
  },
  {
   "cell_type": "code",
   "execution_count": 45,
   "id": "f9006d39",
   "metadata": {},
   "outputs": [],
   "source": [
    "predLogisticRegression = logisticregression_with_gridsearch.predict(X_val)"
   ]
  },
  {
   "cell_type": "markdown",
   "id": "c7eca0d3",
   "metadata": {},
   "source": [
    "## Cross-Validation con k-fold"
   ]
  },
  {
   "cell_type": "code",
   "execution_count": 46,
   "id": "510b65b0",
   "metadata": {},
   "outputs": [
    {
     "name": "stdout",
     "output_type": "stream",
     "text": [
      "0    25440\n",
      "1     6885\n",
      "Name: RainTomorrow, dtype: int64\n",
      "0    25235\n",
      "1     7089\n",
      "Name: RainTomorrow, dtype: int64\n",
      "0    25171\n",
      "1     7153\n",
      "Name: RainTomorrow, dtype: int64\n"
     ]
    }
   ],
   "source": [
    "from sklearn.model_selection import KFold, StratifiedKFold\n",
    "kf = KFold(3, shuffle=True, random_state=42)\n",
    "skf = StratifiedKFold(3, shuffle=True, random_state=42)\n",
    "# KFold\n",
    "for train, val in kf.split(X_train, y_train):\n",
    "    print(y_train.iloc[val].value_counts())"
   ]
  },
  {
   "cell_type": "markdown",
   "id": "71131b1d",
   "metadata": {},
   "source": [
    "## Random Forest"
   ]
  },
  {
   "cell_type": "code",
   "execution_count": 47,
   "id": "ddee8920",
   "metadata": {},
   "outputs": [
    {
     "data": {
      "text/plain": [
       "GridSearchCV(cv=StratifiedKFold(n_splits=3, random_state=42, shuffle=True),\n",
       "             estimator=Pipeline(steps=[('std', StandardScaler()),\n",
       "                                       ('rfc',\n",
       "                                        RandomForestClassifier(n_jobs=-1,\n",
       "                                                               random_state=3))]),\n",
       "             n_jobs=-1,\n",
       "             param_grid={'rfc__max_depth': [2, 4, 6, 8],\n",
       "                         'rfc__min_samples_leaf': [1, 2, 4],\n",
       "                         'rfc__min_samples_split': [2, 5, 10],\n",
       "                         'rfc__n_estimators': [100, 200]},\n",
       "             return_train_score=True, scoring='f1')"
      ]
     },
     "execution_count": 47,
     "metadata": {},
     "output_type": "execute_result"
    }
   ],
   "source": [
    "from sklearn.ensemble import RandomForestClassifier\n",
    "from sklearn.metrics import classification_report\n",
    "\n",
    "rfc = Pipeline([\n",
    "    ('std', StandardScaler()),\n",
    "    ('rfc', RandomForestClassifier(n_jobs=-1, random_state=3))\n",
    "])\n",
    "\n",
    "parameters = {\n",
    "    'rfc__n_estimators': [100, 200],\n",
    "    'rfc__max_depth': [2, 4, 6, 8],\n",
    "    'rfc__min_samples_leaf': [1, 2, 4],\n",
    "    'rfc__min_samples_split': [2, 5, 10],\n",
    "}\n",
    "    \n",
    "\n",
    "random_forest_with_gridsearch = GridSearchCV(rfc, parameters, cv=skf, n_jobs=-1, return_train_score=True, scoring='f1')\n",
    "random_forest_with_gridsearch.fit(X_train, y_train)"
   ]
  },
  {
   "cell_type": "code",
   "execution_count": 48,
   "id": "c80ca664",
   "metadata": {},
   "outputs": [
    {
     "name": "stdout",
     "output_type": "stream",
     "text": [
      "Parametri migliori: {'rfc__max_depth': 8, 'rfc__min_samples_leaf': 4, 'rfc__min_samples_split': 10, 'rfc__n_estimators': 100}\n",
      "Miglior train score: 53.9424%\n",
      "Miglior validation score: 54.1765%\n"
     ]
    }
   ],
   "source": [
    "best_params(random_forest_with_gridsearch)"
   ]
  },
  {
   "cell_type": "code",
   "execution_count": 49,
   "id": "1694cced",
   "metadata": {},
   "outputs": [
    {
     "name": "stdout",
     "output_type": "stream",
     "text": [
      "Intervalo di confidenza 95%: \n",
      "Pmin = 53.7327%\n",
      "Pmax = 54.6197%\n"
     ]
    },
    {
     "data": {
      "text/plain": [
       "<AxesSubplot:>"
      ]
     },
     "execution_count": 49,
     "metadata": {},
     "output_type": "execute_result"
    },
    {
     "data": {
      "image/png": "[encoded data removed]",
      "text/plain": [
       "<Figure size 864x576 with 2 Axes>"
      ]
     },
     "metadata": {
      "needs_background": "light"
     },
     "output_type": "display_data"
    }
   ],
   "source": [
    "confidence = 95\n",
    "lower, upper = confidence_interval(len(X_val), random_forest_with_gridsearch.score(X_val, y_val), confidence)\n",
    "\n",
    "print('Intervalo di confidenza {}%: \\nPmin = {:.4f}%\\nPmax = {:.4f}%'.format(confidence, lower*100, upper*100))\n",
    "\n",
    "plt.subplots(figsize=(12,8))\n",
    "cf_matrix = confusion_matrix(y_val, random_forest_with_gridsearch.predict(X_val))\n",
    "sns.heatmap(cf_matrix/np.sum(cf_matrix), cmap = cmap1, annot = True, annot_kws = {'size':15})"
   ]
  },
  {
   "cell_type": "code",
   "execution_count": 50,
   "id": "1c2467a6",
   "metadata": {},
   "outputs": [
    {
     "name": "stdout",
     "output_type": "stream",
     "text": [
      "Humidity3pm    0.362168\n",
      "Rainfall       0.109709\n",
      "RainToday      0.075146\n",
      "dtype: float64\n"
     ]
    }
   ],
   "source": [
    "rfc_imp = pd.Series(random_forest_with_gridsearch.best_estimator_[1].feature_importances_, index=X_train.columns).nlargest(3)\n",
    "print(rfc_imp)"
   ]
  },
  {
   "cell_type": "code",
   "execution_count": 64,
   "id": "2f91a4bb",
   "metadata": {},
   "outputs": [],
   "source": [
    "predRandomForest = random_forest_with_gridsearch.predict(X_val)"
   ]
  },
  {
   "cell_type": "markdown",
   "id": "798d4951",
   "metadata": {},
   "source": [
    "## XGBOOST "
   ]
  },
  {
   "cell_type": "code",
   "execution_count": 51,
   "id": "15adfde8",
   "metadata": {},
   "outputs": [
    {
     "name": "stderr",
     "output_type": "stream",
     "text": [
      "/opt/anaconda3/lib/python3.8/site-packages/xgboost/sklearn.py:888: UserWarning: The use of label encoder in XGBClassifier is deprecated and will be removed in a future release. To remove this warning, do the following: 1) Pass option use_label_encoder=False when constructing XGBClassifier object; and 2) Encode your labels (y) as integers starting with 0, i.e. 0, 1, 2, ..., [num_class - 1].\n",
      "  warnings.warn(label_encoder_deprecation_msg, UserWarning)\n"
     ]
    },
    {
     "name": "stdout",
     "output_type": "stream",
     "text": [
      "[16:58:25] WARNING: /opt/concourse/worker/volumes/live/7a2b9f41-3287-451b-6691-43e9a6c0910f/volume/xgboost-split_1619728204606/work/src/learner.cc:1061: Starting in XGBoost 1.3.0, the default evaluation metric used with the objective 'binary:logistic' was changed from 'error' to 'logloss'. Explicitly set eval_metric if you'd like to restore the old behavior.\n"
     ]
    },
    {
     "data": {
      "text/plain": [
       "GridSearchCV(cv=StratifiedKFold(n_splits=3, random_state=42, shuffle=True),\n",
       "             estimator=Pipeline(steps=[('std', StandardScaler()),\n",
       "                                       ('xgb',\n",
       "                                        XGBClassifier(base_score=None,\n",
       "                                                      booster=None,\n",
       "                                                      colsample_bylevel=None,\n",
       "                                                      colsample_bynode=None,\n",
       "                                                      colsample_bytree=None,\n",
       "                                                      gamma=None, gpu_id=None,\n",
       "                                                      importance_type='gain',\n",
       "                                                      interaction_constraints=None,\n",
       "                                                      learning_rate=None,\n",
       "                                                      max_delta_step=...\n",
       "                                                      n_jobs=None, nthread=8,\n",
       "                                                      num_parallel_tree=None,\n",
       "                                                      random_state=None,\n",
       "                                                      reg_alpha=None,\n",
       "                                                      reg_lambda=None,\n",
       "                                                      scale_pos_weight=None,\n",
       "                                                      subsample=None,\n",
       "                                                      tree_method=None,\n",
       "                                                      validate_parameters=None,\n",
       "                                                      verbosity=None))]),\n",
       "             n_jobs=-1,\n",
       "             param_grid={'xgb__alpha': [0.0001, 0.001],\n",
       "                         'xgb__eta': [0.002, 0.1, 0.5], 'xgb__max_depth': [6],\n",
       "                         'xgb__n_estimators': [150, 300]},\n",
       "             return_train_score=True, scoring='accuracy')"
      ]
     },
     "execution_count": 51,
     "metadata": {},
     "output_type": "execute_result"
    }
   ],
   "source": [
    "from xgboost import XGBClassifier\n",
    "from sklearn.preprocessing import StandardScaler\n",
    "from sklearn.pipeline import Pipeline\n",
    "\n",
    "std_xgb = Pipeline([\n",
    "    ('std', StandardScaler()),\n",
    "    ('xgb', XGBClassifier(nthread=8, objective='binary:logistic'))\n",
    "])\n",
    "\n",
    "parameters = {\n",
    "    'xgb__eta': [0.002, 0.1, 0.5],\n",
    "    #'xgb__min_child_weight': [4, 10],\n",
    "    'xgb__max_depth': [6],\n",
    "    'xgb__n_estimators': [150, 300],\n",
    "    'xgb__alpha': [0.0001, 0.001]\n",
    "}\n",
    "\n",
    "xgboost_gridsearch = GridSearchCV(std_xgb, parameters, cv=skf, n_jobs=-1, return_train_score=True, scoring='accuracy')\n",
    "xgboost_gridsearch.fit(X_train, y_train)"
   ]
  },
  {
   "cell_type": "code",
   "execution_count": 52,
   "id": "a7e64f45",
   "metadata": {},
   "outputs": [
    {
     "name": "stdout",
     "output_type": "stream",
     "text": [
      "Parametri migliori: {'xgb__alpha': 0.001, 'xgb__eta': 0.1, 'xgb__max_depth': 6, 'xgb__n_estimators': 300}\n",
      "Miglior train score: 85.9054%\n",
      "Miglior validation score: 86.0334%\n"
     ]
    }
   ],
   "source": [
    "best_params(xgboost_gridsearch)"
   ]
  },
  {
   "cell_type": "code",
   "execution_count": 53,
   "id": "9f448227",
   "metadata": {},
   "outputs": [
    {
     "name": "stdout",
     "output_type": "stream",
     "text": [
      "Intervallo di confidenza 95%: \n",
      "Pmin = 85.7220%\n",
      "Pmax = 86.3391%\n"
     ]
    },
    {
     "data": {
      "text/plain": [
       "<AxesSubplot:>"
      ]
     },
     "execution_count": 53,
     "metadata": {},
     "output_type": "execute_result"
    },
    {
     "data": {
      "image/png": "[encoded data removed]",
      "text/plain": [
       "<Figure size 864x576 with 2 Axes>"
      ]
     },
     "metadata": {
      "needs_background": "light"
     },
     "output_type": "display_data"
    }
   ],
   "source": [
    "confidence = 95\n",
    "lower, upper = confidence_interval(len(X_val), xgboost_gridsearch.score(X_val, y_val), confidence)\n",
    "\n",
    "print('Intervallo di confidenza {}%: \\nPmin = {:.4f}%\\nPmax = {:.4f}%'.format(confidence, lower*100, upper*100))\n",
    "\n",
    "plt.subplots(figsize=(12,8))\n",
    "cf_matrix = confusion_matrix(y_val, xgboost_gridsearch.predict(X_val))\n",
    "sns.heatmap(cf_matrix/np.sum(cf_matrix), cmap = cmap1, annot = True, annot_kws = {'size':15})"
   ]
  },
  {
   "cell_type": "code",
   "execution_count": 54,
   "id": "7da3e34b",
   "metadata": {},
   "outputs": [
    {
     "name": "stdout",
     "output_type": "stream",
     "text": [
      "Humidity3pm      0.305635\n",
      "WindGustSpeed    0.078211\n",
      "Rainfall         0.074172\n",
      "dtype: float32\n"
     ]
    }
   ],
   "source": [
    "xgb_imp = pd.Series(xgboost_gridsearch.best_estimator_[1].feature_importances_, index=X_train.columns).nlargest(3)\n",
    "print(xgb_imp)"
   ]
  },
  {
   "cell_type": "code",
   "execution_count": 55,
   "id": "f58d5bfc",
   "metadata": {},
   "outputs": [],
   "source": [
    "predXGBoost = xgboost_gridsearch.predict(X_val)"
   ]
  },
  {
   "cell_type": "markdown",
   "id": "b744d30d",
   "metadata": {},
   "source": [
    "## SVM "
   ]
  },
  {
   "cell_type": "code",
   "execution_count": 56,
   "id": "ee1f99a3",
   "metadata": {},
   "outputs": [
    {
     "data": {
      "text/plain": [
       "GridSearchCV(cv=3,\n",
       "             estimator=Pipeline(steps=[('std', StandardScaler()),\n",
       "                                       ('svm', SVC())]),\n",
       "             n_jobs=-1,\n",
       "             param_grid={'svm__C': [0.01, 0.1, 1], 'svm__kernel': ['rbf']},\n",
       "             return_train_score=True, scoring='f1')"
      ]
     },
     "execution_count": 56,
     "metadata": {},
     "output_type": "execute_result"
    }
   ],
   "source": [
    "from sklearn.svm import SVC\n",
    "from sklearn.preprocessing import StandardScaler\n",
    "from sklearn.pipeline import Pipeline\n",
    "\n",
    "std_svm = Pipeline([\n",
    "    ('std', StandardScaler()),\n",
    "    ('svm', SVC())\n",
    "])\n",
    "\n",
    "parameters = {\n",
    "    'svm__kernel': ['rbf'],\n",
    "    'svm__C': [0.01, 0.1, 1],\n",
    "}\n",
    "\n",
    "svm_withgridsearch = GridSearchCV(std_svm, parameters, cv=3, n_jobs=-1, return_train_score=True, scoring='f1')\n",
    "svm_withgridsearch.fit(X_train, y_train)"
   ]
  },
  {
   "cell_type": "code",
   "execution_count": 57,
   "id": "35876f1a",
   "metadata": {},
   "outputs": [
    {
     "name": "stdout",
     "output_type": "stream",
     "text": [
      "Parametri migliori: {'svm__C': 1, 'svm__kernel': 'rbf'}\n",
      "Miglior train score: 55.1118%\n",
      "Miglior validation score: 55.8549%\n"
     ]
    }
   ],
   "source": [
    "best_params(svm_withgridsearch)"
   ]
  },
  {
   "cell_type": "code",
   "execution_count": 58,
   "id": "ea2510b8",
   "metadata": {},
   "outputs": [
    {
     "name": "stdout",
     "output_type": "stream",
     "text": [
      "Intervallo di confidenza 95%: \n",
      "Pmin = 55.4124%\n",
      "Pmax = 56.2964%\n"
     ]
    },
    {
     "data": {
      "text/plain": [
       "<AxesSubplot:>"
      ]
     },
     "execution_count": 58,
     "metadata": {},
     "output_type": "execute_result"
    },
    {
     "data": {
      "image/png": "[encoded data removed]",
      "text/plain": [
       "<Figure size 864x576 with 2 Axes>"
      ]
     },
     "metadata": {
      "needs_background": "light"
     },
     "output_type": "display_data"
    }
   ],
   "source": [
    "confidence = 95\n",
    "lower, upper = confidence_interval(len(X_val), svm_withgridsearch.score(X_val, y_val), confidence)\n",
    "\n",
    "print('Intervallo di confidenza {}%: \\nPmin = {:.4f}%\\nPmax = {:.4f}%'.format(confidence, lower*100, upper*100))\n",
    "\n",
    "plt.subplots(figsize=(12,8))\n",
    "cf_matrix = confusion_matrix(y_val, svm_withgridsearch.predict(X_val))\n",
    "sns.heatmap(cf_matrix/np.sum(cf_matrix), cmap = cmap1, annot = True, annot_kws = {'size':15})"
   ]
  },
  {
   "cell_type": "code",
   "execution_count": 59,
   "id": "ab79fe81",
   "metadata": {},
   "outputs": [
    {
     "name": "stdout",
     "output_type": "stream",
     "text": [
      "WindGustSpeed    2.444927\n",
      "MaxTemp          1.482452\n",
      "WindSpeed3pm     1.286354\n",
      "dtype: float64\n"
     ]
    }
   ],
   "source": [
    "svm_imp = pd.Series(svm_withgridsearch.best_estimator_[1].support_vectors_[0], index=X_train.columns).nlargest(3)\n",
    "print(svm_imp)"
   ]
  },
  {
   "cell_type": "markdown",
   "id": "41cdef8c",
   "metadata": {},
   "source": [
    "Dalla cella precedente, possiamo notare che SVM ha individuato che la velocità della raffica di vento più forte indice sulla probiabilità che possa piovere. "
   ]
  },
  {
   "cell_type": "code",
   "execution_count": 60,
   "id": "b167d8b8",
   "metadata": {},
   "outputs": [],
   "source": [
    "predSVM = svm_withgridsearch.predict(X_val)"
   ]
  },
  {
   "cell_type": "markdown",
   "id": "fa764fc8",
   "metadata": {},
   "source": [
    "### Comparazione dei modelli"
   ]
  },
  {
   "cell_type": "markdown",
   "id": "08465382",
   "metadata": {},
   "source": [
    "Perceptron, Logistic Regresion RandomForesti e XGBOOST hanno individuato che la percentuale di umidità alle 3pm influenza la probabilità di pioggia, come abbiamo stimato tramite lo studio della correlazione tra le variabili del dataset; mentre per SVM il primo parametro che influenza la probabilità è WindGustSpeed"
   ]
  },
  {
   "cell_type": "markdown",
   "id": "f87e40a1",
   "metadata": {},
   "source": [
    "Riportiamo qui sotto i dati statici per ciascun modello: \n",
    "1. Perceptron:"
   ]
  },
  {
   "cell_type": "code",
   "execution_count": 61,
   "id": "4c3af4fb",
   "metadata": {},
   "outputs": [
    {
     "name": "stdout",
     "output_type": "stream",
     "text": [
      "              precision    recall  f1-score   support\n",
      "\n",
      "           0       0.83      0.97      0.89     37737\n",
      "           1       0.74      0.30      0.43     10750\n",
      "\n",
      "    accuracy                           0.82     48487\n",
      "   macro avg       0.78      0.64      0.66     48487\n",
      "weighted avg       0.81      0.82      0.79     48487\n",
      "\n"
     ]
    }
   ],
   "source": [
    "print(classification_report(y_val, pred_perceptron))"
   ]
  },
  {
   "cell_type": "markdown",
   "id": "bfada623",
   "metadata": {},
   "source": [
    "2. LogisticRegression: "
   ]
  },
  {
   "cell_type": "code",
   "execution_count": 62,
   "id": "7437b7f0",
   "metadata": {},
   "outputs": [
    {
     "name": "stdout",
     "output_type": "stream",
     "text": [
      "              precision    recall  f1-score   support\n",
      "\n",
      "           0       0.85      0.95      0.90     37737\n",
      "           1       0.72      0.43      0.54     10750\n",
      "\n",
      "    accuracy                           0.84     48487\n",
      "   macro avg       0.79      0.69      0.72     48487\n",
      "weighted avg       0.82      0.84      0.82     48487\n",
      "\n"
     ]
    }
   ],
   "source": [
    "print(classification_report(y_val, predLogisticRegression))"
   ]
  },
  {
   "cell_type": "markdown",
   "id": "7002d8d6",
   "metadata": {},
   "source": [
    "3. Random Forest:"
   ]
  },
  {
   "cell_type": "code",
   "execution_count": 65,
   "id": "945e9f5b",
   "metadata": {},
   "outputs": [
    {
     "name": "stdout",
     "output_type": "stream",
     "text": [
      "              precision    recall  f1-score   support\n",
      "\n",
      "           0       0.85      0.97      0.91     37737\n",
      "           1       0.78      0.41      0.54     10750\n",
      "\n",
      "    accuracy                           0.84     48487\n",
      "   macro avg       0.82      0.69      0.72     48487\n",
      "weighted avg       0.84      0.84      0.83     48487\n",
      "\n"
     ]
    }
   ],
   "source": [
    "print(classification_report(y_val, predRandomForest))"
   ]
  },
  {
   "cell_type": "markdown",
   "id": "0fed07e8",
   "metadata": {},
   "source": [
    "4.XGBoost:"
   ]
  },
  {
   "cell_type": "code",
   "execution_count": 66,
   "id": "a7bd6c42",
   "metadata": {},
   "outputs": [
    {
     "name": "stdout",
     "output_type": "stream",
     "text": [
      "              precision    recall  f1-score   support\n",
      "\n",
      "           0       0.88      0.95      0.91     37737\n",
      "           1       0.76      0.54      0.63     10750\n",
      "\n",
      "    accuracy                           0.86     48487\n",
      "   macro avg       0.82      0.75      0.77     48487\n",
      "weighted avg       0.85      0.86      0.85     48487\n",
      "\n"
     ]
    }
   ],
   "source": [
    "print(classification_report(y_val, predXGBoost))"
   ]
  },
  {
   "cell_type": "markdown",
   "id": "155526ee",
   "metadata": {},
   "source": [
    "5. SVM:"
   ]
  },
  {
   "cell_type": "code",
   "execution_count": 67,
   "id": "e3dd79e0",
   "metadata": {},
   "outputs": [
    {
     "name": "stdout",
     "output_type": "stream",
     "text": [
      "              precision    recall  f1-score   support\n",
      "\n",
      "           0       0.86      0.97      0.91     37737\n",
      "           1       0.79      0.43      0.56     10750\n",
      "\n",
      "    accuracy                           0.85     48487\n",
      "   macro avg       0.82      0.70      0.73     48487\n",
      "weighted avg       0.84      0.85      0.83     48487\n",
      "\n"
     ]
    }
   ],
   "source": [
    "print(classification_report(y_val, predSVM))"
   ]
  },
  {
   "cell_type": "markdown",
   "id": "54f6b061",
   "metadata": {},
   "source": [
    "In conclusione possiamo dedurre, analizzando i dati delle statistiche sopra riportate, che il modello più adeguato per predirre la nostra variabile target 'RainTorrow', cioè la variabile 1, è: XGBOOST. "
   ]
  }
 ],
 "metadata": {
  "kernelspec": {
   "display_name": "Python 3",
   "language": "python",
   "name": "python3"
  },
  "language_info": {
   "codemirror_mode": {
    "name": "ipython",
    "version": 3
   },
   "file_extension": ".py",
   "mimetype": "text/x-python",
   "name": "python",
   "nbconvert_exporter": "python",
   "pygments_lexer": "ipython3",
   "version": "3.8.8"
  }
 },
 "nbformat": 4,
 "nbformat_minor": 5
}
